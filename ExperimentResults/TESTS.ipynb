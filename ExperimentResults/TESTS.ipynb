{
 "cells": [
  {
   "cell_type": "code",
   "execution_count": 1,
   "metadata": {},
   "outputs": [],
   "source": [
    "import numpy as np\n",
    "import math\n",
    "import matplotlib.pyplot as plt\n",
    "import pandas as pd "
   ]
  },
  {
   "cell_type": "code",
   "execution_count": 2,
   "metadata": {},
   "outputs": [
    {
     "name": "stdout",
     "output_type": "stream",
     "text": [
      "   COMPUTER  HUMAN\n",
      "0        32     32\n",
      "1        35      7\n",
      "2        19     11\n",
      "3        35     29\n",
      "4        35     28\n",
      "5        14     50\n",
      "6        31     33\n",
      "7        23     15\n",
      "8        21      9\n",
      "9        34     30\n",
      "AVG COMPUTER:  27.9\n",
      "AVG HUMAN:  24.4\n"
     ]
    }
   ],
   "source": [
    "df_Heuristic_1 = pd.read_csv(\"Heuristic_1.csv\",sep=';') \n",
    "print(df_Heuristic_1)\n",
    "meanComputer=df_Heuristic_1['COMPUTER'].mean()\n",
    "meanHuman=df_Heuristic_1['HUMAN'].mean()\n",
    "print(\"AVG COMPUTER: \",meanComputer)\n",
    "print(\"AVG HUMAN: \",meanHuman)"
   ]
  },
  {
   "cell_type": "code",
   "execution_count": 3,
   "metadata": {},
   "outputs": [
    {
     "data": {
      "image/png": "[encoded data removed]",
      "text/plain": [
       "<Figure size 432x288 with 1 Axes>"
      ]
     },
     "metadata": {},
     "output_type": "display_data"
    }
   ],
   "source": [
    "avgNumber = [27.9, 24.4]\n",
    "AVG = [\"AVG COMPUTER\",\"AVG HUMAN\"]\n",
    "plt.pie(avgNumber, labels=AVG, autopct=\"%0.1f %%\")\n",
    "plt.axis(\"equal\")\n",
    "plt.show()"
   ]
  },
  {
   "cell_type": "code",
   "execution_count": 4,
   "metadata": {},
   "outputs": [
    {
     "name": "stdout",
     "output_type": "stream",
     "text": [
      "    Depth_1  Depth_3  Depth_4  Depth_5\n",
      "0     0.014    0.681    0.202    1.968\n",
      "1     0.016    0.562    0.516    1.693\n",
      "2     0.024    0.833    1.621   25.264\n",
      "3     0.024    0.691    1.095    4.154\n",
      "4     0.019    0.608    2.920   10.582\n",
      "5     0.005    0.979    1.462   17.137\n",
      "6     0.024    1.199    2.877   18.768\n",
      "7     0.013    0.653    4.488   19.841\n",
      "8     0.009    0.419    6.799   12.101\n",
      "9     0.029    0.589    7.553   12.041\n",
      "10    0.024    0.951   11.553    5.707\n",
      "11    0.018    0.141   10.359    4.964\n",
      "12    0.027    0.398   10.359    3.891\n",
      "13    0.022    0.198   10.034    2.086\n",
      "14    0.019    0.202    6.586    6.588\n",
      "15    0.036    0.608    6.099   11.888\n",
      "16    0.042    0.653    6.553    7.543\n",
      "17    0.038    0.562    2.287   37.930\n",
      "18    0.049    0.589    2.519   23.487\n",
      "19    0.088    0.141    4.182   62.107\n",
      "AVG DEPTH_1:  0.027000000000000003\n",
      "AVG DEPTH_3:  0.58285\n",
      "AVG DEPTH_4:  5.0032000000000005\n",
      "AVG DEPTH_5:  14.487\n"
     ]
    }
   ],
   "source": [
    "df_depth1_4_3_5 = pd.read_csv(\"depth_1_3_5.csv\", sep=\";\") \n",
    "print(df_depth1_4_3_5)\n",
    "mean1=df_depth1_4_3_5['Depth_1'].mean()\n",
    "mean3=df_depth1_4_3_5['Depth_3'].mean()\n",
    "mean4=df_depth1_4_3_5['Depth_4'].mean()\n",
    "mean5=df_depth1_4_3_5['Depth_5'].mean()\n",
    "print(\"AVG DEPTH_1: \",mean1)\n",
    "print(\"AVG DEPTH_3: \",mean3)\n",
    "print(\"AVG DEPTH_4: \",mean4)\n",
    "print(\"AVG DEPTH_5: \",mean5)"
   ]
  },
  {
   "cell_type": "code",
   "execution_count": 5,
   "metadata": {},
   "outputs": [
    {
     "data": {
      "image/png": "[encoded data removed]",
      "text/plain": [
       "<Figure size 432x288 with 1 Axes>"
      ]
     },
     "metadata": {
      "needs_background": "light"
     },
     "output_type": "display_data"
    }
   ],
   "source": [
    "eje_y = [0.027,0.583,5.003,14.487]\n",
    "eje_x = [\"AVG DEPTH_1\",\"AVG DEPTH_3\",\"AVG DEPTH_4\",\"AVG DEPTH_5\"]\n",
    "plt.bar(eje_x, eje_y)\n",
    "plt.ylabel('Time(s)')\n",
    "plt.xlabel('Depth')\n",
    "plt.show()"
   ]
  },
  {
   "cell_type": "code",
   "execution_count": 6,
   "metadata": {},
   "outputs": [
    {
     "name": "stdout",
     "output_type": "stream",
     "text": [
      "   iterations           heuristic  max_depth                  algorithm  \\\n",
      "0          10  1 number of pieces          3             min_max_cutoff   \n",
      "1          10          2 mobility          3             min_max_cutoff   \n",
      "2          10    3 smart position          3             min_max_cutoff   \n",
      "3          10  1 number of pieces          3  alpha_beta_pruning_cutoff   \n",
      "4          10          2 mobility          3  alpha_beta_pruning_cutoff   \n",
      "5          10    3 smart position          3  alpha_beta_pruning_cutoff   \n",
      "\n",
      "   average_expanded_states  average_time norm_expanded_states  \\\n",
      "0                    45686          4.31          76,55160858   \n",
      "1                    27472         32.00          46,03217158   \n",
      "2                    59680          5.94                  100   \n",
      "3                     1365          1.84          2,287198391   \n",
      "4                    20137         10.61          33,74162198   \n",
      "5                     9745          2.60          16,32875335   \n",
      "\n",
      "  norm_average_time  \n",
      "0          13,46875  \n",
      "1               100  \n",
      "2           18,5625  \n",
      "3              5,75  \n",
      "4          33,15625  \n",
      "5             8,125  \n"
     ]
    }
   ],
   "source": [
    "df_Heuristic = pd.read_csv(\"Heuristic.csv\", sep=\";\") \n",
    "print(df_Heuristic)"
   ]
  },
  {
   "cell_type": "code",
   "execution_count": 7,
   "metadata": {},
   "outputs": [
    {
     "name": "stdout",
     "output_type": "stream",
     "text": [
      "  min max cutoff  number of pieces  mobiility  smart position\n",
      "0       computer                 4          8               9\n",
      "1          human                 6          2               0\n",
      "2            tie                 0          0               1\n"
     ]
    }
   ],
   "source": [
    "df_min_max = pd.read_csv(\"min_max_cutoff.csv\", sep=\";\") \n",
    "print(df_min_max)"
   ]
  },
  {
   "cell_type": "code",
   "execution_count": 8,
   "metadata": {},
   "outputs": [
    {
     "name": "stdout",
     "output_type": "stream",
     "text": [
      "            algorithm  number of pieces  mobility  smart position\n",
      "0      min max cutoff             45686     27472           59680\n",
      "1  alpha-beta pruning              1365     20137            9745\n"
     ]
    }
   ],
   "source": [
    "df_algoritms = pd.read_csv(\"algoritms.csv\", sep=\";\") \n",
    "print(df_algoritms)"
   ]
  },
  {
   "cell_type": "code",
   "execution_count": 9,
   "metadata": {},
   "outputs": [
    {
     "name": "stdout",
     "output_type": "stream",
     "text": [
      "         alpha_beta  winning_difference\n",
      "0  number of pieces                  29\n",
      "1          mobility                  26\n",
      "2    smart position                  19\n"
     ]
    }
   ],
   "source": [
    "df_alfa_beta_heuristic = pd.read_csv(\"alfa_beta_heuristic.csv\", sep=\";\") \n",
    "print(df_alfa_beta_heuristic)"
   ]
  },
  {
   "cell_type": "code",
   "execution_count": 10,
   "metadata": {},
   "outputs": [
    {
     "name": "stdout",
     "output_type": "stream",
     "text": [
      "  alpha-beta pruning  number of pieces  mobility  smart position\n",
      "0           computer                 1         8               8\n",
      "1              human                 9         1               2\n",
      "2                tie                 0         1               0\n"
     ]
    }
   ],
   "source": [
    "df_alfa_beta = pd.read_csv(\"alfa_beta.csv\", sep=\";\") \n",
    "print(df_alfa_beta)"
   ]
  }
 ],
 "metadata": {
  "interpreter": {
   "hash": "96eb50e1d44aed467dc8f759cb08c32fbfa9babcf79c554e2d0e5feb04653a10"
  },
  "kernelspec": {
   "display_name": "Python 3.8.3 ('base')",
   "language": "python",
   "name": "python3"
  },
  "language_info": {
   "codemirror_mode": {
    "name": "ipython",
    "version": 3
   },
   "file_extension": ".py",
   "mimetype": "text/x-python",
   "name": "python",
   "nbconvert_exporter": "python",
   "pygments_lexer": "ipython3",
   "version": "3.8.3"
  },
  "orig_nbformat": 4
 },
 "nbformat": 4,
 "nbformat_minor": 2
}
