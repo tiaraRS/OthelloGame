{
 "cells": [
  {
   "cell_type": "code",
   "execution_count": 1,
   "id": "b7f58a90",
   "metadata": {},
   "outputs": [],
   "source": [
    "import numpy as np\n",
    "import math"
   ]
  },
  {
   "cell_type": "code",
   "execution_count": 2,
   "id": "c23f6c84",
   "metadata": {},
   "outputs": [
    {
     "data": {
      "text/plain": [
       "0"
      ]
     },
     "execution_count": 2,
     "metadata": {},
     "output_type": "execute_result"
    }
   ],
   "source": [
    "x = math.inf\n",
    "y = np.argmax([1,2,3,4])\n",
    "y = np.argmin([1,2,3,4])\n",
    "y"
   ]
  },
  {
   "cell_type": "code",
   "execution_count": 3,
   "id": "a5e11537",
   "metadata": {},
   "outputs": [],
   "source": [
    "# class State:\n",
    "#     def __init__(self):\n",
    "#         color = None\n",
    "        "
   ]
  },
  {
   "cell_type": "code",
   "execution_count": 4,
   "id": "41643f88",
   "metadata": {},
   "outputs": [],
   "source": [
    "#MAX = BLACK\n",
    "class State:\n",
    "    def __init__(self):\n",
    "        self.game_board = self.intial_game_board()\n",
    "        self.current_player = \"MAX\"\n",
    "        \n",
    "    def intial_game_board(self):\n",
    "        initial_state = np.zeros(shape=(8,8), dtype=np.int32)\n",
    "        initial_state[3,3] = 1\n",
    "        initial_state[4,3] = -1\n",
    "        initial_state[3,4] = -1\n",
    "        initial_state[4,4] = 1\n",
    "        return initial_state"
   ]
  },
  {
   "cell_type": "code",
   "execution_count": 5,
   "id": "2545ceb0",
   "metadata": {},
   "outputs": [
    {
     "data": {
      "text/plain": [
       "array([[ 0,  0,  1,  0,  0,  0,  0,  0],\n",
       "       [ 0,  0,  0,  0,  0,  0,  0,  0],\n",
       "       [ 0,  0,  0,  0,  0,  0,  0,  0],\n",
       "       [ 0,  0,  0,  1, -1,  0,  0,  0],\n",
       "       [ 0,  0,  0, -1,  1,  0,  0,  0],\n",
       "       [ 0,  0,  0,  0,  0,  0,  0,  0],\n",
       "       [ 0,  0,  0,  0,  0,  0,  0,  0],\n",
       "       [ 0,  0,  0,  0,  0,  0,  0,  0]])"
      ]
     },
     "execution_count": 5,
     "metadata": {},
     "output_type": "execute_result"
    }
   ],
   "source": [
    "a= State()\n",
    "a.game_board[0,2]=1\n",
    "a.game_board"
   ]
  },
  {
   "cell_type": "code",
   "execution_count": 6,
   "id": "d5aa14a6",
   "metadata": {},
   "outputs": [
    {
     "data": {
      "text/plain": [
       "array([[ 0,  0,  0,  0,  0,  0,  0,  0],\n",
       "       [ 0,  0,  0,  0,  0,  0,  0,  0],\n",
       "       [ 0,  0,  0,  0,  0,  0,  0,  0],\n",
       "       [ 0,  0,  0,  1, -1,  0,  0,  0],\n",
       "       [ 0,  0,  0, -1,  1,  0,  0,  0],\n",
       "       [ 0,  0,  0,  0,  0,  0,  0,  0],\n",
       "       [ 0,  0,  0,  0,  0,  0,  0,  0],\n",
       "       [ 0,  0,  0,  0,  0,  0,  0,  0]])"
      ]
     },
     "execution_count": 6,
     "metadata": {},
     "output_type": "execute_result"
    }
   ],
   "source": [
    "#-1 = BLACK\n",
    "# 1 = WHITE\n",
    "# 0 = NADA\n",
    "initial_state = np.zeros(shape=(8,8), dtype=np.int32)\n",
    "initial_state[3,3] = 1\n",
    "initial_state[4,3] = -1\n",
    "initial_state[3,4] = -1\n",
    "initial_state[4,4] = 1\n",
    "initial_state"
   ]
  },
  {
   "cell_type": "code",
   "execution_count": 7,
   "id": "de72b097",
   "metadata": {},
   "outputs": [
    {
     "name": "stdout",
     "output_type": "stream",
     "text": [
      "(array([3, 4], dtype=int64), array([4, 3], dtype=int64))\n"
     ]
    }
   ],
   "source": [
    "print(np.where(initial_state == -1))"
   ]
  },
  {
   "cell_type": "code",
   "execution_count": 8,
   "id": "c4f41865",
   "metadata": {},
   "outputs": [],
   "source": [
    "#black = MAX\n",
    "#white = MIN\n",
    "# black = State()\n",
    "# black.color = \"black\"\n",
    "# black.turn = True"
   ]
  },
  {
   "cell_type": "code",
   "execution_count": 9,
   "id": "c16d194b",
   "metadata": {},
   "outputs": [
    {
     "data": {
      "text/plain": [
       "array([[ 0,  0,  0,  0,  0,  0,  0,  0],\n",
       "       [ 0,  0,  0,  0,  0,  0,  0,  0],\n",
       "       [ 0,  8,  0,  0,  0,  0,  0,  0],\n",
       "       [ 0,  0,  0,  1, -1,  0,  0,  0],\n",
       "       [ 0,  0,  0, -1,  1,  0,  0,  0],\n",
       "       [ 0,  0,  0,  0,  0,  0,  0,  0],\n",
       "       [ 0,  0,  0,  0,  0,  0,  0,  0],\n",
       "       [ 0,  0,  0,  0,  0,  0,  0,  0]])"
      ]
     },
     "execution_count": 9,
     "metadata": {},
     "output_type": "execute_result"
    }
   ],
   "source": [
    "ini = State()\n",
    "visited = ([2,2],[1,1])\n",
    "ini.game_board[visited]=8\n",
    "ini.game_board"
   ]
  },
  {
   "cell_type": "code",
   "execution_count": 10,
   "id": "ac214ee6",
   "metadata": {},
   "outputs": [],
   "source": [
    "def player(state):\n",
    "    if state.current_player == \"MAX\":\n",
    "        return (\"MIN\", max_value, np.argmax)\n",
    "    else:\n",
    "        return (\"MAX\", min_value, np.argmin)"
   ]
  },
  {
   "cell_type": "code",
   "execution_count": 196,
   "id": "ac357a7b",
   "metadata": {},
   "outputs": [],
   "source": [
    "columns = {\"A\":0,\"B\":1,\"C\":2,\"D\":3,\"E\":4,\"F\":5,\"G\":6,\"H\":7}\n",
    "upper_limit = 7\n",
    "lower_limit = 0\n",
    "def out_of_boundaries(pos):\n",
    "    return pos<0 or pos>7\n",
    "\n",
    "def move_vertical(state, value, row, column):\n",
    "    result_state = state\n",
    "    #down\n",
    "    current_row = row + 1\n",
    "    opposite_value = value*-1\n",
    "    if not out_of_boundaries(current_row) and result_state.game_board[current_row, column] == opposite_value:\n",
    "        while(result_state.game_board[current_row, column] == opposite_value and not out_of_boundaries(current_row)):\n",
    "            current_row+=1\n",
    "        if not out_of_boundaries(current_row) and result_state.game_board[current_row, column] == value: #flanqueo exitoso\n",
    "#             print(\"Vertical\", row, column)\n",
    "#             print(\"rows\", int(row),current_row)\n",
    "            result_state.game_board[int(row):current_row, column] = value\n",
    "#             print(result_state.game_board)\n",
    "    #up\n",
    "    current_row = row - 1    \n",
    "    if not out_of_boundaries(current_row) and result_state.game_board[current_row, column] == opposite_value:\n",
    "        while(result_state.game_board[current_row, column] == opposite_value and not out_of_boundaries(current_row)):\n",
    "#             result_state.game_board[current_row, column] = value\n",
    "            current_row-=1\n",
    "        if not out_of_boundaries(current_row) and result_state.game_board[current_row, column] == value: #flanqueo exitoso\n",
    "#             print(\"Vertical\", row, column)\n",
    "#             print(\"rows\", int(row),current_row)\n",
    "            result_state.game_board[current_row:int(row), column] = value\n",
    "    return result_state\n",
    "\n",
    "def move_horizontal(state, value, row, column):\n",
    "    result_state = state\n",
    "    opposite_value = value*-1\n",
    "    #Horizontal Izquierda\n",
    "    current_column = column+1\n",
    "    if not out_of_boundaries(current_column) and result_state.game_board[row, current_column] == opposite_value:\n",
    "        while(result_state.game_board[row, current_column] == opposite_value and not out_of_boundaries(current_column)):\n",
    "#             result_state.game_board[row, current_column] = value\n",
    "            current_column+=1\n",
    "        if not out_of_boundaries(current_column) and result_state.game_board[row, current_column] == value: \n",
    "#             print(\"Horizontal\", row, column)\n",
    "#             print(\"columns\", int(column),current_column)\n",
    "            result_state.game_board[row, int(column):current_column] = value\n",
    "            \n",
    "    #Horizontal Derecha\n",
    "    current_column = column-1\n",
    "    if not out_of_boundaries(current_column) and result_state.game_board[row, current_column] == opposite_value:\n",
    "        while(result_state.game_board[row, current_column] == opposite_value and not out_of_boundaries(current_column)):\n",
    "#             result_state.game_board[row, current_column] = value\n",
    "            current_column-=1\n",
    "        if  not out_of_boundaries(current_column) and result_state.game_board[row, current_column] == value: #flanqueo exitoso\n",
    "#             print(\"Horizontal\", row, column)\n",
    "#             print(\"columns\", int(column),current_column)\n",
    "            result_state.game_board[row, current_column:int(column)] = value\n",
    "    return result_state\n",
    "\n",
    "def move_diagonal(state, value, row, column):\n",
    "    result_state = state\n",
    "    opposite_value = value*-1\n",
    "#DIAGONAL ABAJO(IZQUIRDA-DERECHA) \\\n",
    "    current_column = column+1\n",
    "    current_row = row+1\n",
    "    if not out_of_boundaries(current_column) and not out_of_boundaries(current_row) and result_state.game_board[current_row, current_column] == opposite_value:\n",
    "        while(result_state.game_board[current_row, current_column] == opposite_value and not out_of_boundaries(current_column) and not out_of_boundaries(current_row)):\n",
    "            result_state.game_board[current_row, current_column] = value\n",
    "            current_column+=1\n",
    "            current_row+=1\n",
    "        if not out_of_boundaries(current_column) and not out_of_boundaries(current_row) and result_state.game_board[current_row, current_column] == value:\n",
    "            \n",
    "#             rows_flip = list(range(int(row),current_row+1))\n",
    "#             cols_flip = list(range(int(column), current_column+1))\n",
    "#             result_state.game_board[zip(rows_flip,cols_flip)] = value\n",
    "#             print(\"Diagonal 1\", row, column)\n",
    "#             print(\"rows\", int(row),current_row)\n",
    "#             print(\"columns\", int(column),current_column)\n",
    "#             result_state.game_board[int(row):current_row,int(column): current_column] = value\n",
    "#DIAGONAL ARRIBA(IZQUIERDA-DERECHA)\n",
    "    current_column = column+1\n",
    "    current_row = row-1\n",
    "    if not out_of_boundaries(current_column) and not out_of_boundaries(current_row) and result_state.game_board[current_row, current_column] == opposite_value:\n",
    "        while(result_state.game_board[current_row, current_column] == opposite_value and not out_of_boundaries(current_column) and not out_of_boundaries(current_row)):\n",
    "#             result_state.game_board[current_row, current_column] = value\n",
    "            current_column+=1\n",
    "            current_row-=1\n",
    "        if not out_of_boundaries(current_column) and not out_of_boundaries(current_row) and result_state.game_board[current_row, current_column] == value: #flanqueo exitoso\n",
    "#             print(\"Diagonal 2\", row, column)\n",
    "#             print(\"rows\", int(row),current_row)\n",
    "#             print(\"columns\", int(column),current_column)\n",
    "            rows_flip = list(range(current_row,int(row)))\n",
    "            cols_flip = list(range(int(column), current_column))\n",
    "            result_state.game_board[zip(rows_flip,cols_flip)] = value\n",
    "#             result_state.game_board[current_row:int(row),int(column): current_column] = value\n",
    "#DIAGONAL ABAJO(DERECHA-IZQUIERDA)\n",
    "    current_column = column-1\n",
    "    current_row = row+1\n",
    "    if not out_of_boundaries(current_column) and not out_of_boundaries(current_row) and result_state.game_board[current_row, current_column] == opposite_value:\n",
    "        while(result_state.game_board[current_row, current_column] == opposite_value and not out_of_boundaries(current_column) and not out_of_boundaries(current_row)):\n",
    "#             result_state.game_board[current_row, current_column] = value\n",
    "            current_column-=1\n",
    "            current_row+=1\n",
    "        if not out_of_boundaries(current_column) and not out_of_boundaries(current_row) and result_state.game_board[current_row, current_column] == value: \n",
    "#             print(\"Diagonal 3\", row, column)\n",
    "#             print(\"rows\", int(row),current_row)\n",
    "#             print(\"columns\", int(column),current_column)\n",
    "            rows_flip = list(range(int(row),current_row))\n",
    "            cols_flip = list(range(current_column, int(column)))\n",
    "            \n",
    "            print(int(row),current_row, current_column, int(column))\n",
    "            print(\"list for zip\", rows_flip,cols_flip)\n",
    "            print(list(zip(rows_flip,cols_flip)))\n",
    "            result_state.game_board[list(zip(rows_flip,cols_flip))] = value\n",
    "##DIAGONAL ARRIBA(DERECHA-IZQUIERDA)\n",
    "    current_column = column-1\n",
    "    current_row = row-1\n",
    "    if not out_of_boundaries(current_column) and not out_of_boundaries(current_row) and result_state.game_board[current_row, current_column] == opposite_value:\n",
    "        while(result_state.game_board[current_row, current_column] == opposite_value and not out_of_boundaries(current_column) and not out_of_boundaries(current_row)):\n",
    "#             result_state.game_board[current_row, current_column] = value\n",
    "            current_column-=1\n",
    "            current_row-=1\n",
    "        if not out_of_boundaries(current_column) and not out_of_boundaries(current_row) and result_state.game_board[current_row, current_column] == value: \n",
    "#             print(\"Diagonal 4 \", row, column)\n",
    "#             print(\"rows\", int(row),current_row)\n",
    "#             print(\"columns\", int(column),current_column)           \n",
    "            rows_flip=list(range(current_row,int(row)))\n",
    "            cols_flip = list(range(current_column,int(column)))\n",
    "            result_state.game_board[zip(rows_flip,cols_flip)] = value\n",
    "    return result_state\n",
    "    "
   ]
  },
  {
   "cell_type": "code",
   "execution_count": 197,
   "id": "9e41a772",
   "metadata": {},
   "outputs": [],
   "source": [
    "def get_possible_moves_vertical(state, pos):\n",
    "    value = get_player_value(state)\n",
    "    row=pos[0]\n",
    "    column=pos[1]\n",
    "    result_state = state\n",
    "    possible_moves=[]\n",
    "    #down\n",
    "    current_row = row + 1\n",
    "    opposite_value = value*-1\n",
    "    if not out_of_boundaries(current_row) and result_state.game_board[current_row, column] == opposite_value:        \n",
    "        while(result_state.game_board[current_row, column] == opposite_value and not out_of_boundaries(current_row)):\n",
    "            current_row+=1\n",
    "        if not out_of_boundaries(current_row-1) and result_state.game_board[current_row, column] == 0: #flanqueo exitoso            \n",
    "            possible_moves.append((current_row,column))    \n",
    "    #up\n",
    "    current_row = row - 1    \n",
    "#     print(current_row,column)\n",
    "#     print(\"oppo\", opposite_value)\n",
    "#     print(\"curr\",result_state.game_board[current_row, column] )\n",
    "    if (not out_of_boundaries(current_row)) and result_state.game_board[current_row, column] == opposite_value:     \n",
    "#         print(\"in\")\n",
    "        while(result_state.game_board[current_row, column] == opposite_value and not out_of_boundaries(current_row)):\n",
    "#             result_state.game_board[current_row, column] = value\n",
    "            current_row-=1            \n",
    "        if not out_of_boundaries(current_row+1) and result_state.game_board[current_row, column] == 0: #flanqueo exitoso\n",
    "            possible_moves.append((current_row,column))\n",
    "    return possible_moves\n",
    "def get_possible_moves_horizontal(state, pos):\n",
    "    value = get_player_value(state)\n",
    "    row=pos[0]\n",
    "    column=pos[1]\n",
    "    result_state = state\n",
    "    possible_moves=[]  \n",
    "    opposite_value = value*-1\n",
    "    #Horizontal Izquierda\n",
    "    current_column = column+1\n",
    "    if not out_of_boundaries(current_column) and result_state.game_board[row, current_column] == opposite_value:\n",
    "        while(result_state.game_board[row, current_column] == opposite_value and not out_of_boundaries(current_column)):\n",
    "#             result_state.game_board[row, current_column] = value\n",
    "            current_column+=1\n",
    "        if result_state.game_board[row, current_column] == 0: \n",
    "             possible_moves.append((row,current_column))\n",
    "            \n",
    "    #Horizontal Derecha\n",
    "    current_column = column-1\n",
    "    if not out_of_boundaries(current_column) and result_state.game_board[row, current_column] == opposite_value:\n",
    "        while(result_state.game_board[row, current_column] == opposite_value and not out_of_boundaries(current_column)):\n",
    "#             result_state.game_board[row, current_column] = value\n",
    "            current_column-=1\n",
    "        if result_state.game_board[row, current_column] == 0: #flanqueo exitoso\n",
    "            possible_moves.append((row,current_column))\n",
    "    return possible_moves\n",
    "\n",
    "def get_possible_moves_diagonal(state, pos):\n",
    "    value = get_player_value(state)\n",
    "    row=pos[0]\n",
    "    column=pos[1]\n",
    "    result_state = state\n",
    "    possible_moves=[]\n",
    "    opposite_value = value*-1\n",
    "    #DIAGONAL ABAJO(IZQUIRDA-DERECHA) \\\n",
    "    current_column = column+1\n",
    "    current_row = row+1\n",
    "    if not out_of_boundaries(current_column) and not out_of_boundaries(current_row) and result_state.game_board[current_row, current_column] == opposite_value:\n",
    "        while(result_state.game_board[current_row, current_column] == opposite_value and not out_of_boundaries(current_column) and not out_of_boundaries(current_row)):\n",
    "#             result_state.game_board[current_row, current_column] = value\n",
    "            current_column+=1\n",
    "            current_row+=1\n",
    "        if result_state.game_board[current_row, current_column] == 0: \n",
    "            possible_moves.append((current_row,current_column))\n",
    "#DIAGONAL ARRIBA(IZQUIERDA-DERECHA)\n",
    "    current_column = column+1\n",
    "    current_row = row-1\n",
    "    if not out_of_boundaries(current_column) and not out_of_boundaries(current_row) and result_state.game_board[current_row, current_column] == opposite_value:\n",
    "        while(result_state.game_board[current_row, current_column] == opposite_value and not out_of_boundaries(current_column) and not out_of_boundaries(current_row)):\n",
    "#             result_state.game_board[current_row, current_column] = value\n",
    "            current_column+=1\n",
    "            current_row-=1\n",
    "        if result_state.game_board[current_row, current_column] == value: #flanqueo exitoso\n",
    "            result_state.game_board[int(column)+1 and int(row)-1:current_row, current_column] = value\n",
    "#DIAGONAL ABAJO(DERECHA-IZQUIERDA)\n",
    "    current_column = column-1\n",
    "    current_row = row+1\n",
    "    if not out_of_boundaries(current_column) and not out_of_boundaries(current_row) and result_state.game_board[current_row, current_column] == opposite_value:\n",
    "        while(result_state.game_board[current_row, current_column] == opposite_value and not out_of_boundaries(current_column) and not out_of_boundaries(current_row)):\n",
    "#             result_state.game_board[current_row, current_column] = value\n",
    "            current_column-=1\n",
    "            current_row+=1\n",
    "        if result_state.game_board[current_row, current_column] == 0: \n",
    "            possible_moves.append((current_row,current_column))\n",
    "##DIAGONAL ARRIBA(DERECHA-IZQUIERDA)\n",
    "    current_column = column-1\n",
    "    current_row = row-1\n",
    "    if not out_of_boundaries(current_column) and not out_of_boundaries(current_row) and result_state.game_board[current_row, current_column] == opposite_value:\n",
    "        while(result_state.game_board[current_row, current_column] == opposite_value and not out_of_boundaries(current_column) and not out_of_boundaries(current_row)):\n",
    "#             result_state.game_board[current_row, current_column] = value\n",
    "            current_column-=1\n",
    "            current_row-=1\n",
    "        if result_state.game_board[current_row, current_column] == 0: \n",
    "            possible_moves.append((current_row,current_column))\n",
    "    return possible_moves"
   ]
  },
  {
   "cell_type": "code",
   "execution_count": 198,
   "id": "0f127b68",
   "metadata": {},
   "outputs": [],
   "source": [
    "def get_possible_actions(state, pos):\n",
    "    possible_actions=[]\n",
    "    vertical_possible_actions = get_possible_moves_vertical(state, pos)\n",
    "    horizontal_possible_actions = get_possible_moves_horizontal(state, pos)\n",
    "    diagonal_possible_actions = get_possible_moves_diagonal(state, pos)\n",
    "    if len(vertical_possible_actions)>0:\n",
    "        possible_actions.append(vertical_possible_actions)\n",
    "    if len(horizontal_possible_actions)>0:\n",
    "        possible_actions.append(horizontal_possible_actions)\n",
    "    if len(diagonal_possible_actions)>0:\n",
    "        possible_actions.append(diagonal_possible_actions)\n",
    "    return possible_actions"
   ]
  },
  {
   "cell_type": "code",
   "execution_count": 199,
   "id": "cfc63124",
   "metadata": {},
   "outputs": [
    {
     "name": "stdout",
     "output_type": "stream",
     "text": [
      "[[ 0  0  0  0  0  0  0  0]\n",
      " [ 0  0  0  0  0  0  0  0]\n",
      " [ 0  0  0  0  0  0  0  0]\n",
      " [ 0  0  0  1 -1  0  0  0]\n",
      " [ 0  0  0 -1  1  0  0  0]\n",
      " [ 0  0  0  0  0  0  0  0]\n",
      " [ 0  0  0  0  0  0  0  0]\n",
      " [ 0  0  0  0  0  0  0  0]]\n",
      "[[[(5, 4)], [(3, 2)]], [[(2, 3)], [(4, 5)]]]\n"
     ]
    }
   ],
   "source": [
    "a= State()\n",
    "# a.game_board[2,3]=1\n",
    "# a.game_board[1,3]=1\n",
    "# a.game_board[1,4]=1\n",
    "a.current_player=\"MAX\"\n",
    "print(a.game_board)\n",
    "print(actions(a))"
   ]
  },
  {
   "cell_type": "code",
   "execution_count": 200,
   "id": "1d554f13",
   "metadata": {},
   "outputs": [],
   "source": [
    "def actions(state):\n",
    "    value = get_player_value(state)\n",
    "#     print(\"Val\",value)\n",
    "    pos_values_player = np.where(state.game_board == value)\n",
    "    pos_values_player = list(zip(pos_values_player[0],pos_values_player[1]))\n",
    "#     print(pos_values_player)\n",
    "    possible_actions = []\n",
    "    for pos in pos_values_player: \n",
    "        possible_actions_pos = get_possible_actions(state, pos)\n",
    "        if len(possible_actions_pos) > 0:\n",
    "            possible_actions.append(possible_actions_pos)\n",
    "    return possible_actions\n",
    "    #print(state.game_board[pos_values_player])\n",
    "    # para cada valor de su color propio \n",
    "    # buscar flanqueos posibles, si encuentra agrega a la lista de acciones posibles\n",
    "\n",
    "def get_player_value(state):\n",
    "    value = 1\n",
    "    if state.current_player == \"MAX\":\n",
    "        value = -1\n",
    "    return value\n",
    "def result(state, action):\n",
    "    print(\"state before\")\n",
    "    print(state.game_board)\n",
    "    \n",
    "    result_state = state\n",
    "    column = columns[action[0]]\n",
    "    row = action[1]\n",
    "    value = get_player_value(state)\n",
    "    \n",
    "    #para las posiciones de la matriz\n",
    "    current_row = int(row)-1 \n",
    "    current_column = column\n",
    "    \n",
    "    result_state.game_board[current_row, current_column] = value\n",
    "    opposite_value = value*-1\n",
    "\n",
    "    result_state = move_vertical(result_state, value, current_row, current_column)\n",
    "    result_state = move_horizontal(result_state, value, current_row, current_column)\n",
    "    result_state = move_diagonal(result_state, value, current_row, current_column)   \n",
    "    return result_state"
   ]
  },
  {
   "cell_type": "code",
   "execution_count": 201,
   "id": "5ee6d791",
   "metadata": {},
   "outputs": [
    {
     "name": "stdout",
     "output_type": "stream",
     "text": [
      "state before\n",
      "[[ 0  0  0  0  0  0  0  0]\n",
      " [ 0  0  0  0  0  0  0  0]\n",
      " [ 0  0  0  0  0  0  0  0]\n",
      " [ 0  0  0  1  1  0  0  0]\n",
      " [ 0  0  0  1  1  0  0  0]\n",
      " [ 0  0 -1  0  0  0  0  0]\n",
      " [ 0  0  0  0  0  0  0  0]\n",
      " [ 0  0  0  0  0  0  0  0]]\n",
      "2 5 2 5\n",
      "list for zip [2, 3, 4] [2, 3, 4]\n",
      "[(2, 2), (3, 3), (4, 4)]\n"
     ]
    },
    {
     "name": "stderr",
     "output_type": "stream",
     "text": [
      "C:\\Users\\DELL\\AppData\\Local\\Temp/ipykernel_14124/643094106.py:111: FutureWarning: Using a non-tuple sequence for multidimensional indexing is deprecated; use `arr[tuple(seq)]` instead of `arr[seq]`. In the future this will be interpreted as an array index, `arr[np.array(seq)]`, which will result either in an error or a different result.\n",
      "  result_state.game_board[list(zip(rows_flip,cols_flip))] = value\n"
     ]
    },
    {
     "ename": "IndexError",
     "evalue": "too many indices for array: array is 2-dimensional, but 3 were indexed",
     "output_type": "error",
     "traceback": [
      "\u001b[1;31m---------------------------------------------------------------------------\u001b[0m",
      "\u001b[1;31mIndexError\u001b[0m                                Traceback (most recent call last)",
      "\u001b[1;32m~\\AppData\\Local\\Temp/ipykernel_14124/1675308384.py\u001b[0m in \u001b[0;36m<module>\u001b[1;34m\u001b[0m\n\u001b[0;32m      4\u001b[0m \u001b[0ma\u001b[0m\u001b[1;33m.\u001b[0m\u001b[0mgame_board\u001b[0m\u001b[1;33m[\u001b[0m\u001b[1;36m5\u001b[0m\u001b[1;33m,\u001b[0m\u001b[1;36m2\u001b[0m\u001b[1;33m]\u001b[0m \u001b[1;33m=\u001b[0m \u001b[1;33m-\u001b[0m\u001b[1;36m1\u001b[0m\u001b[1;33m\u001b[0m\u001b[1;33m\u001b[0m\u001b[0m\n\u001b[0;32m      5\u001b[0m \u001b[0ma\u001b[0m\u001b[1;33m.\u001b[0m\u001b[0mgame_board\u001b[0m\u001b[1;33m\u001b[0m\u001b[1;33m\u001b[0m\u001b[0m\n\u001b[1;32m----> 6\u001b[1;33m \u001b[0mresult\u001b[0m\u001b[1;33m(\u001b[0m\u001b[0ma\u001b[0m\u001b[1;33m,\u001b[0m\u001b[1;34m\"F3\"\u001b[0m\u001b[1;33m)\u001b[0m\u001b[1;33m.\u001b[0m\u001b[0mgame_board\u001b[0m\u001b[1;33m\u001b[0m\u001b[1;33m\u001b[0m\u001b[0m\n\u001b[0m",
      "\u001b[1;32m~\\AppData\\Local\\Temp/ipykernel_14124/3740857570.py\u001b[0m in \u001b[0;36mresult\u001b[1;34m(state, action)\u001b[0m\n\u001b[0;32m     38\u001b[0m     \u001b[0mresult_state\u001b[0m \u001b[1;33m=\u001b[0m \u001b[0mmove_vertical\u001b[0m\u001b[1;33m(\u001b[0m\u001b[0mresult_state\u001b[0m\u001b[1;33m,\u001b[0m \u001b[0mvalue\u001b[0m\u001b[1;33m,\u001b[0m \u001b[0mcurrent_row\u001b[0m\u001b[1;33m,\u001b[0m \u001b[0mcurrent_column\u001b[0m\u001b[1;33m)\u001b[0m\u001b[1;33m\u001b[0m\u001b[1;33m\u001b[0m\u001b[0m\n\u001b[0;32m     39\u001b[0m     \u001b[0mresult_state\u001b[0m \u001b[1;33m=\u001b[0m \u001b[0mmove_horizontal\u001b[0m\u001b[1;33m(\u001b[0m\u001b[0mresult_state\u001b[0m\u001b[1;33m,\u001b[0m \u001b[0mvalue\u001b[0m\u001b[1;33m,\u001b[0m \u001b[0mcurrent_row\u001b[0m\u001b[1;33m,\u001b[0m \u001b[0mcurrent_column\u001b[0m\u001b[1;33m)\u001b[0m\u001b[1;33m\u001b[0m\u001b[1;33m\u001b[0m\u001b[0m\n\u001b[1;32m---> 40\u001b[1;33m     \u001b[0mresult_state\u001b[0m \u001b[1;33m=\u001b[0m \u001b[0mmove_diagonal\u001b[0m\u001b[1;33m(\u001b[0m\u001b[0mresult_state\u001b[0m\u001b[1;33m,\u001b[0m \u001b[0mvalue\u001b[0m\u001b[1;33m,\u001b[0m \u001b[0mcurrent_row\u001b[0m\u001b[1;33m,\u001b[0m \u001b[0mcurrent_column\u001b[0m\u001b[1;33m)\u001b[0m\u001b[1;33m\u001b[0m\u001b[1;33m\u001b[0m\u001b[0m\n\u001b[0m\u001b[0;32m     41\u001b[0m     \u001b[1;32mreturn\u001b[0m \u001b[0mresult_state\u001b[0m\u001b[1;33m\u001b[0m\u001b[1;33m\u001b[0m\u001b[0m\n",
      "\u001b[1;32m~\\AppData\\Local\\Temp/ipykernel_14124/643094106.py\u001b[0m in \u001b[0;36mmove_diagonal\u001b[1;34m(state, value, row, column)\u001b[0m\n\u001b[0;32m    109\u001b[0m             \u001b[0mprint\u001b[0m\u001b[1;33m(\u001b[0m\u001b[1;34m\"list for zip\"\u001b[0m\u001b[1;33m,\u001b[0m \u001b[0mrows_flip\u001b[0m\u001b[1;33m,\u001b[0m\u001b[0mcols_flip\u001b[0m\u001b[1;33m)\u001b[0m\u001b[1;33m\u001b[0m\u001b[1;33m\u001b[0m\u001b[0m\n\u001b[0;32m    110\u001b[0m             \u001b[0mprint\u001b[0m\u001b[1;33m(\u001b[0m\u001b[0mlist\u001b[0m\u001b[1;33m(\u001b[0m\u001b[0mzip\u001b[0m\u001b[1;33m(\u001b[0m\u001b[0mrows_flip\u001b[0m\u001b[1;33m,\u001b[0m\u001b[0mcols_flip\u001b[0m\u001b[1;33m)\u001b[0m\u001b[1;33m)\u001b[0m\u001b[1;33m)\u001b[0m\u001b[1;33m\u001b[0m\u001b[1;33m\u001b[0m\u001b[0m\n\u001b[1;32m--> 111\u001b[1;33m             \u001b[0mresult_state\u001b[0m\u001b[1;33m.\u001b[0m\u001b[0mgame_board\u001b[0m\u001b[1;33m[\u001b[0m\u001b[0mlist\u001b[0m\u001b[1;33m(\u001b[0m\u001b[0mzip\u001b[0m\u001b[1;33m(\u001b[0m\u001b[0mrows_flip\u001b[0m\u001b[1;33m,\u001b[0m\u001b[0mcols_flip\u001b[0m\u001b[1;33m)\u001b[0m\u001b[1;33m)\u001b[0m\u001b[1;33m]\u001b[0m \u001b[1;33m=\u001b[0m \u001b[0mvalue\u001b[0m\u001b[1;33m\u001b[0m\u001b[1;33m\u001b[0m\u001b[0m\n\u001b[0m\u001b[0;32m    112\u001b[0m \u001b[1;31m##DIAGONAL ARRIBA(DERECHA-IZQUIERDA)\u001b[0m\u001b[1;33m\u001b[0m\u001b[1;33m\u001b[0m\u001b[0m\n\u001b[0;32m    113\u001b[0m     \u001b[0mcurrent_column\u001b[0m \u001b[1;33m=\u001b[0m \u001b[0mcolumn\u001b[0m\u001b[1;33m-\u001b[0m\u001b[1;36m1\u001b[0m\u001b[1;33m\u001b[0m\u001b[1;33m\u001b[0m\u001b[0m\n",
      "\u001b[1;31mIndexError\u001b[0m: too many indices for array: array is 2-dimensional, but 3 were indexed"
     ]
    }
   ],
   "source": [
    "a= State()\n",
    "a.game_board[4,3] = 1\n",
    "a.game_board[3,4] = 1\n",
    "a.game_board[5,2] = -1\n",
    "a.game_board\n",
    "result(a,\"F3\").game_board"
   ]
  },
  {
   "cell_type": "code",
   "execution_count": 46,
   "id": "290350b7",
   "metadata": {},
   "outputs": [
    {
     "name": "stdout",
     "output_type": "stream",
     "text": [
      "pm []\n",
      "pm []\n",
      "pm []\n",
      "pm [(4, 3)]\n",
      "pm [(5, 4)]\n",
      "[[[(4, 3)]], [[(5, 4)]]]\n",
      "state before\n",
      "[[ 0  0  0  0  0  0  0  0]\n",
      " [ 0  0  0  1  1  0  0  0]\n",
      " [ 0  0  0  1  0  0  0  0]\n",
      " [ 0  0  0  1  1  0  0  0]\n",
      " [ 0  0  0 -1  1  0  0  0]\n",
      " [ 0  0  0  0  0  0  0  0]\n",
      " [ 0  0  0  0  0  0  0  0]\n",
      " [ 0  0  0  0  0  0  0  0]]\n"
     ]
    },
    {
     "data": {
      "text/plain": [
       "array([[ 0,  0,  0,  1,  0,  0,  0,  0],\n",
       "       [ 0,  0,  0,  1,  1,  0,  0,  0],\n",
       "       [ 0,  0,  0,  1,  0,  0,  0,  0],\n",
       "       [ 0,  0,  0,  1,  1,  0,  0,  0],\n",
       "       [ 0,  0,  0, -1,  1,  0,  0,  0],\n",
       "       [ 0,  0,  0,  0,  0,  0,  0,  0],\n",
       "       [ 0,  0,  0,  0,  0,  0,  0,  0],\n",
       "       [ 0,  0,  0,  0,  0,  0,  0,  0]])"
      ]
     },
     "execution_count": 46,
     "metadata": {},
     "output_type": "execute_result"
    }
   ],
   "source": [
    "a= State()\n",
    "a.game_board[2,3]=1\n",
    "a.game_board[1,3]=1\n",
    "a.game_board[1,4]=1\n",
    "a.current_player=\"MIN\"\n",
    "print(actions(a))\n",
    "result(a,\"D1\").game_board"
   ]
  },
  {
   "cell_type": "code",
   "execution_count": 154,
   "id": "de2ac7c5",
   "metadata": {},
   "outputs": [
    {
     "name": "stdout",
     "output_type": "stream",
     "text": [
      "state before\n",
      "[[ 0  0  0  0  0  0  0  0]\n",
      " [ 0  0  0  1  0  0  0  0]\n",
      " [ 0  0  0 -1  0 -1  0 -1]\n",
      " [ 0  0  0  1  1  1  1  0]\n",
      " [ 0  0  0 -1  1  0  1 -1]\n",
      " [ 0  0  0  0  1  1  1  0]\n",
      " [ 0  0  0 -1  0 -1  0 -1]\n",
      " [ 0  0  0  0  0  0  0  0]]\n"
     ]
    },
    {
     "data": {
      "text/plain": [
       "array([[ 0,  0,  0,  0,  0,  0,  0,  0],\n",
       "       [ 0,  0,  0,  1,  0,  0,  0,  0],\n",
       "       [ 0,  0,  0, -1, -1, -1, -1, -1],\n",
       "       [ 0,  0,  0, -1, -1, -1, -1,  0],\n",
       "       [ 0,  0,  0, -1, -1, -1, -1, -1],\n",
       "       [ 0,  0,  0, -1, -1, -1, -1,  0],\n",
       "       [ 0,  0,  0, -1,  0, -1,  0, -1],\n",
       "       [ 0,  0,  0,  0,  0,  0,  0,  0]])"
      ]
     },
     "execution_count": 154,
     "metadata": {},
     "output_type": "execute_result"
    }
   ],
   "source": [
    "a= State()\n",
    "a.game_board[2,3]=1\n",
    "a.game_board[1,3]=1\n",
    "a.game_board[2,5]=-1\n",
    "a.game_board[3,5]=1\n",
    "a.game_board[5,5]=1\n",
    "a.game_board[4,7]=-1\n",
    "a.game_board[4,6]=1\n",
    "a.game_board[6,5]=-1\n",
    "a.game_board[2,7]=-1\n",
    "a.game_board[3,6]=1\n",
    "a.game_board[5,4]=1\n",
    "a.game_board[6,3]=-1\n",
    "\n",
    "a.game_board[2,3]=-1\n",
    "a.game_board[3,4]=1\n",
    "\n",
    "a.game_board[5,6]=1\n",
    "a.game_board[6,7]=-1\n",
    "a.game_board\n",
    "result(a,\"F5\").game_board\n",
    "#Funciona NUEVA PRUEBA VERTICAL ABAJO"
   ]
  },
  {
   "cell_type": "code",
   "execution_count": 155,
   "id": "50ded1df",
   "metadata": {},
   "outputs": [
    {
     "name": "stdout",
     "output_type": "stream",
     "text": [
      "state before\n",
      "[[ 0  0  0  0  0  0  0  0]\n",
      " [ 0  0  0  1  0  0  0  0]\n",
      " [ 0  0  0  1  0  0  0  0]\n",
      " [ 0  0  0  1 -1  0  0  0]\n",
      " [ 0  0  0 -1  1  0  0  0]\n",
      " [ 0  0  0  1  0  0  0  0]\n",
      " [ 0  0  0  1  0  0  0  0]\n",
      " [ 0  0  0  0  0  0  0  0]]\n"
     ]
    },
    {
     "data": {
      "text/plain": [
       "array([[ 0,  0,  0, -1,  0,  0,  0,  0],\n",
       "       [ 0,  0,  0, -1,  0,  0,  0,  0],\n",
       "       [ 0,  0,  0, -1,  0,  0,  0,  0],\n",
       "       [ 0,  0,  0, -1, -1,  0,  0,  0],\n",
       "       [ 0,  0,  0, -1,  1,  0,  0,  0],\n",
       "       [ 0,  0,  0,  1,  0,  0,  0,  0],\n",
       "       [ 0,  0,  0,  1,  0,  0,  0,  0],\n",
       "       [ 0,  0,  0,  0,  0,  0,  0,  0]])"
      ]
     },
     "execution_count": 155,
     "metadata": {},
     "output_type": "execute_result"
    }
   ],
   "source": [
    "a= State()\n",
    "a.game_board[2,3]=1\n",
    "a.game_board[1,3]=1\n",
    "a.game_board[5,3]=1\n",
    "a.game_board[6,3]=1\n",
    "a.game_board\n",
    "result(a,\"D1\").game_board\n",
    "#prueba de que no pasa hasta el fondo"
   ]
  },
  {
   "cell_type": "code",
   "execution_count": 156,
   "id": "597b0720",
   "metadata": {},
   "outputs": [
    {
     "name": "stdout",
     "output_type": "stream",
     "text": [
      "state before\n",
      "[[ 0  0  0  0  0  0  0  0]\n",
      " [ 0  0  0  0  0  0  0  0]\n",
      " [ 0  0  0  0  0  0  0  0]\n",
      " [ 0  0  0  1 -1  0  0  0]\n",
      " [ 0  0  0 -1  1  0  0  0]\n",
      " [ 0  0  0  0  1  0  0  0]\n",
      " [ 0  0  0  0  1  0  0  0]\n",
      " [ 0  0  0  0  0  0  0  0]]\n"
     ]
    },
    {
     "data": {
      "text/plain": [
       "array([[ 0,  0,  0,  0,  0,  0,  0,  0],\n",
       "       [ 0,  0,  0,  0,  0,  0,  0,  0],\n",
       "       [ 0,  0,  0,  0,  0,  0,  0,  0],\n",
       "       [ 0,  0,  0,  1, -1,  0,  0,  0],\n",
       "       [ 0,  0,  0, -1, -1,  0,  0,  0],\n",
       "       [ 0,  0,  0,  0, -1,  0,  0,  0],\n",
       "       [ 0,  0,  0,  0, -1,  0,  0,  0],\n",
       "       [ 0,  0,  0,  0, -1,  0,  0,  0]])"
      ]
     },
     "execution_count": 156,
     "metadata": {},
     "output_type": "execute_result"
    }
   ],
   "source": [
    "a= State()\n",
    "a.game_board[5,4]=1\n",
    "a.game_board[6,4]=1\n",
    "a.game_board\n",
    "result(a,\"E8\").game_board\n",
    "#Funciona NUEVA PRUEBA VERTICAL ARRIBA"
   ]
  },
  {
   "cell_type": "code",
   "execution_count": 157,
   "id": "cdc9a7dc",
   "metadata": {},
   "outputs": [
    {
     "name": "stdout",
     "output_type": "stream",
     "text": [
      "state before\n",
      "[[ 0  0  0  0  0  0  0  0]\n",
      " [ 0  0  0  0  1  0  0  0]\n",
      " [ 0  0  0  0  1  0  0  0]\n",
      " [ 0  0  0  1 -1  0  0  0]\n",
      " [ 0  0  0 -1  1  0  0  0]\n",
      " [ 0  0  0  0  1  0  0  0]\n",
      " [ 0  0  0  0  1  0  0  0]\n",
      " [ 0  0  0  0  0  0  0  0]]\n"
     ]
    },
    {
     "data": {
      "text/plain": [
       "array([[ 0,  0,  0,  0,  0,  0,  0,  0],\n",
       "       [ 0,  0,  0,  0,  1,  0,  0,  0],\n",
       "       [ 0,  0,  0,  0,  1,  0,  0,  0],\n",
       "       [ 0,  0,  0,  1, -1,  0,  0,  0],\n",
       "       [ 0,  0,  0, -1, -1,  0,  0,  0],\n",
       "       [ 0,  0,  0,  0, -1,  0,  0,  0],\n",
       "       [ 0,  0,  0,  0, -1,  0,  0,  0],\n",
       "       [ 0,  0,  0,  0, -1,  0,  0,  0]])"
      ]
     },
     "execution_count": 157,
     "metadata": {},
     "output_type": "execute_result"
    }
   ],
   "source": [
    "a= State()\n",
    "a.game_board[5,4]=1\n",
    "a.game_board[6,4]=1\n",
    "a.game_board[1,4]=1\n",
    "a.game_board[2,4]=1\n",
    "a.game_board\n",
    "result(a,\"E8\").game_board\n",
    "#prueba no pasa hasta arriba"
   ]
  },
  {
   "cell_type": "code",
   "execution_count": 158,
   "id": "8adc5d5b",
   "metadata": {},
   "outputs": [
    {
     "name": "stdout",
     "output_type": "stream",
     "text": [
      "state before\n",
      "[[ 0  0  0  0  0  0  0  0]\n",
      " [ 0  0  0  0  0  0  0  0]\n",
      " [ 0  0  0  0  0  0  0  0]\n",
      " [ 0  1  1  1 -1  0  0  0]\n",
      " [ 0  0  0 -1  1  0  0  0]\n",
      " [ 0  0  0  0  0  0  0  0]\n",
      " [ 0  0  0  0  0  0  0  0]\n",
      " [ 0  0  0  0  0  0  0  0]]\n"
     ]
    },
    {
     "data": {
      "text/plain": [
       "array([[ 0,  0,  0,  0,  0,  0,  0,  0],\n",
       "       [ 0,  0,  0,  0,  0,  0,  0,  0],\n",
       "       [ 0,  0,  0,  0,  0,  0,  0,  0],\n",
       "       [-1, -1, -1, -1, -1,  0,  0,  0],\n",
       "       [ 0,  0,  0, -1,  1,  0,  0,  0],\n",
       "       [ 0,  0,  0,  0,  0,  0,  0,  0],\n",
       "       [ 0,  0,  0,  0,  0,  0,  0,  0],\n",
       "       [ 0,  0,  0,  0,  0,  0,  0,  0]])"
      ]
     },
     "execution_count": 158,
     "metadata": {},
     "output_type": "execute_result"
    }
   ],
   "source": [
    "a= State()\n",
    "a.game_board[3,2]=1\n",
    "a.game_board[3,1]=1\n",
    "a.game_board\n",
    "result(a,\"A4\").game_board\n",
    "#Funciona NUEVA PRUEBA HORIZONTAL IZQUIERDA"
   ]
  },
  {
   "cell_type": "code",
   "execution_count": 159,
   "id": "5c988c11",
   "metadata": {},
   "outputs": [
    {
     "name": "stdout",
     "output_type": "stream",
     "text": [
      "state before\n",
      "[[ 0  0  0  0  0  0  0  0]\n",
      " [ 0  0  0  0  0  0  0  0]\n",
      " [ 0  0  0  0  0  0  0  0]\n",
      " [ 0  1  1  1 -1  1  1  0]\n",
      " [ 0  0  0 -1  1  0  0  0]\n",
      " [ 0  0  0  0  0  0  0  0]\n",
      " [ 0  0  0  0  0  0  0  0]\n",
      " [ 0  0  0  0  0  0  0  0]]\n"
     ]
    },
    {
     "data": {
      "text/plain": [
       "array([[ 0,  0,  0,  0,  0,  0,  0,  0],\n",
       "       [ 0,  0,  0,  0,  0,  0,  0,  0],\n",
       "       [ 0,  0,  0,  0,  0,  0,  0,  0],\n",
       "       [-1, -1, -1, -1, -1,  1,  1,  0],\n",
       "       [ 0,  0,  0, -1,  1,  0,  0,  0],\n",
       "       [ 0,  0,  0,  0,  0,  0,  0,  0],\n",
       "       [ 0,  0,  0,  0,  0,  0,  0,  0],\n",
       "       [ 0,  0,  0,  0,  0,  0,  0,  0]])"
      ]
     },
     "execution_count": 159,
     "metadata": {},
     "output_type": "execute_result"
    }
   ],
   "source": [
    "a= State()\n",
    "a.game_board[3,2]=1\n",
    "a.game_board[3,1]=1\n",
    "a.game_board[3,5]=1\n",
    "a.game_board[3,6]=1\n",
    "a.game_board\n",
    "result(a,\"A4\").game_board\n",
    "#Prueba que no pasa al otro lado"
   ]
  },
  {
   "cell_type": "code",
   "execution_count": 160,
   "id": "ba5c6d7e",
   "metadata": {},
   "outputs": [
    {
     "name": "stdout",
     "output_type": "stream",
     "text": [
      "state before\n",
      "[[ 0  0  0  0  0  0  0  0]\n",
      " [ 0  0  0  0  0  0  0  0]\n",
      " [ 0  0  0  0  0  0  0  0]\n",
      " [ 0  0  0  1 -1  0  0  0]\n",
      " [ 0  0  0 -1  1  1  1  0]\n",
      " [ 0  0  0  0  0  0  0  0]\n",
      " [ 0  0  0  0  0  0  0  0]\n",
      " [ 0  0  0  0  0  0  0  0]]\n"
     ]
    },
    {
     "data": {
      "text/plain": [
       "array([[ 0,  0,  0,  0,  0,  0,  0,  0],\n",
       "       [ 0,  0,  0,  0,  0,  0,  0,  0],\n",
       "       [ 0,  0,  0,  0,  0,  0,  0,  0],\n",
       "       [ 0,  0,  0,  1, -1,  0,  0,  0],\n",
       "       [ 0,  0,  0, -1, -1, -1, -1, -1],\n",
       "       [ 0,  0,  0,  0,  0,  0,  0,  0],\n",
       "       [ 0,  0,  0,  0,  0,  0,  0,  0],\n",
       "       [ 0,  0,  0,  0,  0,  0,  0,  0]])"
      ]
     },
     "execution_count": 160,
     "metadata": {},
     "output_type": "execute_result"
    }
   ],
   "source": [
    "a= State()\n",
    "a.game_board[4,5]=1\n",
    "a.game_board[4,6]=1\n",
    "a.game_board\n",
    "result(a,\"H5\").game_board\n",
    "#Funciona NUEVA PRUEBA HORIZONTAL DERECHA"
   ]
  },
  {
   "cell_type": "code",
   "execution_count": 161,
   "id": "dbbc5f9d",
   "metadata": {},
   "outputs": [
    {
     "name": "stdout",
     "output_type": "stream",
     "text": [
      "state before\n",
      "[[ 0  0  0  0  0  0  0  0]\n",
      " [ 0  0  0  0  0  0  0  0]\n",
      " [ 0  0  0  0  0  0  0  0]\n",
      " [ 0  0  0  1 -1  0  0  0]\n",
      " [ 0  1  1 -1  1  1  1  0]\n",
      " [ 0  0  0  0  0  0  0  0]\n",
      " [ 0  0  0  0  0  0  0  0]\n",
      " [ 0  0  0  0  0  0  0  0]]\n"
     ]
    },
    {
     "data": {
      "text/plain": [
       "array([[ 0,  0,  0,  0,  0,  0,  0,  0],\n",
       "       [ 0,  0,  0,  0,  0,  0,  0,  0],\n",
       "       [ 0,  0,  0,  0,  0,  0,  0,  0],\n",
       "       [ 0,  0,  0,  1, -1,  0,  0,  0],\n",
       "       [ 0,  1,  1, -1, -1, -1, -1, -1],\n",
       "       [ 0,  0,  0,  0,  0,  0,  0,  0],\n",
       "       [ 0,  0,  0,  0,  0,  0,  0,  0],\n",
       "       [ 0,  0,  0,  0,  0,  0,  0,  0]])"
      ]
     },
     "execution_count": 161,
     "metadata": {},
     "output_type": "execute_result"
    }
   ],
   "source": [
    "a= State()\n",
    "a.game_board[4,5]=1\n",
    "a.game_board[4,6]=1\n",
    "a.game_board[4,1]=1\n",
    "a.game_board[4,2]=1\n",
    "a.game_board\n",
    "result(a,\"H5\").game_board"
   ]
  },
  {
   "cell_type": "code",
   "execution_count": 162,
   "id": "35a643eb",
   "metadata": {},
   "outputs": [
    {
     "name": "stdout",
     "output_type": "stream",
     "text": [
      "state before\n",
      "[[ 0  0  0  0  0  0  0  0]\n",
      " [ 0  0  0  0  0  0  0  0]\n",
      " [ 0  0  0  0  0  0  0  0]\n",
      " [ 0  0  0  1 -1  0  0  0]\n",
      " [ 0  1  1 -1  1  1  1  0]\n",
      " [ 0  0  0  0  0  0  0  0]\n",
      " [ 0  0  0  0  0  0  0  0]\n",
      " [ 0  0  0  0  0  0  0  0]]\n"
     ]
    },
    {
     "data": {
      "text/plain": [
       "array([[ 0,  0,  0,  0,  0,  0,  0,  0],\n",
       "       [ 0,  0,  0,  0,  0,  0,  0,  0],\n",
       "       [ 0,  0,  0,  0,  0,  0,  0,  0],\n",
       "       [ 0,  0,  0,  1, -1,  0,  0,  0],\n",
       "       [ 0,  1,  1, -1, -1, -1, -1, -1],\n",
       "       [ 0,  0,  0,  0,  0,  0,  0,  0],\n",
       "       [ 0,  0,  0,  0,  0,  0,  0,  0],\n",
       "       [ 0,  0,  0,  0,  0,  0,  0,  0]])"
      ]
     },
     "execution_count": 162,
     "metadata": {},
     "output_type": "execute_result"
    }
   ],
   "source": [
    "a= State()\n",
    "a.game_board[4,5]=1\n",
    "a.game_board[4,6]=1\n",
    "a.game_board[4,1]=1\n",
    "a.game_board[4,2]=1\n",
    "a.game_board\n",
    "result(a,\"H5\").game_board"
   ]
  },
  {
   "cell_type": "code",
   "execution_count": 178,
   "id": "5c399217",
   "metadata": {},
   "outputs": [
    {
     "name": "stdout",
     "output_type": "stream",
     "text": [
      "state before\n",
      "[[ 0  0  0  0  0  0  0  0]\n",
      " [ 0  0  0  0  0  0  0  0]\n",
      " [ 0  0  0  0  0  0  0  0]\n",
      " [ 0  0  0  1 -1  0  0  0]\n",
      " [ 0  0  0 -1  1  0  0  0]\n",
      " [ 0  0  1  0  0  0  0  0]\n",
      " [ 0  0  0  0  0  0  0  0]\n",
      " [ 0  0  0  0  0  0  0  0]]\n"
     ]
    },
    {
     "ename": "IndexError",
     "evalue": "only integers, slices (`:`), ellipsis (`...`), numpy.newaxis (`None`) and integer or boolean arrays are valid indices",
     "output_type": "error",
     "traceback": [
      "\u001b[1;31m---------------------------------------------------------------------------\u001b[0m",
      "\u001b[1;31mIndexError\u001b[0m                                Traceback (most recent call last)",
      "\u001b[1;32m~\\AppData\\Local\\Temp/ipykernel_14124/3494731222.py\u001b[0m in \u001b[0;36m<module>\u001b[1;34m\u001b[0m\n\u001b[0;32m      2\u001b[0m \u001b[0ma\u001b[0m\u001b[1;33m.\u001b[0m\u001b[0mgame_board\u001b[0m\u001b[1;33m[\u001b[0m\u001b[1;36m5\u001b[0m\u001b[1;33m,\u001b[0m\u001b[1;36m2\u001b[0m\u001b[1;33m]\u001b[0m\u001b[1;33m=\u001b[0m\u001b[1;36m1\u001b[0m\u001b[1;33m\u001b[0m\u001b[1;33m\u001b[0m\u001b[0m\n\u001b[0;32m      3\u001b[0m \u001b[0ma\u001b[0m\u001b[1;33m.\u001b[0m\u001b[0mgame_board\u001b[0m\u001b[1;33m\u001b[0m\u001b[1;33m\u001b[0m\u001b[0m\n\u001b[1;32m----> 4\u001b[1;33m \u001b[0mresult\u001b[0m\u001b[1;33m(\u001b[0m\u001b[0ma\u001b[0m\u001b[1;33m,\u001b[0m\u001b[1;34m\"B7\"\u001b[0m\u001b[1;33m)\u001b[0m\u001b[1;33m.\u001b[0m\u001b[0mgame_board\u001b[0m\u001b[1;33m\u001b[0m\u001b[1;33m\u001b[0m\u001b[0m\n\u001b[0m",
      "\u001b[1;32m~\\AppData\\Local\\Temp/ipykernel_14124/3740857570.py\u001b[0m in \u001b[0;36mresult\u001b[1;34m(state, action)\u001b[0m\n\u001b[0;32m     38\u001b[0m     \u001b[0mresult_state\u001b[0m \u001b[1;33m=\u001b[0m \u001b[0mmove_vertical\u001b[0m\u001b[1;33m(\u001b[0m\u001b[0mresult_state\u001b[0m\u001b[1;33m,\u001b[0m \u001b[0mvalue\u001b[0m\u001b[1;33m,\u001b[0m \u001b[0mcurrent_row\u001b[0m\u001b[1;33m,\u001b[0m \u001b[0mcurrent_column\u001b[0m\u001b[1;33m)\u001b[0m\u001b[1;33m\u001b[0m\u001b[1;33m\u001b[0m\u001b[0m\n\u001b[0;32m     39\u001b[0m     \u001b[0mresult_state\u001b[0m \u001b[1;33m=\u001b[0m \u001b[0mmove_horizontal\u001b[0m\u001b[1;33m(\u001b[0m\u001b[0mresult_state\u001b[0m\u001b[1;33m,\u001b[0m \u001b[0mvalue\u001b[0m\u001b[1;33m,\u001b[0m \u001b[0mcurrent_row\u001b[0m\u001b[1;33m,\u001b[0m \u001b[0mcurrent_column\u001b[0m\u001b[1;33m)\u001b[0m\u001b[1;33m\u001b[0m\u001b[1;33m\u001b[0m\u001b[0m\n\u001b[1;32m---> 40\u001b[1;33m     \u001b[0mresult_state\u001b[0m \u001b[1;33m=\u001b[0m \u001b[0mmove_diagonal\u001b[0m\u001b[1;33m(\u001b[0m\u001b[0mresult_state\u001b[0m\u001b[1;33m,\u001b[0m \u001b[0mvalue\u001b[0m\u001b[1;33m,\u001b[0m \u001b[0mcurrent_row\u001b[0m\u001b[1;33m,\u001b[0m \u001b[0mcurrent_column\u001b[0m\u001b[1;33m)\u001b[0m\u001b[1;33m\u001b[0m\u001b[1;33m\u001b[0m\u001b[0m\n\u001b[0m\u001b[0;32m     41\u001b[0m     \u001b[1;32mreturn\u001b[0m \u001b[0mresult_state\u001b[0m\u001b[1;33m\u001b[0m\u001b[1;33m\u001b[0m\u001b[0m\n",
      "\u001b[1;32m~\\AppData\\Local\\Temp/ipykernel_14124/2302668298.py\u001b[0m in \u001b[0;36mmove_diagonal\u001b[1;34m(state, value, row, column)\u001b[0m\n\u001b[0;32m     89\u001b[0m             \u001b[0mrows_flip\u001b[0m \u001b[1;33m=\u001b[0m \u001b[0mlist\u001b[0m\u001b[1;33m(\u001b[0m\u001b[0mrange\u001b[0m\u001b[1;33m(\u001b[0m\u001b[0mcurrent_row\u001b[0m\u001b[1;33m,\u001b[0m\u001b[0mint\u001b[0m\u001b[1;33m(\u001b[0m\u001b[0mrow\u001b[0m\u001b[1;33m)\u001b[0m\u001b[1;33m)\u001b[0m\u001b[1;33m)\u001b[0m\u001b[1;33m\u001b[0m\u001b[1;33m\u001b[0m\u001b[0m\n\u001b[0;32m     90\u001b[0m             \u001b[0mcols_flip\u001b[0m \u001b[1;33m=\u001b[0m \u001b[0mlist\u001b[0m\u001b[1;33m(\u001b[0m\u001b[0mrange\u001b[0m\u001b[1;33m(\u001b[0m\u001b[0mint\u001b[0m\u001b[1;33m(\u001b[0m\u001b[0mcolumn\u001b[0m\u001b[1;33m)\u001b[0m\u001b[1;33m,\u001b[0m \u001b[0mcurrent_column\u001b[0m\u001b[1;33m)\u001b[0m\u001b[1;33m)\u001b[0m\u001b[1;33m\u001b[0m\u001b[1;33m\u001b[0m\u001b[0m\n\u001b[1;32m---> 91\u001b[1;33m             \u001b[0mresult_state\u001b[0m\u001b[1;33m.\u001b[0m\u001b[0mgame_board\u001b[0m\u001b[1;33m[\u001b[0m\u001b[0mzip\u001b[0m\u001b[1;33m(\u001b[0m\u001b[0mrows_flip\u001b[0m\u001b[1;33m,\u001b[0m\u001b[0mcols_flip\u001b[0m\u001b[1;33m)\u001b[0m\u001b[1;33m]\u001b[0m \u001b[1;33m=\u001b[0m \u001b[0mvalue\u001b[0m\u001b[1;33m\u001b[0m\u001b[1;33m\u001b[0m\u001b[0m\n\u001b[0m\u001b[0;32m     92\u001b[0m \u001b[1;31m#             result_state.game_board[current_row:int(row),int(column): current_column] = value\u001b[0m\u001b[1;33m\u001b[0m\u001b[1;33m\u001b[0m\u001b[0m\n\u001b[0;32m     93\u001b[0m \u001b[1;31m#DIAGONAL ABAJO(DERECHA-IZQUIERDA)\u001b[0m\u001b[1;33m\u001b[0m\u001b[1;33m\u001b[0m\u001b[0m\n",
      "\u001b[1;31mIndexError\u001b[0m: only integers, slices (`:`), ellipsis (`...`), numpy.newaxis (`None`) and integer or boolean arrays are valid indices"
     ]
    }
   ],
   "source": [
    "a= State()\n",
    "a.game_board[5,2]=1\n",
    "a.game_board\n",
    "result(a,\"B7\").game_board"
   ]
  },
  {
   "cell_type": "code",
   "execution_count": 179,
   "id": "c058c7fc",
   "metadata": {},
   "outputs": [
    {
     "name": "stdout",
     "output_type": "stream",
     "text": [
      "state before\n",
      "[[ 0  0  0  0  0  0  0  0]\n",
      " [ 0  0  0  0  0  0  0  0]\n",
      " [ 0  0  0  0  0  0  0  0]\n",
      " [ 0  0  0  1 -1  0  0  0]\n",
      " [ 0  0  0 -1  1  0  0  0]\n",
      " [ 0  0  1  0  0  0  0  0]\n",
      " [ 0  0  0  0  0  0  0  0]\n",
      " [ 0  0  0  0  0  0  0  0]]\n"
     ]
    },
    {
     "ename": "IndexError",
     "evalue": "only integers, slices (`:`), ellipsis (`...`), numpy.newaxis (`None`) and integer or boolean arrays are valid indices",
     "output_type": "error",
     "traceback": [
      "\u001b[1;31m---------------------------------------------------------------------------\u001b[0m",
      "\u001b[1;31mIndexError\u001b[0m                                Traceback (most recent call last)",
      "\u001b[1;32m~\\AppData\\Local\\Temp/ipykernel_14124/2222897040.py\u001b[0m in \u001b[0;36m<module>\u001b[1;34m\u001b[0m\n\u001b[0;32m      2\u001b[0m \u001b[0ma\u001b[0m\u001b[1;33m.\u001b[0m\u001b[0mgame_board\u001b[0m\u001b[1;33m[\u001b[0m\u001b[1;36m5\u001b[0m\u001b[1;33m,\u001b[0m\u001b[1;36m2\u001b[0m\u001b[1;33m]\u001b[0m\u001b[1;33m=\u001b[0m\u001b[1;36m1\u001b[0m\u001b[1;33m\u001b[0m\u001b[1;33m\u001b[0m\u001b[0m\n\u001b[0;32m      3\u001b[0m \u001b[0ma\u001b[0m\u001b[1;33m.\u001b[0m\u001b[0mgame_board\u001b[0m\u001b[1;33m\u001b[0m\u001b[1;33m\u001b[0m\u001b[0m\n\u001b[1;32m----> 4\u001b[1;33m \u001b[0mresult\u001b[0m\u001b[1;33m(\u001b[0m\u001b[0ma\u001b[0m\u001b[1;33m,\u001b[0m\u001b[1;34m\"B7\"\u001b[0m\u001b[1;33m)\u001b[0m\u001b[1;33m.\u001b[0m\u001b[0mgame_board\u001b[0m\u001b[1;33m\u001b[0m\u001b[1;33m\u001b[0m\u001b[0m\n\u001b[0m\u001b[0;32m      5\u001b[0m \u001b[1;31m#DIAGONAL ARRIBA(IZQUIERDA-DERECHA) /\u001b[0m\u001b[1;33m\u001b[0m\u001b[1;33m\u001b[0m\u001b[0m\n",
      "\u001b[1;32m~\\AppData\\Local\\Temp/ipykernel_14124/3740857570.py\u001b[0m in \u001b[0;36mresult\u001b[1;34m(state, action)\u001b[0m\n\u001b[0;32m     38\u001b[0m     \u001b[0mresult_state\u001b[0m \u001b[1;33m=\u001b[0m \u001b[0mmove_vertical\u001b[0m\u001b[1;33m(\u001b[0m\u001b[0mresult_state\u001b[0m\u001b[1;33m,\u001b[0m \u001b[0mvalue\u001b[0m\u001b[1;33m,\u001b[0m \u001b[0mcurrent_row\u001b[0m\u001b[1;33m,\u001b[0m \u001b[0mcurrent_column\u001b[0m\u001b[1;33m)\u001b[0m\u001b[1;33m\u001b[0m\u001b[1;33m\u001b[0m\u001b[0m\n\u001b[0;32m     39\u001b[0m     \u001b[0mresult_state\u001b[0m \u001b[1;33m=\u001b[0m \u001b[0mmove_horizontal\u001b[0m\u001b[1;33m(\u001b[0m\u001b[0mresult_state\u001b[0m\u001b[1;33m,\u001b[0m \u001b[0mvalue\u001b[0m\u001b[1;33m,\u001b[0m \u001b[0mcurrent_row\u001b[0m\u001b[1;33m,\u001b[0m \u001b[0mcurrent_column\u001b[0m\u001b[1;33m)\u001b[0m\u001b[1;33m\u001b[0m\u001b[1;33m\u001b[0m\u001b[0m\n\u001b[1;32m---> 40\u001b[1;33m     \u001b[0mresult_state\u001b[0m \u001b[1;33m=\u001b[0m \u001b[0mmove_diagonal\u001b[0m\u001b[1;33m(\u001b[0m\u001b[0mresult_state\u001b[0m\u001b[1;33m,\u001b[0m \u001b[0mvalue\u001b[0m\u001b[1;33m,\u001b[0m \u001b[0mcurrent_row\u001b[0m\u001b[1;33m,\u001b[0m \u001b[0mcurrent_column\u001b[0m\u001b[1;33m)\u001b[0m\u001b[1;33m\u001b[0m\u001b[1;33m\u001b[0m\u001b[0m\n\u001b[0m\u001b[0;32m     41\u001b[0m     \u001b[1;32mreturn\u001b[0m \u001b[0mresult_state\u001b[0m\u001b[1;33m\u001b[0m\u001b[1;33m\u001b[0m\u001b[0m\n",
      "\u001b[1;32m~\\AppData\\Local\\Temp/ipykernel_14124/2302668298.py\u001b[0m in \u001b[0;36mmove_diagonal\u001b[1;34m(state, value, row, column)\u001b[0m\n\u001b[0;32m     89\u001b[0m             \u001b[0mrows_flip\u001b[0m \u001b[1;33m=\u001b[0m \u001b[0mlist\u001b[0m\u001b[1;33m(\u001b[0m\u001b[0mrange\u001b[0m\u001b[1;33m(\u001b[0m\u001b[0mcurrent_row\u001b[0m\u001b[1;33m,\u001b[0m\u001b[0mint\u001b[0m\u001b[1;33m(\u001b[0m\u001b[0mrow\u001b[0m\u001b[1;33m)\u001b[0m\u001b[1;33m)\u001b[0m\u001b[1;33m)\u001b[0m\u001b[1;33m\u001b[0m\u001b[1;33m\u001b[0m\u001b[0m\n\u001b[0;32m     90\u001b[0m             \u001b[0mcols_flip\u001b[0m \u001b[1;33m=\u001b[0m \u001b[0mlist\u001b[0m\u001b[1;33m(\u001b[0m\u001b[0mrange\u001b[0m\u001b[1;33m(\u001b[0m\u001b[0mint\u001b[0m\u001b[1;33m(\u001b[0m\u001b[0mcolumn\u001b[0m\u001b[1;33m)\u001b[0m\u001b[1;33m,\u001b[0m \u001b[0mcurrent_column\u001b[0m\u001b[1;33m)\u001b[0m\u001b[1;33m)\u001b[0m\u001b[1;33m\u001b[0m\u001b[1;33m\u001b[0m\u001b[0m\n\u001b[1;32m---> 91\u001b[1;33m             \u001b[0mresult_state\u001b[0m\u001b[1;33m.\u001b[0m\u001b[0mgame_board\u001b[0m\u001b[1;33m[\u001b[0m\u001b[0mzip\u001b[0m\u001b[1;33m(\u001b[0m\u001b[0mrows_flip\u001b[0m\u001b[1;33m,\u001b[0m\u001b[0mcols_flip\u001b[0m\u001b[1;33m)\u001b[0m\u001b[1;33m]\u001b[0m \u001b[1;33m=\u001b[0m \u001b[0mvalue\u001b[0m\u001b[1;33m\u001b[0m\u001b[1;33m\u001b[0m\u001b[0m\n\u001b[0m\u001b[0;32m     92\u001b[0m \u001b[1;31m#             result_state.game_board[current_row:int(row),int(column): current_column] = value\u001b[0m\u001b[1;33m\u001b[0m\u001b[1;33m\u001b[0m\u001b[0m\n\u001b[0;32m     93\u001b[0m \u001b[1;31m#DIAGONAL ABAJO(DERECHA-IZQUIERDA)\u001b[0m\u001b[1;33m\u001b[0m\u001b[1;33m\u001b[0m\u001b[0m\n",
      "\u001b[1;31mIndexError\u001b[0m: only integers, slices (`:`), ellipsis (`...`), numpy.newaxis (`None`) and integer or boolean arrays are valid indices"
     ]
    }
   ],
   "source": [
    "a= State()\n",
    "a.game_board[5,2]=1\n",
    "a.game_board\n",
    "result(a,\"B7\").game_board\n",
    "#DIAGONAL ARRIBA(IZQUIERDA-DERECHA) /"
   ]
  },
  {
   "cell_type": "code",
   "execution_count": 180,
   "id": "c35e6c0a",
   "metadata": {},
   "outputs": [
    {
     "name": "stdout",
     "output_type": "stream",
     "text": [
      "state before\n",
      "[[ 0  0  0  0  0  0  0  0]\n",
      " [ 0  0  0  0  0  0  0  0]\n",
      " [ 0  0  0  0  0  0  0  0]\n",
      " [ 0  0  0  1 -1  0  0  0]\n",
      " [ 0  0  0 -1  1  0  0  0]\n",
      " [ 0  0  0  0  0 -1  0  0]\n",
      " [ 0  0  0  0  0  0  0  0]\n",
      " [ 0  0  0  0  0  0  0  0]]\n"
     ]
    },
    {
     "ename": "IndexError",
     "evalue": "only integers, slices (`:`), ellipsis (`...`), numpy.newaxis (`None`) and integer or boolean arrays are valid indices",
     "output_type": "error",
     "traceback": [
      "\u001b[1;31m---------------------------------------------------------------------------\u001b[0m",
      "\u001b[1;31mIndexError\u001b[0m                                Traceback (most recent call last)",
      "\u001b[1;32m~\\AppData\\Local\\Temp/ipykernel_14124/2448984348.py\u001b[0m in \u001b[0;36m<module>\u001b[1;34m\u001b[0m\n\u001b[0;32m      2\u001b[0m \u001b[0ma\u001b[0m\u001b[1;33m.\u001b[0m\u001b[0mgame_board\u001b[0m\u001b[1;33m[\u001b[0m\u001b[1;36m5\u001b[0m\u001b[1;33m,\u001b[0m\u001b[1;36m5\u001b[0m\u001b[1;33m]\u001b[0m\u001b[1;33m=\u001b[0m\u001b[1;33m-\u001b[0m\u001b[1;36m1\u001b[0m\u001b[1;33m\u001b[0m\u001b[1;33m\u001b[0m\u001b[0m\n\u001b[0;32m      3\u001b[0m \u001b[0ma\u001b[0m\u001b[1;33m.\u001b[0m\u001b[0mgame_board\u001b[0m\u001b[1;33m\u001b[0m\u001b[1;33m\u001b[0m\u001b[0m\n\u001b[1;32m----> 4\u001b[1;33m \u001b[0mresult\u001b[0m\u001b[1;33m(\u001b[0m\u001b[0ma\u001b[0m\u001b[1;33m,\u001b[0m\u001b[1;34m\"C3\"\u001b[0m\u001b[1;33m)\u001b[0m\u001b[1;33m.\u001b[0m\u001b[0mgame_board\u001b[0m\u001b[1;33m\u001b[0m\u001b[1;33m\u001b[0m\u001b[0m\n\u001b[0m\u001b[0;32m      5\u001b[0m \u001b[1;31m#DIAGONAL ABAJO(IZQUIRDA-DERECHA) \\\u001b[0m\u001b[1;33m\u001b[0m\u001b[1;33m\u001b[0m\u001b[0m\n",
      "\u001b[1;32m~\\AppData\\Local\\Temp/ipykernel_14124/3740857570.py\u001b[0m in \u001b[0;36mresult\u001b[1;34m(state, action)\u001b[0m\n\u001b[0;32m     38\u001b[0m     \u001b[0mresult_state\u001b[0m \u001b[1;33m=\u001b[0m \u001b[0mmove_vertical\u001b[0m\u001b[1;33m(\u001b[0m\u001b[0mresult_state\u001b[0m\u001b[1;33m,\u001b[0m \u001b[0mvalue\u001b[0m\u001b[1;33m,\u001b[0m \u001b[0mcurrent_row\u001b[0m\u001b[1;33m,\u001b[0m \u001b[0mcurrent_column\u001b[0m\u001b[1;33m)\u001b[0m\u001b[1;33m\u001b[0m\u001b[1;33m\u001b[0m\u001b[0m\n\u001b[0;32m     39\u001b[0m     \u001b[0mresult_state\u001b[0m \u001b[1;33m=\u001b[0m \u001b[0mmove_horizontal\u001b[0m\u001b[1;33m(\u001b[0m\u001b[0mresult_state\u001b[0m\u001b[1;33m,\u001b[0m \u001b[0mvalue\u001b[0m\u001b[1;33m,\u001b[0m \u001b[0mcurrent_row\u001b[0m\u001b[1;33m,\u001b[0m \u001b[0mcurrent_column\u001b[0m\u001b[1;33m)\u001b[0m\u001b[1;33m\u001b[0m\u001b[1;33m\u001b[0m\u001b[0m\n\u001b[1;32m---> 40\u001b[1;33m     \u001b[0mresult_state\u001b[0m \u001b[1;33m=\u001b[0m \u001b[0mmove_diagonal\u001b[0m\u001b[1;33m(\u001b[0m\u001b[0mresult_state\u001b[0m\u001b[1;33m,\u001b[0m \u001b[0mvalue\u001b[0m\u001b[1;33m,\u001b[0m \u001b[0mcurrent_row\u001b[0m\u001b[1;33m,\u001b[0m \u001b[0mcurrent_column\u001b[0m\u001b[1;33m)\u001b[0m\u001b[1;33m\u001b[0m\u001b[1;33m\u001b[0m\u001b[0m\n\u001b[0m\u001b[0;32m     41\u001b[0m     \u001b[1;32mreturn\u001b[0m \u001b[0mresult_state\u001b[0m\u001b[1;33m\u001b[0m\u001b[1;33m\u001b[0m\u001b[0m\n",
      "\u001b[1;32m~\\AppData\\Local\\Temp/ipykernel_14124/2302668298.py\u001b[0m in \u001b[0;36mmove_diagonal\u001b[1;34m(state, value, row, column)\u001b[0m\n\u001b[0;32m     70\u001b[0m             \u001b[0mrows_flip\u001b[0m \u001b[1;33m=\u001b[0m \u001b[0mlist\u001b[0m\u001b[1;33m(\u001b[0m\u001b[0mrange\u001b[0m\u001b[1;33m(\u001b[0m\u001b[0mint\u001b[0m\u001b[1;33m(\u001b[0m\u001b[0mrow\u001b[0m\u001b[1;33m)\u001b[0m\u001b[1;33m,\u001b[0m\u001b[0mcurrent_row\u001b[0m\u001b[1;33m+\u001b[0m\u001b[1;36m1\u001b[0m\u001b[1;33m)\u001b[0m\u001b[1;33m)\u001b[0m\u001b[1;33m\u001b[0m\u001b[1;33m\u001b[0m\u001b[0m\n\u001b[0;32m     71\u001b[0m             \u001b[0mcols_flip\u001b[0m \u001b[1;33m=\u001b[0m \u001b[0mlist\u001b[0m\u001b[1;33m(\u001b[0m\u001b[0mrange\u001b[0m\u001b[1;33m(\u001b[0m\u001b[0mint\u001b[0m\u001b[1;33m(\u001b[0m\u001b[0mcolumn\u001b[0m\u001b[1;33m)\u001b[0m\u001b[1;33m,\u001b[0m \u001b[0mcurrent_column\u001b[0m\u001b[1;33m+\u001b[0m\u001b[1;36m1\u001b[0m\u001b[1;33m)\u001b[0m\u001b[1;33m)\u001b[0m\u001b[1;33m\u001b[0m\u001b[1;33m\u001b[0m\u001b[0m\n\u001b[1;32m---> 72\u001b[1;33m             \u001b[0mresult_state\u001b[0m\u001b[1;33m.\u001b[0m\u001b[0mgame_board\u001b[0m\u001b[1;33m[\u001b[0m\u001b[0mzip\u001b[0m\u001b[1;33m(\u001b[0m\u001b[0mrows_flip\u001b[0m\u001b[1;33m,\u001b[0m\u001b[0mcols_flip\u001b[0m\u001b[1;33m)\u001b[0m\u001b[1;33m]\u001b[0m \u001b[1;33m=\u001b[0m \u001b[0mvalue\u001b[0m\u001b[1;33m\u001b[0m\u001b[1;33m\u001b[0m\u001b[0m\n\u001b[0m\u001b[0;32m     73\u001b[0m \u001b[1;31m#             print(\"Diagonal 1\", row, column)\u001b[0m\u001b[1;33m\u001b[0m\u001b[1;33m\u001b[0m\u001b[0m\n\u001b[0;32m     74\u001b[0m \u001b[1;31m#             print(\"rows\", int(row),current_row)\u001b[0m\u001b[1;33m\u001b[0m\u001b[1;33m\u001b[0m\u001b[0m\n",
      "\u001b[1;31mIndexError\u001b[0m: only integers, slices (`:`), ellipsis (`...`), numpy.newaxis (`None`) and integer or boolean arrays are valid indices"
     ]
    }
   ],
   "source": [
    "a= State()\n",
    "a.game_board[5,5]=-1\n",
    "a.game_board\n",
    "result(a,\"C3\").game_board\n",
    "#DIAGONAL ABAJO(IZQUIRDA-DERECHA) \\"
   ]
  },
  {
   "cell_type": "code",
   "execution_count": 181,
   "id": "24443ac8",
   "metadata": {},
   "outputs": [
    {
     "name": "stdout",
     "output_type": "stream",
     "text": [
      "state before\n",
      "[[ 0  0  0  0  0  0  0  0]\n",
      " [ 0  0  0  0  0  0  0  0]\n",
      " [ 0  0  0  0  0  0  0  0]\n",
      " [ 0  0  0  1  1  0  0  0]\n",
      " [ 0  0  0  1  1  0  0  0]\n",
      " [ 0  0 -1  0  0  0  0  0]\n",
      " [ 0  0  0  0  0  0  0  0]\n",
      " [ 0  0  0  0  0  0  0  0]]\n",
      "<zip object at 0x000001EF91465EC0>\n"
     ]
    },
    {
     "ename": "IndexError",
     "evalue": "only integers, slices (`:`), ellipsis (`...`), numpy.newaxis (`None`) and integer or boolean arrays are valid indices",
     "output_type": "error",
     "traceback": [
      "\u001b[1;31m---------------------------------------------------------------------------\u001b[0m",
      "\u001b[1;31mIndexError\u001b[0m                                Traceback (most recent call last)",
      "\u001b[1;32m~\\AppData\\Local\\Temp/ipykernel_14124/1653176755.py\u001b[0m in \u001b[0;36m<module>\u001b[1;34m\u001b[0m\n\u001b[0;32m      4\u001b[0m \u001b[0ma\u001b[0m\u001b[1;33m.\u001b[0m\u001b[0mgame_board\u001b[0m\u001b[1;33m[\u001b[0m\u001b[1;36m5\u001b[0m\u001b[1;33m,\u001b[0m\u001b[1;36m2\u001b[0m\u001b[1;33m]\u001b[0m \u001b[1;33m=\u001b[0m \u001b[1;33m-\u001b[0m\u001b[1;36m1\u001b[0m\u001b[1;33m\u001b[0m\u001b[1;33m\u001b[0m\u001b[0m\n\u001b[0;32m      5\u001b[0m \u001b[0ma\u001b[0m\u001b[1;33m.\u001b[0m\u001b[0mgame_board\u001b[0m\u001b[1;33m\u001b[0m\u001b[1;33m\u001b[0m\u001b[0m\n\u001b[1;32m----> 6\u001b[1;33m \u001b[0mresult\u001b[0m\u001b[1;33m(\u001b[0m\u001b[0ma\u001b[0m\u001b[1;33m,\u001b[0m\u001b[1;34m\"F3\"\u001b[0m\u001b[1;33m)\u001b[0m\u001b[1;33m.\u001b[0m\u001b[0mgame_board\u001b[0m\u001b[1;33m\u001b[0m\u001b[1;33m\u001b[0m\u001b[0m\n\u001b[0m\u001b[0;32m      7\u001b[0m \u001b[1;31m#DIAGONAL ABAJO(DERECHA-IZQUIERDA /\u001b[0m\u001b[1;33m\u001b[0m\u001b[1;33m\u001b[0m\u001b[0m\n",
      "\u001b[1;32m~\\AppData\\Local\\Temp/ipykernel_14124/3740857570.py\u001b[0m in \u001b[0;36mresult\u001b[1;34m(state, action)\u001b[0m\n\u001b[0;32m     38\u001b[0m     \u001b[0mresult_state\u001b[0m \u001b[1;33m=\u001b[0m \u001b[0mmove_vertical\u001b[0m\u001b[1;33m(\u001b[0m\u001b[0mresult_state\u001b[0m\u001b[1;33m,\u001b[0m \u001b[0mvalue\u001b[0m\u001b[1;33m,\u001b[0m \u001b[0mcurrent_row\u001b[0m\u001b[1;33m,\u001b[0m \u001b[0mcurrent_column\u001b[0m\u001b[1;33m)\u001b[0m\u001b[1;33m\u001b[0m\u001b[1;33m\u001b[0m\u001b[0m\n\u001b[0;32m     39\u001b[0m     \u001b[0mresult_state\u001b[0m \u001b[1;33m=\u001b[0m \u001b[0mmove_horizontal\u001b[0m\u001b[1;33m(\u001b[0m\u001b[0mresult_state\u001b[0m\u001b[1;33m,\u001b[0m \u001b[0mvalue\u001b[0m\u001b[1;33m,\u001b[0m \u001b[0mcurrent_row\u001b[0m\u001b[1;33m,\u001b[0m \u001b[0mcurrent_column\u001b[0m\u001b[1;33m)\u001b[0m\u001b[1;33m\u001b[0m\u001b[1;33m\u001b[0m\u001b[0m\n\u001b[1;32m---> 40\u001b[1;33m     \u001b[0mresult_state\u001b[0m \u001b[1;33m=\u001b[0m \u001b[0mmove_diagonal\u001b[0m\u001b[1;33m(\u001b[0m\u001b[0mresult_state\u001b[0m\u001b[1;33m,\u001b[0m \u001b[0mvalue\u001b[0m\u001b[1;33m,\u001b[0m \u001b[0mcurrent_row\u001b[0m\u001b[1;33m,\u001b[0m \u001b[0mcurrent_column\u001b[0m\u001b[1;33m)\u001b[0m\u001b[1;33m\u001b[0m\u001b[1;33m\u001b[0m\u001b[0m\n\u001b[0m\u001b[0;32m     41\u001b[0m     \u001b[1;32mreturn\u001b[0m \u001b[0mresult_state\u001b[0m\u001b[1;33m\u001b[0m\u001b[1;33m\u001b[0m\u001b[0m\n",
      "\u001b[1;32m~\\AppData\\Local\\Temp/ipykernel_14124/2302668298.py\u001b[0m in \u001b[0;36mmove_diagonal\u001b[1;34m(state, value, row, column)\u001b[0m\n\u001b[0;32m    106\u001b[0m             \u001b[0mcols_flip\u001b[0m \u001b[1;33m=\u001b[0m \u001b[0mlist\u001b[0m\u001b[1;33m(\u001b[0m\u001b[0mrange\u001b[0m\u001b[1;33m(\u001b[0m\u001b[0mcurrent_column\u001b[0m\u001b[1;33m,\u001b[0m \u001b[0mint\u001b[0m\u001b[1;33m(\u001b[0m\u001b[0mcolumn\u001b[0m\u001b[1;33m)\u001b[0m\u001b[1;33m)\u001b[0m\u001b[1;33m)\u001b[0m\u001b[1;33m\u001b[0m\u001b[1;33m\u001b[0m\u001b[0m\n\u001b[0;32m    107\u001b[0m             \u001b[0mprint\u001b[0m\u001b[1;33m(\u001b[0m\u001b[0mzip\u001b[0m\u001b[1;33m(\u001b[0m\u001b[0mrows_flip\u001b[0m\u001b[1;33m,\u001b[0m\u001b[0mcols_flip\u001b[0m\u001b[1;33m)\u001b[0m\u001b[1;33m)\u001b[0m\u001b[1;33m\u001b[0m\u001b[1;33m\u001b[0m\u001b[0m\n\u001b[1;32m--> 108\u001b[1;33m             \u001b[0mresult_state\u001b[0m\u001b[1;33m.\u001b[0m\u001b[0mgame_board\u001b[0m\u001b[1;33m[\u001b[0m\u001b[0mzip\u001b[0m\u001b[1;33m(\u001b[0m\u001b[0mrows_flip\u001b[0m\u001b[1;33m,\u001b[0m\u001b[0mcols_flip\u001b[0m\u001b[1;33m)\u001b[0m\u001b[1;33m]\u001b[0m \u001b[1;33m=\u001b[0m \u001b[0mvalue\u001b[0m\u001b[1;33m\u001b[0m\u001b[1;33m\u001b[0m\u001b[0m\n\u001b[0m\u001b[0;32m    109\u001b[0m \u001b[1;31m##DIAGONAL ARRIBA(DERECHA-IZQUIERDA)\u001b[0m\u001b[1;33m\u001b[0m\u001b[1;33m\u001b[0m\u001b[0m\n\u001b[0;32m    110\u001b[0m     \u001b[0mcurrent_column\u001b[0m \u001b[1;33m=\u001b[0m \u001b[0mcolumn\u001b[0m\u001b[1;33m-\u001b[0m\u001b[1;36m1\u001b[0m\u001b[1;33m\u001b[0m\u001b[1;33m\u001b[0m\u001b[0m\n",
      "\u001b[1;31mIndexError\u001b[0m: only integers, slices (`:`), ellipsis (`...`), numpy.newaxis (`None`) and integer or boolean arrays are valid indices"
     ]
    }
   ],
   "source": [
    "a= State()\n",
    "a.game_board[4,3] = 1\n",
    "a.game_board[3,4] = 1\n",
    "a.game_board[5,2] = -1\n",
    "a.game_board\n",
    "result(a,\"F3\").game_board\n",
    "#DIAGONAL ABAJO(DERECHA-IZQUIERDA /"
   ]
  },
  {
   "cell_type": "code",
   "execution_count": 169,
   "id": "583df849",
   "metadata": {},
   "outputs": [
    {
     "name": "stdout",
     "output_type": "stream",
     "text": [
      "state before\n",
      "[[ 0  0  0  0  0  0  0  0]\n",
      " [ 0  0  0  0  0  0  0  0]\n",
      " [ 0  0 -1  0  0  0  0  0]\n",
      " [ 0  0  0  1  1  0  0  0]\n",
      " [ 0  0  0  1  1  0  0  0]\n",
      " [ 0  0  0  0  0  0  0  0]\n",
      " [ 0  0  0  0  0  0  0  0]\n",
      " [ 0  0  0  0  0  0  0  0]]\n"
     ]
    },
    {
     "data": {
      "text/plain": [
       "array([[ 0,  0,  0,  0,  0,  0,  0,  0],\n",
       "       [ 0,  0,  0,  0,  0,  0,  0,  0],\n",
       "       [ 0,  0, -1, -1, -1,  0,  0,  0],\n",
       "       [ 0,  0, -1, -1, -1,  0,  0,  0],\n",
       "       [ 0,  0, -1, -1, -1,  0,  0,  0],\n",
       "       [ 0,  0,  0,  0,  0, -1,  0,  0],\n",
       "       [ 0,  0,  0,  0,  0,  0,  0,  0],\n",
       "       [ 0,  0,  0,  0,  0,  0,  0,  0]])"
      ]
     },
     "execution_count": 169,
     "metadata": {},
     "output_type": "execute_result"
    }
   ],
   "source": [
    "a= State()\n",
    "a.game_board[4,3] = 1\n",
    "a.game_board[3,4] = 1\n",
    "a.game_board[2,2] = -1\n",
    "a.game_board\n",
    "result(a,\"F6\").game_board\n",
    "#DIAGONAL ARRIBA(DERECHA-IZQUIERDA)"
   ]
  },
  {
   "cell_type": "code",
   "execution_count": null,
   "id": "1e08f9f0",
   "metadata": {},
   "outputs": [],
   "source": [
    "def min_max_decision(state):\n",
    "    values = []\n",
    "    player, func_value, func_arg = player(state)\n",
    "    state.current_player = player\n",
    "    state_actions = actions(state)\n",
    "    for action in state_actions:\n",
    "        v = func_value(result(state, action))\n",
    "        values.append(v)\n",
    "        idx = func_arg(values)\n",
    "    return state_actions[idx]"
   ]
  },
  {
   "cell_type": "code",
   "execution_count": null,
   "id": "093d7bdf",
   "metadata": {},
   "outputs": [
    {
     "ename": "IndentationError",
     "evalue": "expected an indented block (Temp/ipykernel_10032/1449895688.py, line 9)",
     "output_type": "error",
     "traceback": [
      "\u001b[1;36m  File \u001b[1;32m\"C:\\Users\\DELL\\AppData\\Local\\Temp/ipykernel_10032/1449895688.py\"\u001b[1;36m, line \u001b[1;32m9\u001b[0m\n\u001b[1;33m    return 64 - utility_max\u001b[0m\n\u001b[1;37m    ^\u001b[0m\n\u001b[1;31mIndentationError\u001b[0m\u001b[1;31m:\u001b[0m expected an indented block\n"
     ]
    }
   ],
   "source": [
    "def terminal_test(state):\n",
    "    if len(actions(state)) == 0:\n",
    "        return True\n",
    "    return False\n",
    "\n",
    "def utility(state):\n",
    "    utility_max = len(np.where(state == -1))\n",
    "    if state.current_player == \"MAX\":\n",
    "        return utility_max\n",
    "    return 64 - utility_max\n",
    "\n",
    "def min_value(state):\n",
    "    if terminal_test(state):\n",
    "        return utility(state)\n",
    "    v = math.inf\n",
    "    state_actions = actions(state)\n",
    "    for a in state_actions:\n",
    "        v = min(v, max_value(result(state, a)))\n",
    "    return v\n",
    "\n",
    "def max_value(state):\n",
    "    if terminal_test(state):\n",
    "        return utility(state)\n",
    "    v = -math.inf\n",
    "    state_actions = actions(state)\n",
    "    for a in state_actions:\n",
    "        v = max(v, min_value(result(state, a)))\n",
    "    return v"
   ]
  }
 ],
 "metadata": {
  "kernelspec": {
   "display_name": "Python 3 (ipykernel)",
   "language": "python",
   "name": "python3"
  },
  "language_info": {
   "codemirror_mode": {
    "name": "ipython",
    "version": 3
   },
   "file_extension": ".py",
   "mimetype": "text/x-python",
   "name": "python",
   "nbconvert_exporter": "python",
   "pygments_lexer": "ipython3",
   "version": "3.9.7"
  }
 },
 "nbformat": 4,
 "nbformat_minor": 5
}
