{
 "cells": [
  {
   "cell_type": "code",
   "execution_count": 7,
   "id": "b7f58a90",
   "metadata": {},
   "outputs": [],
   "source": [
    "import numpy as np\n",
    "import math"
   ]
  },
  {
   "cell_type": "code",
   "execution_count": 12,
   "id": "c23f6c84",
   "metadata": {},
   "outputs": [
    {
     "data": {
      "text/plain": [
       "0"
      ]
     },
     "execution_count": 12,
     "metadata": {},
     "output_type": "execute_result"
    }
   ],
   "source": [
    "x = math.inf\n",
    "y = np.argmax([1,2,3,4])\n",
    "y = np.argmin([1,2,3,4])\n",
    "y"
   ]
  },
  {
   "cell_type": "code",
   "execution_count": 2,
   "id": "a5e11537",
   "metadata": {},
   "outputs": [],
   "source": [
    "# class State:\n",
    "#     def __init__(self):\n",
    "#         color = None\n",
    "        "
   ]
  },
  {
   "cell_type": "code",
   "execution_count": 67,
   "id": "41643f88",
   "metadata": {},
   "outputs": [],
   "source": [
    "#MAX = BLACK\n",
    "class State:\n",
    "    def __init__(self):\n",
    "        self.game_board = self.intial_game_board()\n",
    "        self.current_player = \"MAX\"\n",
    "        \n",
    "    def intial_game_board(self):\n",
    "        initial_state = np.zeros(shape=(8,8), dtype=np.int32)\n",
    "        initial_state[3,3] = 1\n",
    "        initial_state[4,3] = -1\n",
    "        initial_state[3,4] = -1\n",
    "        initial_state[4,4] = 1\n",
    "        return initial_state"
   ]
  },
  {
   "cell_type": "code",
   "execution_count": 61,
   "id": "d5aa14a6",
   "metadata": {},
   "outputs": [
    {
     "data": {
      "text/plain": [
       "array([[ 0,  0,  0,  0,  0,  0,  0,  0],\n",
       "       [ 0,  0,  0,  0,  0,  0,  0,  0],\n",
       "       [ 0,  0,  0,  0,  0,  0,  0,  0],\n",
       "       [ 0,  0,  0,  1, -1,  0,  0,  0],\n",
       "       [ 0,  0,  0, -1,  1,  0,  0,  0],\n",
       "       [ 0,  0,  0,  0,  0,  0,  0,  0],\n",
       "       [ 0,  0,  0,  0,  0,  0,  0,  0],\n",
       "       [ 0,  0,  0,  0,  0,  0,  0,  0]])"
      ]
     },
     "execution_count": 61,
     "metadata": {},
     "output_type": "execute_result"
    }
   ],
   "source": [
    "#-1 = BLACK\n",
    "# 1 = WHITE\n",
    "# 0 = NADA\n",
    "initial_state = np.zeros(shape=(8,8), dtype=np.int32)\n",
    "initial_state[3,3] = 1\n",
    "initial_state[4,3] = -1\n",
    "initial_state[3,4] = -1\n",
    "initial_state[4,4] = 1\n",
    "initial_state"
   ]
  },
  {
   "cell_type": "code",
   "execution_count": 55,
   "id": "de72b097",
   "metadata": {},
   "outputs": [
    {
     "name": "stdout",
     "output_type": "stream",
     "text": [
      "2\n"
     ]
    }
   ],
   "source": [
    "print(len(np.where(initial_state == -1)))"
   ]
  },
  {
   "cell_type": "code",
   "execution_count": 3,
   "id": "c4f41865",
   "metadata": {},
   "outputs": [],
   "source": [
    "#black = MAX\n",
    "#white = MIN\n",
    "# black = State()\n",
    "# black.color = \"black\"\n",
    "# black.turn = True"
   ]
  },
  {
   "cell_type": "code",
   "execution_count": 121,
   "id": "c16d194b",
   "metadata": {},
   "outputs": [
    {
     "data": {
      "text/plain": [
       "array([[ 0,  0,  0,  0,  0,  0,  0,  0],\n",
       "       [ 0,  0,  0,  0,  0,  0,  0,  0],\n",
       "       [ 0,  8,  0,  0,  0,  0,  0,  0],\n",
       "       [ 0,  0,  0,  1, -1,  0,  0,  0],\n",
       "       [ 0,  0,  0, -1,  1,  0,  0,  0],\n",
       "       [ 0,  0,  0,  0,  0,  0,  0,  0],\n",
       "       [ 0,  0,  0,  0,  0,  0,  0,  0],\n",
       "       [ 0,  0,  0,  0,  0,  0,  0,  0]])"
      ]
     },
     "execution_count": 121,
     "metadata": {},
     "output_type": "execute_result"
    }
   ],
   "source": [
    "ini = State()\n",
    "visited = ([2,2],[1,1])\n",
    "ini.game_board[visited]=8\n",
    "ini.game_board"
   ]
  },
  {
   "cell_type": "code",
   "execution_count": 27,
   "id": "ac214ee6",
   "metadata": {},
   "outputs": [],
   "source": [
    "def player(state):\n",
    "    if state.current_player == \"MAX\":\n",
    "        return (\"MIN\", max_value, np.argmax)\n",
    "    else:\n",
    "        return (\"MAX\", min_value, np.argmin)"
   ]
  },
  {
   "cell_type": "code",
   "execution_count": 130,
   "id": "1d554f13",
   "metadata": {},
   "outputs": [],
   "source": [
    "columns = {\"A\":0,\"B\":1,\"C\":2,\"D\":3,\"E\":4,\"F\":5,\"G\":6,\"H\":7}\n",
    "def actions(state):\n",
    "    # para cada valor de su color propio \n",
    "    # buscar flanqueos posibles, si encuentra agrega a la lista de acciones posibles\n",
    "    \n",
    "def result(state, action):\n",
    "    print(\"state before\", state.game_board)\n",
    "    result_state = state\n",
    "    column = columns[action[0]]\n",
    "    row = action[1]\n",
    "    value = 1\n",
    "    if result_state.current_player == \"MAX\":\n",
    "        value = -1\n",
    "    current_row = int(row)-1\n",
    "    current_column = column\n",
    "    result_state.game_board[current_row, current_column] = value\n",
    "    opposite_value = value*-1\n",
    "    #vertical\n",
    "    current_row = current_row + 1\n",
    "    #controlar LIMITES\n",
    "    if result_state.game_board[current_row, current_column] == opposite_value:\n",
    "        while(result_state.game_board[current_row, current_column] == opposite_value):\n",
    "            current_row+=1\n",
    "        if result_state.game_board[current_row, current_column] == value: #flanqueo exitoso\n",
    "            result_state.game_board[int(row)-1:current_row, current_column] = value\n",
    "            \n",
    "#     current_row = current_row -2\n",
    "    \n",
    "    \n",
    "#     current_row = int(row)-1\n",
    "#     result_state.game_board[int(row)-1, column]\n",
    "    #horizontal\n",
    "    #diagonal    \n",
    "    return result_state"
   ]
  },
  {
   "cell_type": "code",
   "execution_count": 131,
   "id": "b21a28bc",
   "metadata": {},
   "outputs": [
    {
     "name": "stdout",
     "output_type": "stream",
     "text": [
      "state before [[ 0  0  0  0  0  0  0  0]\n",
      " [ 0  0  0  0  0  0  0  0]\n",
      " [ 0  0  0  0  0  0  0  0]\n",
      " [ 0  0  0  1 -1  0  0  0]\n",
      " [ 0  0  0 -1  1  0  0  0]\n",
      " [ 0  0  0  0  0  0  0  0]\n",
      " [ 0  0  0  0  0  0  0  0]\n",
      " [ 0  0  0  0  0  0  0  0]]\n",
      "f\n"
     ]
    },
    {
     "data": {
      "text/plain": [
       "array([[ 0,  0,  0,  0,  0,  0,  0,  0],\n",
       "       [ 0,  0,  0,  0,  0,  0,  0,  0],\n",
       "       [ 0,  0,  0, -1,  0,  0,  0,  0],\n",
       "       [ 0,  0,  0, -1, -1,  0,  0,  0],\n",
       "       [ 0,  0,  0, -1,  1,  0,  0,  0],\n",
       "       [ 0,  0,  0,  0,  0,  0,  0,  0],\n",
       "       [ 0,  0,  0,  0,  0,  0,  0,  0],\n",
       "       [ 0,  0,  0,  0,  0,  0,  0,  0]])"
      ]
     },
     "execution_count": 131,
     "metadata": {},
     "output_type": "execute_result"
    }
   ],
   "source": [
    "result(State(),\"D3\").game_board"
   ]
  },
  {
   "cell_type": "code",
   "execution_count": 17,
   "id": "1e08f9f0",
   "metadata": {},
   "outputs": [],
   "source": [
    "def min_max_decision(state):\n",
    "    values = []\n",
    "    player, func_value, func_arg = player(state)\n",
    "    state.current_player = player\n",
    "    state_actions = actions(state)\n",
    "    for action in state_actions:\n",
    "        v = func_value(result(state, action))\n",
    "        values.append(v)\n",
    "        idx = func_arg(values)\n",
    "    return state_actions[idx]"
   ]
  },
  {
   "cell_type": "code",
   "execution_count": 28,
   "id": "093d7bdf",
   "metadata": {},
   "outputs": [
    {
     "ename": "IndentationError",
     "evalue": "expected an indented block (Temp/ipykernel_10032/1449895688.py, line 9)",
     "output_type": "error",
     "traceback": [
      "\u001b[1;36m  File \u001b[1;32m\"C:\\Users\\DELL\\AppData\\Local\\Temp/ipykernel_10032/1449895688.py\"\u001b[1;36m, line \u001b[1;32m9\u001b[0m\n\u001b[1;33m    return 64 - utility_max\u001b[0m\n\u001b[1;37m    ^\u001b[0m\n\u001b[1;31mIndentationError\u001b[0m\u001b[1;31m:\u001b[0m expected an indented block\n"
     ]
    }
   ],
   "source": [
    "def terminal_test(state):\n",
    "    if len(actions(state)) == 0:\n",
    "        return True\n",
    "    return False\n",
    "\n",
    "def utility(state):\n",
    "    utility_max = len(np.where(state == -1))\n",
    "    if state.current_player == \"MAX\":\n",
    "        return utility_max\n",
    "    return 64 - utility_max\n",
    "\n",
    "def min_value(state):\n",
    "    if terminal_test(state):\n",
    "        return utility(state)\n",
    "    v = math.inf\n",
    "    state_actions = actions(state)\n",
    "    for a in state_actions:\n",
    "        v = min(v, max_value(result(state, a)))\n",
    "    return v\n",
    "\n",
    "def max_value(state):\n",
    "    if terminal_test(state):\n",
    "        return utility(state)\n",
    "    v = -math.inf\n",
    "    state_actions = actions(state)\n",
    "    for a in state_actions:\n",
    "        v = max(v, min_value(result(state, a)))\n",
    "    return v"
   ]
  }
 ],
 "metadata": {
  "kernelspec": {
   "display_name": "Python 3 (ipykernel)",
   "language": "python",
   "name": "python3"
  },
  "language_info": {
   "codemirror_mode": {
    "name": "ipython",
    "version": 3
   },
   "file_extension": ".py",
   "mimetype": "text/x-python",
   "name": "python",
   "nbconvert_exporter": "python",
   "pygments_lexer": "ipython3",
   "version": "3.9.7"
  }
 },
 "nbformat": 4,
 "nbformat_minor": 5
}
