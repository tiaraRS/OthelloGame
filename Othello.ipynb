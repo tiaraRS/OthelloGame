{
 "cells": [
  {
   "cell_type": "code",
   "execution_count": 1,
   "id": "b7f58a90",
   "metadata": {},
   "outputs": [],
   "source": [
    "import numpy as np\n",
    "import math"
   ]
  },
  {
   "cell_type": "code",
   "execution_count": 2,
   "id": "c23f6c84",
   "metadata": {},
   "outputs": [
    {
     "data": {
      "text/plain": [
       "0"
      ]
     },
     "execution_count": 2,
     "metadata": {},
     "output_type": "execute_result"
    }
   ],
   "source": [
    "x = math.inf\n",
    "y = np.argmax([1,2,3,4])\n",
    "y = np.argmin([1,2,3,4])\n",
    "y"
   ]
  },
  {
   "cell_type": "code",
   "execution_count": 3,
   "id": "a5e11537",
   "metadata": {},
   "outputs": [],
   "source": [
    "# class State:\n",
    "#     def __init__(self):\n",
    "#         color = None\n",
    "        "
   ]
  },
  {
   "cell_type": "code",
   "execution_count": 6,
   "id": "41643f88",
   "metadata": {},
   "outputs": [],
   "source": [
    "#MAX = BLACK\n",
    "class State:\n",
    "    def __init__(self):\n",
    "        self.game_board = self.intial_game_board()\n",
    "        self.current_player = \"MAX\"\n",
    "        \n",
    "    def intial_game_board(self):\n",
    "        initial_state = np.zeros(shape=(8,8), dtype=np.int32)        \n",
    "        initial_state[3,3] = 1\n",
    "        initial_state[4,3] = -1\n",
    "        initial_state[3,4] = -1\n",
    "        initial_state[4,4] = 1\n",
    "        return initial_state"
   ]
  },
  {
   "cell_type": "code",
   "execution_count": 7,
   "id": "2545ceb0",
   "metadata": {},
   "outputs": [
    {
     "data": {
      "text/plain": [
       "array([[ 0,  0,  1,  0,  0,  0,  0,  0],\n",
       "       [ 0,  0,  0,  0,  0,  0,  0,  0],\n",
       "       [ 0,  0,  0,  0,  0,  0,  0,  0],\n",
       "       [ 0,  0,  0,  1, -1,  0,  0,  0],\n",
       "       [ 0,  0,  0, -1,  1,  0,  0,  0],\n",
       "       [ 0,  0,  0,  0,  0,  0,  0,  0],\n",
       "       [ 0,  0,  0,  0,  0,  0,  0,  0],\n",
       "       [ 0,  0,  0,  0,  0,  0,  0,  0]])"
      ]
     },
     "execution_count": 7,
     "metadata": {},
     "output_type": "execute_result"
    }
   ],
   "source": [
    "a= State()\n",
    "a.game_board[0,2]=1\n",
    "a.game_board"
   ]
  },
  {
   "cell_type": "code",
   "execution_count": 8,
   "id": "de72b097",
   "metadata": {},
   "outputs": [
    {
     "ename": "NameError",
     "evalue": "name 'initial_state' is not defined",
     "output_type": "error",
     "traceback": [
      "\u001b[1;31m---------------------------------------------------------------------------\u001b[0m",
      "\u001b[1;31mNameError\u001b[0m                                 Traceback (most recent call last)",
      "\u001b[1;32m~\\AppData\\Local\\Temp/ipykernel_13600/623699994.py\u001b[0m in \u001b[0;36m<module>\u001b[1;34m\u001b[0m\n\u001b[1;32m----> 1\u001b[1;33m \u001b[0mprint\u001b[0m\u001b[1;33m(\u001b[0m\u001b[0mnp\u001b[0m\u001b[1;33m.\u001b[0m\u001b[0mwhere\u001b[0m\u001b[1;33m(\u001b[0m\u001b[0minitial_state\u001b[0m \u001b[1;33m==\u001b[0m \u001b[1;33m-\u001b[0m\u001b[1;36m1\u001b[0m\u001b[1;33m)\u001b[0m\u001b[1;33m)\u001b[0m\u001b[1;33m\u001b[0m\u001b[1;33m\u001b[0m\u001b[0m\n\u001b[0m",
      "\u001b[1;31mNameError\u001b[0m: name 'initial_state' is not defined"
     ]
    }
   ],
   "source": [
    "print(np.where(initial_state == -1))"
   ]
  },
  {
   "cell_type": "code",
   "execution_count": 9,
   "id": "c16d194b",
   "metadata": {},
   "outputs": [
    {
     "data": {
      "text/plain": [
       "array([[ 0,  0,  0,  0,  0,  0,  0,  0],\n",
       "       [ 0,  0,  0,  0,  0,  0,  0,  0],\n",
       "       [ 0,  8,  0,  0,  0,  0,  0,  0],\n",
       "       [ 0,  0,  0,  1, -1,  0,  0,  0],\n",
       "       [ 0,  0,  0, -1,  1,  0,  0,  0],\n",
       "       [ 0,  0,  0,  0,  0,  0,  0,  0],\n",
       "       [ 0,  0,  0,  0,  0,  0,  0,  0],\n",
       "       [ 0,  0,  0,  0,  0,  0,  0,  0]])"
      ]
     },
     "execution_count": 9,
     "metadata": {},
     "output_type": "execute_result"
    }
   ],
   "source": [
    "ini = State()\n",
    "visited = ([2,2],[1,1])\n",
    "ini.game_board[visited]=8\n",
    "ini.game_board"
   ]
  },
  {
   "cell_type": "code",
   "execution_count": 9,
   "id": "ac214ee6",
   "metadata": {},
   "outputs": [],
   "source": [
    "def player(state):\n",
    "    if state.current_player == \"MAX\":\n",
    "        return (\"MAX\", min_value,np.argmax)\n",
    "    else:\n",
    "        return (\"MIN\", max_value, np.argmin)        "
   ]
  },
  {
   "cell_type": "code",
   "execution_count": 46,
   "id": "a4a2098e",
   "metadata": {},
   "outputs": [],
   "source": [
    "def change_player(state):\n",
    "     if state.current_player == \"MAX\":\n",
    "        return \"MIN\"\n",
    "     else:\n",
    "        return \"MAX\""
   ]
  },
  {
   "cell_type": "code",
   "execution_count": 59,
   "id": "d9915a55",
   "metadata": {},
   "outputs": [],
   "source": [
    "import copy\n",
    "columns = {\"A\":0,\"B\":1,\"C\":2,\"D\":3,\"E\":4,\"F\":5,\"G\":6,\"H\":7}\n",
    "upper_limit = 7\n",
    "lower_limit = 0\n",
    "def out_of_boundaries(pos):\n",
    "    return pos<0 or pos>7\n",
    "\n",
    "def not_out_of_limits(row, column):\n",
    "    return not out_of_boundaries(row) and not out_of_boundaries(column)\n",
    "\n",
    "def vertical_up_direction_update_function(row, column):\n",
    "    return row+1, column\n",
    "\n",
    "# def flanking_function_vertical_up(value, row, current_row, column, current_column, state):\n",
    "# #     print(\"row\",current_row)\n",
    "#     state.game_board[int(row):current_row, column] = value\n",
    "#     return state\n",
    "\n",
    "def vertical_down_direction_update_function(row, column):\n",
    "    return row-1, column\n",
    "\n",
    "# def flanking_function_vertical_down(value, row, current_row, column, current_column, state):\n",
    "# #     print(\"row\",row)\n",
    "#     state.game_board[current_row:int(row)+1, column] = value\n",
    "#     return state\n",
    "\n",
    "def horizontal_left_direction_update_function(row, column):\n",
    "    return row, column-1\n",
    "\n",
    "def horizontal_right_direction_update_function(row, column):\n",
    "    return row, column+1\n",
    "\n",
    "# def flanking_function_horizontal_left(value, row, current_row, column, current_column, state):\n",
    "#     state.game_board[row, current_column:column+1] = value\n",
    "#     return state\n",
    "\n",
    "# def flanking_function_horizontal_right(value, row, current_row, column, current_column, state):\n",
    "# #    print(\"row\",row)\n",
    "#     state.game_board[row, column:current_column] = value\n",
    "#     return state\n",
    "\n",
    "def diagonal_ul_direction_update_function(row, column):\n",
    "    return row+1, column-1\n",
    "\n",
    "def diagonal_ur_direction_update_function(row, column):\n",
    "    return row+1, column+1\n",
    "\n",
    "def diagonal_dl_direction_update_function(row, column):\n",
    "    return row-1, column-1\n",
    "\n",
    "def diagonal_dr_direction_update_function(row, column):\n",
    "    return row-1, column+1\n",
    "\n",
    "# def flanking_function_diagonal_ul(value, row, current_row, column, current_column, state):\n",
    "#     state.game_board[row, current_column:column+1] = value\n",
    "#     return state\n",
    "\n",
    "def flank(state, value, row, column, direction_update_function):\n",
    "    result_state = copy.deepcopy(state)\n",
    "    opposite_value = value*-1\n",
    "    successful_flanking = False\n",
    "    current_row, current_column = direction_update_function(row, column)\n",
    "    print(current_row, current_column)\n",
    "    if not_out_of_limits(current_row, current_column) and result_state.game_board[current_row, current_column] == opposite_value:\n",
    "        print(current_row, current_column)\n",
    "        while(not_out_of_limits(current_row, current_column) and result_state.game_board[current_row, current_column] == opposite_value):\n",
    "            result_state.game_board[current_row, current_column] = value\n",
    "            current_row, current_column = direction_update_function(current_row, current_column)\n",
    "            print(current_row, current_column)\n",
    "        if not_out_of_limits(current_row, current_column) and result_state.game_board[current_row, current_column] == value: #flanqueo exitoso\n",
    "            print(\"Success\")\n",
    "            successful_flanking = True\n",
    "#             result_state = flanking_function(value, row, current_row, column, current_column, result_state)\n",
    "        if successful_flanking:\n",
    "            result_state.game_board[row, column] = value\n",
    "            return result_state\n",
    "    return state"
   ]
  },
  {
   "cell_type": "code",
   "execution_count": 80,
   "id": "3e0db37c",
   "metadata": {},
   "outputs": [
    {
     "name": "stdout",
     "output_type": "stream",
     "text": [
      "[[ 0  0  0  0  0  0  0  0]\n",
      " [ 0  0  0  0  0  0  0  0]\n",
      " [ 0  0  0  0  0  1  0  0]\n",
      " [ 0  0  1  1 -1  0  0  0]\n",
      " [ 0  0  0 -1  1  1  0  0]\n",
      " [ 0  0  1  0  0  0  0  0]\n",
      " [ 0  0  0  0  0  0  0  0]\n",
      " [ 0  0  0  0  0  0  0  0]]\n",
      "4 5\n",
      "4 5\n",
      "3 4\n",
      "Success\n",
      "[[ 0  0  0  0  0  0  0  0]\n",
      " [ 0  0  0  0  0  0  0  0]\n",
      " [ 0  0  0  0  0  1  0  0]\n",
      " [ 0  0  1  1 -1  0  0  0]\n",
      " [ 0  0  0 -1  1 -1  0  0]\n",
      " [ 0  0  1  0  0  0 -1  0]\n",
      " [ 0  0  0  0  0  0  0  0]\n",
      " [ 0  0  0  0  0  0  0  0]]\n"
     ]
    }
   ],
   "source": [
    "a = State()\n",
    "#print(flank(a,-1,5,4,vertical_down_direction_update_function).game_board)\n",
    "#print(flank(a,-1,2,3,vertical_up_direction_update_function).game_board)\n",
    "#print(flank(a,-1,3,2,horizontal_right_direction_update_function).game_board)\n",
    "#print(flank(a,-1,4,5,horizontal_left_direction_update_function).game_board)\n",
    "a.game_board[5,2]=1\n",
    "a.game_board[3,2]=1\n",
    "a.game_board[2,5]=1\n",
    "a.game_board[4,5]=1\n",
    "print(a.game_board)\n",
    "#print(flank(a,-1,1,6,diagonal_ul_direction_update_function).game_board)\n",
    "#print(flank(a,-1,2,1,diagonal_ur_direction_update_function).game_board)\n",
    "#print(flank(a,-1,5,6,diagonal_dl_direction_update_function).game_board)\n",
    "#print(flank(a,-1,6,1,diagonal_dr_direction_update_function).game_board)"
   ]
  },
  {
   "cell_type": "code",
   "execution_count": 10,
   "id": "7b1a2945",
   "metadata": {},
   "outputs": [],
   "source": [
    "import copy\n",
    "columns = {\"A\":0,\"B\":1,\"C\":2,\"D\":3,\"E\":4,\"F\":5,\"G\":6,\"H\":7}\n",
    "upper_limit = 7\n",
    "lower_limit = 0\n",
    "def out_of_boundaries(pos):\n",
    "    return pos<0 or pos>7\n",
    "\n",
    "def not_out_of_limits(row, column):\n",
    "    return not out_of_boundaries(row) and not out_of_boundaries(column)\n",
    "\n",
    "def vertical_up_direction_update_function(row, column):\n",
    "    return row+1, column\n",
    "\n",
    "def flanking_function_vertical_up(value, row, current_row, column, current_column, state):\n",
    "    state.game_board[int(row):current_row, column] = value\n",
    "    return state\n",
    "\n",
    "def flank(state, value, row, column, direction_update_function, flanking_function):\n",
    "    result_state = copy.deepcopy(state)\n",
    "    opposite_value = value*-1\n",
    "    current_row, current_column = direction_update_function(row, column)\n",
    "    if not_out_of_limits(current_row, current_column) and result_state.game_board[current_row, current_column] == opposite_value:\n",
    "        while(not_out_of_limits(current_row, current_column) and result_state.game_board[current_row, current_column] == opposite_value):\n",
    "            current_row, current_column = direction_update_function(row, column)\n",
    "        if not_out_of_limits(current_row, current_column) and result_state.game_board[current_row, current_column] == value: #flanqueo exitoso\n",
    "            result_state = flanking_function(value, row, current_row, column, current_column, result_state)\n",
    "            \n",
    "def flank_vertical_down(state, value, row, column):\n",
    "    result_state = state\n",
    "    opposite_value = value*-1\n",
    "    current_row = row + 1\n",
    "    \n",
    "    if not out_of_boundaries(current_row) and result_state.game_board[current_row, column] == opposite_value:\n",
    "        while(not out_of_boundaries(current_row) and result_state.game_board[current_row, column] == opposite_value):\n",
    "            current_row+=1\n",
    "        if not out_of_boundaries(current_row) and result_state.game_board[current_row, column] == value: #flanqueo exitoso\n",
    "#             print(\"Vertical\", row, column)\n",
    "#             print(\"rows\", int(row),current_row)\n",
    "            result_state.game_board[int(row):current_row, column] = value\n",
    "\n",
    "def move_vertical(state, value, row, column):\n",
    "    result_state = state\n",
    "    #down\n",
    "    current_row = row + 1\n",
    "    opposite_value = value*-1\n",
    "    if not out_of_boundaries(current_row) and result_state.game_board[current_row, column] == opposite_value:\n",
    "        while(not out_of_boundaries(current_row) and result_state.game_board[current_row, column] == opposite_value):\n",
    "            current_row+=1\n",
    "        if not out_of_boundaries(current_row) and result_state.game_board[current_row, column] == value: #flanqueo exitoso\n",
    "#             print(\"Vertical\", row, column)\n",
    "#             print(\"rows\", int(row),current_row)\n",
    "            result_state.game_board[int(row):current_row, column] = value\n",
    "#             print(result_state.game_board)\n",
    "    #up\n",
    "    current_row = row - 1    \n",
    "    if not out_of_boundaries(current_row) and result_state.game_board[current_row, column] == opposite_value:\n",
    "        while(not out_of_boundaries(current_row) and result_state.game_board[current_row, column] == opposite_value):\n",
    "#             result_state.game_board[current_row, column] = value\n",
    "            current_row-=1\n",
    "        if not out_of_boundaries(current_row) and result_state.game_board[current_row, column] == value: #flanqueo exitoso\n",
    "#             print(\"Vertical\", row, column)\n",
    "#             print(\"rows\", int(row),current_row)\n",
    "            result_state.game_board[current_row:int(row), column] = value\n",
    "    return result_state"
   ]
  },
  {
   "cell_type": "code",
   "execution_count": 12,
   "id": "ac357a7b",
   "metadata": {},
   "outputs": [],
   "source": [
    "import copy\n",
    "columns = {\"A\":0,\"B\":1,\"C\":2,\"D\":3,\"E\":4,\"F\":5,\"G\":6,\"H\":7}\n",
    "upper_limit = 7\n",
    "lower_limit = 0\n",
    "def out_of_boundaries(pos):\n",
    "    return pos<0 or pos>7\n",
    "\n",
    "def move_vertical(state, value, row, column):\n",
    "    result_state = state\n",
    "    #down\n",
    "    current_row = row + 1\n",
    "    opposite_value = value*-1\n",
    "    if not out_of_boundaries(current_row) and result_state.game_board[current_row, column] == opposite_value:\n",
    "        while(not out_of_boundaries(current_row) and result_state.game_board[current_row, column] == opposite_value):\n",
    "            current_row+=1\n",
    "        if not out_of_boundaries(current_row) and result_state.game_board[current_row, column] == value: #flanqueo exitoso\n",
    "#             print(\"Vertical\", row, column)\n",
    "#             print(\"rows\", int(row),current_row)\n",
    "            result_state.game_board[int(row):current_row, column] = value\n",
    "#             print(result_state.game_board)\n",
    "    #up\n",
    "    current_row = row - 1    \n",
    "    if not out_of_boundaries(current_row) and result_state.game_board[current_row, column] == opposite_value:\n",
    "        while(not out_of_boundaries(current_row) and result_state.game_board[current_row, column] == opposite_value):\n",
    "#             result_state.game_board[current_row, column] = value\n",
    "            current_row-=1\n",
    "        if not out_of_boundaries(current_row) and result_state.game_board[current_row, column] == value: #flanqueo exitoso\n",
    "#             print(\"Vertical\", row, column)\n",
    "#             print(\"rows\", int(row),current_row)\n",
    "            result_state.game_board[current_row:int(row), column] = value\n",
    "    return result_state\n",
    "\n",
    "def move_horizontal(state, value, row, column):\n",
    "    result_state = state\n",
    "    opposite_value = value*-1\n",
    "    #Horizontal Izquierda\n",
    "    current_column = column+1\n",
    "    if not out_of_boundaries(current_column) and result_state.game_board[row, current_column] == opposite_value:\n",
    "        while(not out_of_boundaries(current_column) and result_state.game_board[row, current_column] == opposite_value):\n",
    "#             result_state.game_board[row, current_column] = value\n",
    "            current_column+=1\n",
    "        if not out_of_boundaries(current_column) and result_state.game_board[row, current_column] == value: \n",
    "#             print(\"Horizontal\", row, column)\n",
    "#             print(\"columns\", int(column),current_column)\n",
    "            result_state.game_board[row, int(column):current_column] = value\n",
    "            \n",
    "    #Horizontal Derecha\n",
    "    current_column = column-1\n",
    "    if not out_of_boundaries(current_column) and result_state.game_board[row, current_column] == opposite_value:\n",
    "        while(not out_of_boundaries(current_column) and result_state.game_board[row, current_column] == opposite_value):\n",
    "#             result_state.game_board[row, current_column] = value\n",
    "            current_column-=1\n",
    "        if  not out_of_boundaries(current_column) and result_state.game_board[row, current_column] == value: #flanqueo exitoso\n",
    "#             print(\"Horizontal\", row, column)\n",
    "#             print(\"columns\", int(column),current_column)\n",
    "            result_state.game_board[row, current_column:int(column)] = value\n",
    "    return result_state\n",
    "\n",
    "def move_diagonal(state, value, row, column):   \n",
    "    result_state = state\n",
    "    opposite_value = value*-1\n",
    "#     print(\"diag 0\", result_state.game_board)\n",
    "#DIAGONAL ABAJO(IZQUIRDA-DERECHA) \\\n",
    "    current_column = column+1\n",
    "    current_row = row+1\n",
    "    f = False\n",
    "    temporal_state = copy.deepcopy(result_state)\n",
    "    if not out_of_boundaries(current_column) and not out_of_boundaries(current_row) and temporal_state.game_board[current_row, current_column] == opposite_value:\n",
    "        while(not out_of_boundaries(current_column) and not out_of_boundaries(current_row) and temporal_state.game_board[current_row, current_column] == opposite_value):\n",
    "            temporal_state.game_board[current_row, current_column] = value\n",
    "            current_column+=1\n",
    "            current_row+=1\n",
    "        if not out_of_boundaries(current_column) and not out_of_boundaries(current_row) and temporal_state.game_board[current_row, current_column] == value:\n",
    "            f = True\n",
    "        if f:\n",
    "            result_state = temporal_state\n",
    "#         print(\"diag 1\", result_state.game_board)\n",
    "#             rows_flip = list(range(int(row),current_row+1))\n",
    "#             cols_flip = list(range(int(column), current_column+1))\n",
    "#             result_state.game_board[zip(rows_flip,cols_flip)] = value\n",
    "#             print(\"Diagonal 1\", row, column)\n",
    "#             print(\"rows\", int(row),current_row)\n",
    "#             print(\"columns\", int(column),current_column)\n",
    "#             result_state.game_board[int(row):current_row,int(column): current_column] = value\n",
    "#DIAGONAL ARRIBA(IZQUIERDA-DERECHA)\n",
    "    current_column = column+1\n",
    "    current_row = row-1\n",
    "    temporal_state = copy.deepcopy(result_state)\n",
    "    f= False\n",
    "    if not out_of_boundaries(current_column) and not out_of_boundaries(current_row) and temporal_state.game_board[current_row, current_column] == opposite_value:\n",
    "        while(not out_of_boundaries(current_column) and not out_of_boundaries(current_row) and temporal_state.game_board[current_row, current_column] == opposite_value):        \n",
    "            temporal_state.game_board[current_row, current_column] = value\n",
    "            current_column+=1\n",
    "            current_row-=1\n",
    "        if not out_of_boundaries(current_column) and not out_of_boundaries(current_row) and temporal_state.game_board[current_row, current_column] == value: #flanqueo exitoso\n",
    "            f = True\n",
    "        if f:\n",
    "            result_state = temporal_state\n",
    "#         print(\"diag 2\", result_state.game_board)\n",
    "#             print(\"Diagonal 2\", row, column)\n",
    "#             print(\"rows\", int(row),current_row)\n",
    "#             print(\"columns\", int(column),current_column)\n",
    "#             rows_flip = list(range(current_row,int(row)))\n",
    "#             cols_flip = list(range(int(column), current_column))\n",
    "#             result_state.game_board[zip(rows_flip,cols_flip)] = value\n",
    "#             result_state.game_board[current_row:int(row),int(column): current_column] = value\n",
    "#DIAGONAL ABAJO(DERECHA-IZQUIERDA)\n",
    "    current_column = column-1\n",
    "    current_row = row+1\n",
    "    temporal_state = copy.deepcopy(result_state)\n",
    "#     print(\"diag antes de 3\", result_state.game_board)\n",
    "    f = False\n",
    "    if not out_of_boundaries(current_column) and not out_of_boundaries(current_row) and temporal_state.game_board[current_row, current_column] == opposite_value:\n",
    "        while(not out_of_boundaries(current_column) and not out_of_boundaries(current_row) and temporal_state.game_board[current_row, current_column] == opposite_value):\n",
    "            temporal_state.game_board[current_row, current_column] = value\n",
    "            current_column-=1\n",
    "            current_row+=1\n",
    "        print(current_row, current_column)\n",
    "        if not out_of_boundaries(current_column) and not out_of_boundaries(current_row) and temporal_state.game_board[current_row, current_column] == value: \n",
    "#             print(\"FFF TRUE\")\n",
    "            f = True\n",
    "#         print(\"ANTES DE ASIGNAR\",result_state.game_board,temporal_state.game_board)\n",
    "        if f:\n",
    "            result_state = temporal_state   \n",
    "#         print(\"diag 3\", result_state.game_board)\n",
    "#             print(\"Diagonal 3\", row, column)\n",
    "#             print(\"rows\", int(row),current_row)\n",
    "#             print(\"columns\", int(column),current_column)\n",
    "#             rows_flip = list(range(int(row),current_row))\n",
    "#             cols_flip = list(range(current_column, int(column)))\n",
    "            \n",
    "#             print(int(row),current_row, current_column, int(column))\n",
    "#             print(\"list for zip\", rows_flip,cols_flip)\n",
    "#             print(list(zip(rows_flip,cols_flip)))\n",
    "#             result_state.game_board[list(zip(rows_flip,cols_flip))] = value\n",
    "##DIAGONAL ARRIBA(DERECHA-IZQUIERDA)\n",
    "    current_column = column-1\n",
    "    current_row = row-1\n",
    "    f = False\n",
    "    temporal_state = copy.deepcopy(result_state)\n",
    "    if not out_of_boundaries(current_column) and not out_of_boundaries(current_row) and temporal_state.game_board[current_row, current_column] == opposite_value:\n",
    "        while(not out_of_boundaries(current_column) and not out_of_boundaries(current_row) and temporal_state.game_board[current_row, current_column] == opposite_value):\n",
    "            temporal_state.game_board[current_row, current_column] = value\n",
    "            current_column-=1\n",
    "            current_row-=1\n",
    "        if not out_of_boundaries(current_column) and not out_of_boundaries(current_row) and temporal_state.game_board[current_row, current_column] == value: \n",
    "            f = True\n",
    "#             print(\"true\")\n",
    "        if f:\n",
    "            result_state = temporal_state\n",
    "#         print(\"diag 4\", result_state.game_board)\n",
    "#             print(\"Diagonal 4 \", row, column)\n",
    "#             print(\"rows\", int(row),current_row)\n",
    "#             print(\"columns\", int(column),current_column)           \n",
    "#             rows_flip=list(range(current_row,int(row)))\n",
    "#             cols_flip = list(range(current_column,int(column)))\n",
    "#             result_state.game_board[zip(rows_flip,cols_flip)] = value\n",
    "    return result_state\n",
    "    "
   ]
  },
  {
   "cell_type": "code",
   "execution_count": 131,
   "id": "9e41a772",
   "metadata": {},
   "outputs": [],
   "source": [
    "def get_possible_moves_vertical(state, pos):\n",
    "    value = get_player_value(state)\n",
    "    row=pos[0]\n",
    "    column=pos[1]\n",
    "    result_state = state\n",
    "    possible_moves=[]\n",
    "    #down\n",
    "    current_row = row + 1\n",
    "    opposite_value = value*-1\n",
    "    if not out_of_boundaries(current_row) and result_state.game_board[current_row, column] == opposite_value:        \n",
    "        while(not out_of_boundaries(current_row) and result_state.game_board[current_row, column] == opposite_value):\n",
    "            current_row+=1\n",
    "        if not out_of_boundaries(current_row) and result_state.game_board[current_row, column] == 0: #flanqueo exitoso            \n",
    "            possible_moves.append((current_row,column))    \n",
    "    #up\n",
    "    current_row = row - 1    \n",
    "#     print(current_row,column)\n",
    "#     print(\"oppo\", opposite_value)\n",
    "#     print(\"curr\",result_state.game_board[current_row, column] )\n",
    "    if (not out_of_boundaries(current_row)) and result_state.game_board[current_row, column] == opposite_value:     \n",
    "#         print(\"in\")\n",
    "        while(not out_of_boundaries(current_row) and result_state.game_board[current_row, column] == opposite_value):\n",
    "#             result_state.game_board[current_row, column] = value\n",
    "            current_row-=1            \n",
    "        if not out_of_boundaries(current_row) and result_state.game_board[current_row, column] == 0: #flanqueo exitoso\n",
    "            possible_moves.append((current_row,column))\n",
    "    return possible_moves\n",
    "def get_possible_moves_horizontal(state, pos):\n",
    "    value = get_player_value(state)\n",
    "    row=pos[0]\n",
    "    column=pos[1]\n",
    "    result_state = state\n",
    "    possible_moves=[]  \n",
    "    opposite_value = value*-1\n",
    "    #Horizontal Izquierda\n",
    "    current_column = column+1\n",
    "    if not out_of_boundaries(current_column) and result_state.game_board[row, current_column] == opposite_value:\n",
    "        while(not out_of_boundaries(current_column) and result_state.game_board[row, current_column] == opposite_value):\n",
    "#             result_state.game_board[row, current_column] = value\n",
    "            current_column+=1\n",
    "        if not out_of_boundaries(current_column) and result_state.game_board[row, current_column] == 0: \n",
    "             possible_moves.append((row,current_column))\n",
    "            \n",
    "    #Horizontal Derecha\n",
    "    current_column = column-1\n",
    "    if not out_of_boundaries(current_column) and result_state.game_board[row, current_column] == opposite_value:\n",
    "        while(not out_of_boundaries(current_column) and result_state.game_board[row, current_column] == opposite_value):\n",
    "#             result_state.game_board[row, current_column] = value\n",
    "            current_column-=1\n",
    "        if not out_of_boundaries(current_column) and result_state.game_board[row, current_column] == 0: #flanqueo exitoso\n",
    "            possible_moves.append((row,current_column))\n",
    "    return possible_moves\n",
    "\n",
    "def get_possible_moves_diagonal(state, pos):\n",
    "    value = get_player_value(state)\n",
    "    row=pos[0]\n",
    "    column=pos[1]\n",
    "    result_state = state\n",
    "    possible_moves=[]\n",
    "    opposite_value = value*-1\n",
    "    #DIAGONAL ABAJO(IZQUIRDA-DERECHA) \\\n",
    "    current_column = column+1\n",
    "    current_row = row+1\n",
    "    if not out_of_boundaries(current_column) and not out_of_boundaries(current_row) and result_state.game_board[current_row, current_column] == opposite_value:\n",
    "        while(not out_of_boundaries(current_column) and not out_of_boundaries(current_row) and result_state.game_board[current_row, current_column] == opposite_value):\n",
    "#             result_state.game_board[current_row, current_column] = value\n",
    "            current_column+=1\n",
    "            current_row+=1\n",
    "        if not out_of_boundaries(current_column) and not out_of_boundaries(current_row) and result_state.game_board[current_row, current_column] == 0: \n",
    "            possible_moves.append((current_row,current_column))\n",
    "#DIAGONAL ARRIBA(IZQUIERDA-DERECHA)\n",
    "    current_column = column+1\n",
    "    current_row = row-1\n",
    "    if not out_of_boundaries(current_column) and not out_of_boundaries(current_row) and result_state.game_board[current_row, current_column] == opposite_value:\n",
    "        while(not out_of_boundaries(current_column) and not out_of_boundaries(current_row) and result_state.game_board[current_row, current_column] == opposite_value):\n",
    "#             result_state.game_board[current_row, current_column] = value\n",
    "            current_column+=1\n",
    "            current_row-=1\n",
    "        if not out_of_boundaries(current_column) and not out_of_boundaries(current_row) and result_state.game_board[current_row, current_column] == value: #flanqueo exitoso\n",
    "            result_state.game_board[int(column)+1 and int(row)-1:current_row, current_column] = value\n",
    "#DIAGONAL ABAJO(DERECHA-IZQUIERDA)\n",
    "    current_column = column-1\n",
    "    current_row = row+1\n",
    "    if not out_of_boundaries(current_column) and not out_of_boundaries(current_row) and result_state.game_board[current_row, current_column] == opposite_value:\n",
    "        while( not out_of_boundaries(current_column) and not out_of_boundaries(current_row) and result_state.game_board[current_row, current_column] == opposite_value):\n",
    "#             result_state.game_board[current_row, current_column] = value\n",
    "            current_column-=1\n",
    "            current_row+=1\n",
    "        if not out_of_boundaries(current_column) and not out_of_boundaries(current_row) and result_state.game_board[current_row, current_column] == 0: \n",
    "            possible_moves.append((current_row,current_column))\n",
    "##DIAGONAL ARRIBA(DERECHA-IZQUIERDA)\n",
    "    current_column = column-1\n",
    "    current_row = row-1\n",
    "    if not out_of_boundaries(current_column) and not out_of_boundaries(current_row) and result_state.game_board[current_row, current_column] == opposite_value:\n",
    "        while( not out_of_boundaries(current_column) and not out_of_boundaries(current_row) and result_state.game_board[current_row, current_column] == opposite_value):\n",
    "#             result_state.game_board[current_row, current_column] = value\n",
    "            current_column-=1\n",
    "            current_row-=1\n",
    "        if not out_of_boundaries(current_column) and not out_of_boundaries(current_row) and result_state.game_board[current_row, current_column] == 0: \n",
    "            possible_moves.append((current_row,current_column))\n",
    "#     print(\"possible_moves\",possible_moves)\n",
    "    return possible_moves"
   ]
  },
  {
   "cell_type": "code",
   "execution_count": 14,
   "id": "00b7629c",
   "metadata": {},
   "outputs": [
    {
     "ename": "IndentationError",
     "evalue": "unexpected indent (Temp/ipykernel_22596/3523177645.py, line 2)",
     "output_type": "error",
     "traceback": [
      "\u001b[1;36m  File \u001b[1;32m\"C:\\Users\\DELL\\AppData\\Local\\Temp/ipykernel_22596/3523177645.py\"\u001b[1;36m, line \u001b[1;32m2\u001b[0m\n\u001b[1;33m    pos[0] = map_values[pos[0]]\u001b[0m\n\u001b[1;37m    ^\u001b[0m\n\u001b[1;31mIndentationError\u001b[0m\u001b[1;31m:\u001b[0m unexpected indent\n"
     ]
    }
   ],
   "source": [
    "### def map_letters(pos):\n",
    "    pos[0] = map_values[pos[0]]\n",
    "    pos[1] = pos[1]+1"
   ]
  },
  {
   "cell_type": "code",
   "execution_count": 110,
   "id": "0f127b68",
   "metadata": {},
   "outputs": [],
   "source": [
    "def get_possible_actions(state, pos):\n",
    "    possible_actions=np.array([], np.int64)\n",
    "    vertical_possible_actions = get_possible_moves_vertical(state, pos)\n",
    "    horizontal_possible_actions = get_possible_moves_horizontal(state, pos)\n",
    "    diagonal_possible_actions = get_possible_moves_diagonal(state, pos)\n",
    "    if len(vertical_possible_actions)>0:       \n",
    "        possible_actions= np.append(possible_actions,vertical_possible_actions)\n",
    "#         possible_actions.append(vertical_possible_actions)\n",
    "        print(\"Vert\", vertical_possible_actions)\n",
    "    if len(horizontal_possible_actions)>0:\n",
    "        possible_actions= np.append(possible_actions,horizontal_possible_actions)\n",
    "#         possible_actions.append(horizontal_possible_actions)\n",
    "        print(\"hor\", horizontal_possible_actions)\n",
    "    if len(diagonal_possible_actions)>0:\n",
    "        possible_actions= np.append(possible_actions,diagonal_possible_actions)\n",
    "#         possible_actions.append(diagonal_possible_actions)\n",
    "        print(\"diag\", diagonal_possible_actions)    \n",
    "    return possible_actions"
   ]
  },
  {
   "cell_type": "code",
   "execution_count": 111,
   "id": "67958422",
   "metadata": {},
   "outputs": [],
   "source": [
    "def get_possible_actions(state, pos):\n",
    "    possible_actions=[]\n",
    "    vertical_possible_actions = get_possible_moves_vertical(state, pos)\n",
    "    horizontal_possible_actions = get_possible_moves_horizontal(state, pos)\n",
    "    diagonal_possible_actions = get_possible_moves_diagonal(state, pos)\n",
    "    if len(vertical_possible_actions)>0:       \n",
    "#         possible_actions= np.append(possible_actions,vertical_possible_actions)\n",
    "        possible_actions.append(vertical_possible_actions)\n",
    "        print(\"Vert\", vertical_possible_actions)\n",
    "    if len(horizontal_possible_actions)>0:\n",
    "#         possible_actions= np.append(possible_actions,horizontal_possible_actions)\n",
    "        possible_actions.append(horizontal_possible_actions)\n",
    "        print(\"hor\", horizontal_possible_actions)\n",
    "    if len(diagonal_possible_actions)>0:\n",
    "#         possible_actions= np.append(possible_actions,diagonal_possible_actions)\n",
    "        possible_actions.append(diagonal_possible_actions)\n",
    "        print(\"diag\", diagonal_possible_actions)    \n",
    "    return possible_actions"
   ]
  },
  {
   "cell_type": "code",
   "execution_count": 79,
   "id": "cfc63124",
   "metadata": {},
   "outputs": [
    {
     "name": "stdout",
     "output_type": "stream",
     "text": [
      "[[ 0  0  0  0  0  0  0  0]\n",
      " [ 0  0  0  0  1 -1  0  0]\n",
      " [ 0  0  0  1  1  0  0  0]\n",
      " [ 0  0  0  1 -1  0  0  0]\n",
      " [ 0  0  0 -1  1  1  0  0]\n",
      " [ 0  0  0  0  0  0  0  0]\n",
      " [ 0  0  0  0  0  0  0  0]\n",
      " [ 0  0  0  0  0  0  0  0]]\n",
      "pos_values [(1, 5), (3, 4), (4, 3)]\n",
      "possible_moves [(4, 2)]\n",
      "hor [(1, 3)]\n",
      "diag [(4, 2)]\n",
      "possible_actions_pos [[(1, 3)], [(4, 2)]]\n",
      "len possible_actions_pos 2\n",
      "possible_moves [(5, 6), (1, 2)]\n",
      "Vert [(5, 4), (0, 4)]\n",
      "hor [(3, 2)]\n",
      "diag [(5, 6), (1, 2)]\n",
      "possible_actions_pos [[(5, 4), (0, 4)], [(3, 2)], [(5, 6), (1, 2)]]\n",
      "len possible_actions_pos 3\n",
      "possible_moves []\n",
      "Vert [(1, 3)]\n",
      "hor [(4, 6)]\n",
      "possible_actions_pos [[(1, 3)], [(4, 6)]]\n",
      "len possible_actions_pos 2\n",
      "[['D2', 'C5'], ['E6', 'C4', 'G6'], ['D2', 'G5']]\n"
     ]
    }
   ],
   "source": [
    "a= State()\n",
    "a.game_board[3,3]=1\n",
    "a.game_board[2,3]=1\n",
    "a.game_board[1,4]=1\n",
    "a.game_board[2,4]=1\n",
    "a.game_board[4,5]=1\n",
    "a.game_board[1,5]=-1\n",
    "a.current_player=\"MAX\"\n",
    "print(a.game_board)\n",
    "print(actions(a))"
   ]
  },
  {
   "cell_type": "code",
   "execution_count": 127,
   "id": "cf795d2e",
   "metadata": {},
   "outputs": [
    {
     "name": "stdout",
     "output_type": "stream",
     "text": [
      "[[ 0  0  0  0  0  0  0  0]\n",
      " [ 0  0  0  0  0  0  0  0]\n",
      " [ 0  0  0  0  0  0  0  0]\n",
      " [ 0  0  0  1 -1  0  0  0]\n",
      " [ 0  0  0  1 -1  0  0  0]\n",
      " [ 0  0  0  1 -1  0  0  0]\n",
      " [ 0  0  0  0  0  0  0  0]\n",
      " [ 0  0  0  0  0  0  0  0]]\n",
      "pos_values [(3, 4), (4, 4), (5, 4)]\n",
      "possible_moves [(5, 2)]\n",
      "hor [(3, 2)]\n",
      "diag [(5, 2)]\n",
      "possible_actions_pos [[(3, 2)], [(5, 2)]]\n",
      "possbile_action [(3, 2)]\n",
      "possbile_action [(5, 2)]\n",
      "possible_moves [(6, 2), (2, 2)]\n",
      "hor [(4, 2)]\n",
      "diag [(6, 2), (2, 2)]\n",
      "possible_actions_pos [[(4, 2)], [(6, 2), (2, 2)]]\n",
      "possbile_action [(4, 2)]\n",
      "possbile_action [(6, 2), (2, 2)]\n",
      "possible_moves [(3, 2)]\n",
      "hor [(5, 2)]\n",
      "diag [(3, 2)]\n",
      "possible_actions_pos [[(5, 2)], [(3, 2)]]\n",
      "possbile_action [(5, 2)]\n",
      "possbile_action [(3, 2)]\n",
      "[['C4'], ['C6'], ['C5'], ['C7', 'C3'], ['C6'], ['C4']]\n"
     ]
    }
   ],
   "source": [
    "b = State()\n",
    "b.game_board[3,3] = 1\n",
    "b.game_board[3,4] = -1\n",
    "b.game_board[4,3] = 1\n",
    "b.game_board[4,4] = -1\n",
    "b.game_board[5,3] = 1\n",
    "b.game_board[5,4] = -1\n",
    "print(b.game_board)\n",
    "print(actions(b))"
   ]
  },
  {
   "cell_type": "code",
   "execution_count": 77,
   "id": "7f8fff4a",
   "metadata": {},
   "outputs": [
    {
     "data": {
      "text/plain": [
       "[[[(3, 2)], [(5, 2)]], [[(4, 2)], [(6, 2), (2, 2)]]]"
      ]
     },
     "execution_count": 77,
     "metadata": {},
     "output_type": "execute_result"
    }
   ],
   "source": [
    "s = []\n",
    "s.append([[(3, 2)], [(5, 2)]])\n",
    "s.append([[(4, 2)], [(6, 2), (2, 2)]])\n",
    "s"
   ]
  },
  {
   "cell_type": "code",
   "execution_count": 108,
   "id": "ce3a79d7",
   "metadata": {},
   "outputs": [
    {
     "name": "stderr",
     "output_type": "stream",
     "text": [
      "C:\\Users\\DELL\\AppData\\Local\\Temp/ipykernel_22596/3760176630.py:1: VisibleDeprecationWarning: Creating an ndarray from ragged nested sequences (which is a list-or-tuple of lists-or-tuples-or ndarrays with different lengths or shapes) is deprecated. If you meant to do this, you must specify 'dtype=object' when creating the ndarray.\n",
      "  np.array([[(4, 2)], [(6, 2), (2, 2)]])\n"
     ]
    },
    {
     "data": {
      "text/plain": [
       "array([list([(4, 2)]), list([(6, 2), (2, 2)])], dtype=object)"
      ]
     },
     "execution_count": 108,
     "metadata": {},
     "output_type": "execute_result"
    }
   ],
   "source": [
    "np.array([[(4, 2)], [(6, 2), (2, 2)]])"
   ]
  },
  {
   "cell_type": "code",
   "execution_count": 129,
   "id": "1d554f13",
   "metadata": {},
   "outputs": [],
   "source": [
    "map_values = {0:\"A\",1:\"B\",2:\"C\",3:\"D\",4:\"E\",5:\"F\",6:\"G\",7:\"H\"}\n",
    "def actions(state):\n",
    "    value = get_player_value(state)\n",
    "#     print(\"Val\",value)\n",
    "#     print(\"state\",state.game_board, value)\n",
    "    pos_values_player = np.where(state.game_board == value)\n",
    "    pos_values_player = list(zip(pos_values_player[0],pos_values_player[1]))\n",
    "#     print(\"pos_values\",pos_values_player)\n",
    "    possible_actions = []\n",
    "    for pos in pos_values_player: \n",
    "        possible_actions_pos = get_possible_actions(state, pos)       \n",
    "#         print(\"possible_actions_pos\",possible_actions_pos)\n",
    "        if len(possible_actions_pos) > 0:    \n",
    "            for possbile_action in possible_actions_pos:\n",
    "#                 print(\"possbile_action\",possbile_action)\n",
    "                possible_actions_pos = list(map(lambda action: str(map_values[action[1]])+str(action[0]+1), possbile_action))\n",
    "                possible_actions.append(possible_actions_pos)\n",
    "    \n",
    "    return possible_actions\n",
    "    #print(state.game_board[pos_values_player])\n",
    "    # para cada valor de su color propio \n",
    "    # buscar flanqueos posibles, si encuentra agrega a la lista de acciones posibles\n",
    "\n",
    "def get_player_value(state):\n",
    "    value = 1\n",
    "    if state.current_player == \"MAX\":\n",
    "        value = -1\n",
    "    return value\n",
    "def result(state, action):\n",
    "#     print(\"state before\")\n",
    "#     print(state.game_board)\n",
    "#     print(\"ac\",action)\n",
    "    result_state = state\n",
    "    column = columns[action[0]]\n",
    "    row = action[1]\n",
    "    value = get_player_value(state)\n",
    "    \n",
    "    #para las posiciones de la matriz\n",
    "    current_row = int(row)-1 \n",
    "    current_column = column\n",
    "    \n",
    "    result_state.game_board[current_row, current_column] = value\n",
    "    opposite_value = value*-1\n",
    "\n",
    "    result_state = move_vertical(result_state, value, current_row, current_column)\n",
    "    result_state = move_horizontal(result_state, value, current_row, current_column)\n",
    "    result_state = move_diagonal(result_state, value, current_row, current_column)   \n",
    "    return result_state"
   ]
  },
  {
   "cell_type": "code",
   "execution_count": 68,
   "id": "50d1cef5",
   "metadata": {},
   "outputs": [
    {
     "name": "stdout",
     "output_type": "stream",
     "text": [
      "possible_moves []\n",
      "Vert [(5, 4)]\n",
      "hor [(3, 2)]\n",
      "possible_moves []\n",
      "Vert [(2, 3)]\n",
      "hor [(4, 5)]\n",
      "[['E6', 'C4'], ['D3', 'F5']]\n",
      "[[ 0  0  0  0  0  0  0  0]\n",
      " [ 0  0  0  0  0  0  0  0]\n",
      " [ 0  0  0  0  0  0  0  0]\n",
      " [ 0  0  0  1 -1  0  0  0]\n",
      " [ 0  0  0 -1  1  0  0  0]\n",
      " [ 0  0  0  0  0  0  0  0]\n",
      " [ 0  0  0  0  0  0  0  0]\n",
      " [ 0  0  0  0  0  0  0  0]]\n"
     ]
    },
    {
     "ename": "KeyboardInterrupt",
     "evalue": "Interrupted by user",
     "output_type": "error",
     "traceback": [
      "\u001b[1;31m---------------------------------------------------------------------------\u001b[0m",
      "\u001b[1;31mKeyboardInterrupt\u001b[0m                         Traceback (most recent call last)",
      "\u001b[1;32m~\\AppData\\Local\\Temp/ipykernel_22596/4235405076.py\u001b[0m in \u001b[0;36m<module>\u001b[1;34m\u001b[0m\n\u001b[0;32m      7\u001b[0m \u001b[1;32mwhile\u001b[0m \u001b[0mlen\u001b[0m\u001b[1;33m(\u001b[0m\u001b[0mpossible_moves\u001b[0m\u001b[1;33m)\u001b[0m \u001b[1;33m>\u001b[0m \u001b[1;36m0\u001b[0m\u001b[1;33m:\u001b[0m\u001b[1;33m\u001b[0m\u001b[1;33m\u001b[0m\u001b[0m\n\u001b[0;32m      8\u001b[0m     \u001b[0mprint\u001b[0m\u001b[1;33m(\u001b[0m\u001b[0mgame_state\u001b[0m\u001b[1;33m.\u001b[0m\u001b[0mgame_board\u001b[0m\u001b[1;33m)\u001b[0m\u001b[1;33m\u001b[0m\u001b[1;33m\u001b[0m\u001b[0m\n\u001b[1;32m----> 9\u001b[1;33m     \u001b[0maction\u001b[0m \u001b[1;33m=\u001b[0m \u001b[0minput\u001b[0m\u001b[1;33m(\u001b[0m\u001b[1;33m)\u001b[0m\u001b[1;33m\u001b[0m\u001b[1;33m\u001b[0m\u001b[0m\n\u001b[0m\u001b[0;32m     10\u001b[0m     \u001b[0mgame_state\u001b[0m \u001b[1;33m=\u001b[0m \u001b[0mresult\u001b[0m\u001b[1;33m(\u001b[0m\u001b[0mgame_state\u001b[0m\u001b[1;33m,\u001b[0m \u001b[0maction\u001b[0m\u001b[1;33m)\u001b[0m\u001b[1;33m\u001b[0m\u001b[1;33m\u001b[0m\u001b[0m\n\u001b[0;32m     11\u001b[0m     \u001b[0mgame_state\u001b[0m\u001b[1;33m.\u001b[0m\u001b[0mcurrent_player\u001b[0m \u001b[1;33m=\u001b[0m \u001b[0mchange_player\u001b[0m\u001b[1;33m(\u001b[0m\u001b[0mgame_state\u001b[0m\u001b[1;33m)\u001b[0m\u001b[1;33m\u001b[0m\u001b[1;33m\u001b[0m\u001b[0m\n",
      "\u001b[1;32mD:\\Programs\\ANACONDA\\lib\\site-packages\\ipykernel\\kernelbase.py\u001b[0m in \u001b[0;36mraw_input\u001b[1;34m(self, prompt)\u001b[0m\n\u001b[0;32m   1004\u001b[0m                 \u001b[1;34m\"raw_input was called, but this frontend does not support input requests.\"\u001b[0m\u001b[1;33m\u001b[0m\u001b[1;33m\u001b[0m\u001b[0m\n\u001b[0;32m   1005\u001b[0m             )\n\u001b[1;32m-> 1006\u001b[1;33m         return self._input_request(\n\u001b[0m\u001b[0;32m   1007\u001b[0m             \u001b[0mstr\u001b[0m\u001b[1;33m(\u001b[0m\u001b[0mprompt\u001b[0m\u001b[1;33m)\u001b[0m\u001b[1;33m,\u001b[0m\u001b[1;33m\u001b[0m\u001b[1;33m\u001b[0m\u001b[0m\n\u001b[0;32m   1008\u001b[0m             \u001b[0mself\u001b[0m\u001b[1;33m.\u001b[0m\u001b[0m_parent_ident\u001b[0m\u001b[1;33m[\u001b[0m\u001b[1;34m\"shell\"\u001b[0m\u001b[1;33m]\u001b[0m\u001b[1;33m,\u001b[0m\u001b[1;33m\u001b[0m\u001b[1;33m\u001b[0m\u001b[0m\n",
      "\u001b[1;32mD:\\Programs\\ANACONDA\\lib\\site-packages\\ipykernel\\kernelbase.py\u001b[0m in \u001b[0;36m_input_request\u001b[1;34m(self, prompt, ident, parent, password)\u001b[0m\n\u001b[0;32m   1049\u001b[0m             \u001b[1;32mexcept\u001b[0m \u001b[0mKeyboardInterrupt\u001b[0m\u001b[1;33m:\u001b[0m\u001b[1;33m\u001b[0m\u001b[1;33m\u001b[0m\u001b[0m\n\u001b[0;32m   1050\u001b[0m                 \u001b[1;31m# re-raise KeyboardInterrupt, to truncate traceback\u001b[0m\u001b[1;33m\u001b[0m\u001b[1;33m\u001b[0m\u001b[0m\n\u001b[1;32m-> 1051\u001b[1;33m                 \u001b[1;32mraise\u001b[0m \u001b[0mKeyboardInterrupt\u001b[0m\u001b[1;33m(\u001b[0m\u001b[1;34m\"Interrupted by user\"\u001b[0m\u001b[1;33m)\u001b[0m \u001b[1;32mfrom\u001b[0m \u001b[1;32mNone\u001b[0m\u001b[1;33m\u001b[0m\u001b[1;33m\u001b[0m\u001b[0m\n\u001b[0m\u001b[0;32m   1052\u001b[0m             \u001b[1;32mexcept\u001b[0m \u001b[0mException\u001b[0m\u001b[1;33m:\u001b[0m\u001b[1;33m\u001b[0m\u001b[1;33m\u001b[0m\u001b[0m\n\u001b[0;32m   1053\u001b[0m                 \u001b[0mself\u001b[0m\u001b[1;33m.\u001b[0m\u001b[0mlog\u001b[0m\u001b[1;33m.\u001b[0m\u001b[0mwarning\u001b[0m\u001b[1;33m(\u001b[0m\u001b[1;34m\"Invalid Message:\"\u001b[0m\u001b[1;33m,\u001b[0m \u001b[0mexc_info\u001b[0m\u001b[1;33m=\u001b[0m\u001b[1;32mTrue\u001b[0m\u001b[1;33m)\u001b[0m\u001b[1;33m\u001b[0m\u001b[1;33m\u001b[0m\u001b[0m\n",
      "\u001b[1;31mKeyboardInterrupt\u001b[0m: Interrupted by user"
     ]
    }
   ],
   "source": [
    "##### D3, E3, F5,E6, F3,C3,B3,E2\n",
    "#E6, F4, C3, G4, E3, C4, C5, B4, A5, F2, F3, H4\n",
    "#E6, D6, C3, F3, C5, C6, B6, B5, G2, B7,A5,H1,A6, B4, C8, B8, A8\n",
    "game_state = State()\n",
    "possible_moves = actions(game_state)\n",
    "print(possible_moves)\n",
    "while len(possible_moves) > 0:\n",
    "    print(game_state.game_board)\n",
    "    action = input()   \n",
    "    game_state = result(game_state, action)\n",
    "    game_state.current_player = change_player(game_state)\n",
    "    possible_moves = actions(game_state)\n",
    "    print(possible_moves)"
   ]
  },
  {
   "cell_type": "code",
   "execution_count": 20,
   "id": "5ee6d791",
   "metadata": {},
   "outputs": [
    {
     "name": "stdout",
     "output_type": "stream",
     "text": [
      "[[ 0  0  0  0  0  0  0  0]\n",
      " [ 0  0  0  0  0  0  0  0]\n",
      " [ 0  0  0  0  0  0  0  0]\n",
      " [ 0  0  0  1  1  0  0  0]\n",
      " [ 0  0  0  1  1  0  0  0]\n",
      " [ 0  0 -1  0  0  0  0  0]\n",
      " [ 0  0  0  0  0  0  0  0]\n",
      " [ 0  0  0  0  0  0  0  0]]\n",
      "5 2\n"
     ]
    },
    {
     "data": {
      "text/plain": [
       "array([[ 0,  0,  0,  0,  0,  0,  0,  0],\n",
       "       [ 0,  0,  0,  0,  0,  0,  0,  0],\n",
       "       [ 0,  0,  0,  0,  0, -1,  0,  0],\n",
       "       [ 0,  0,  0,  1, -1,  0,  0,  0],\n",
       "       [ 0,  0,  0, -1,  1,  0,  0,  0],\n",
       "       [ 0,  0, -1,  0,  0,  0,  0,  0],\n",
       "       [ 0,  0,  0,  0,  0,  0,  0,  0],\n",
       "       [ 0,  0,  0,  0,  0,  0,  0,  0]])"
      ]
     },
     "execution_count": 20,
     "metadata": {},
     "output_type": "execute_result"
    }
   ],
   "source": [
    "a= State()\n",
    "a.game_board[4,3] = 1\n",
    "a.game_board[3,4] = 1\n",
    "a.game_board[5,2] = -1\n",
    "print(a.game_board)\n",
    "result(a,\"F3\").game_board"
   ]
  },
  {
   "cell_type": "code",
   "execution_count": 21,
   "id": "290350b7",
   "metadata": {},
   "outputs": [
    {
     "name": "stdout",
     "output_type": "stream",
     "text": [
      "[['F5'], ['D6', 'F4'], ['E3', 'C5']]\n"
     ]
    },
    {
     "data": {
      "text/plain": [
       "array([[ 0,  0,  0,  1,  0,  0,  0,  0],\n",
       "       [ 0,  0,  0,  1,  1,  0,  0,  0],\n",
       "       [ 0,  0,  0,  1,  0,  0,  0,  0],\n",
       "       [ 0,  0,  0,  1, -1,  0,  0,  0],\n",
       "       [ 0,  0,  0, -1,  1,  0,  0,  0],\n",
       "       [ 0,  0,  0,  0,  0,  0,  0,  0],\n",
       "       [ 0,  0,  0,  0,  0,  0,  0,  0],\n",
       "       [ 0,  0,  0,  0,  0,  0,  0,  0]])"
      ]
     },
     "execution_count": 21,
     "metadata": {},
     "output_type": "execute_result"
    }
   ],
   "source": [
    "a= State()\n",
    "a.game_board[2,3]=1\n",
    "a.game_board[1,3]=1\n",
    "a.game_board[1,4]=1\n",
    "a.current_player=\"MIN\"\n",
    "print(actions(a))\n",
    "result(a,\"D1\").game_board"
   ]
  },
  {
   "cell_type": "code",
   "execution_count": 22,
   "id": "de2ac7c5",
   "metadata": {},
   "outputs": [
    {
     "name": "stdout",
     "output_type": "stream",
     "text": [
      "[[ 0  0  0  0  0  0  0  0]\n",
      " [ 0  0  0  1  0  0  0  0]\n",
      " [ 0  0  0 -1  0 -1  0 -1]\n",
      " [ 0  0  0  1  1  1  1  0]\n",
      " [ 0  0  0 -1  1  0  1 -1]\n",
      " [ 0  0  0  0  1  1  1  0]\n",
      " [ 0  0  0 -1  0 -1  0 -1]\n",
      " [ 0  0  0  0  0  0  0  0]]\n",
      "6 3\n"
     ]
    },
    {
     "data": {
      "text/plain": [
       "array([[ 0,  0,  0,  0,  0,  0,  0,  0],\n",
       "       [ 0,  0,  0,  1,  0,  0,  0,  0],\n",
       "       [ 0,  0,  0, -1,  0, -1,  0, -1],\n",
       "       [ 0,  0,  0,  1, -1, -1, -1,  0],\n",
       "       [ 0,  0,  0, -1, -1, -1, -1, -1],\n",
       "       [ 0,  0,  0,  0, -1, -1, -1,  0],\n",
       "       [ 0,  0,  0, -1,  0, -1,  0, -1],\n",
       "       [ 0,  0,  0,  0,  0,  0,  0,  0]])"
      ]
     },
     "execution_count": 22,
     "metadata": {},
     "output_type": "execute_result"
    }
   ],
   "source": [
    "a= State()\n",
    "a.game_board[2,3]=1\n",
    "a.game_board[1,3]=1\n",
    "a.game_board[2,5]=-1\n",
    "a.game_board[3,5]=1\n",
    "a.game_board[5,5]=1\n",
    "a.game_board[4,7]=-1\n",
    "a.game_board[4,6]=1\n",
    "a.game_board[6,5]=-1\n",
    "a.game_board[2,7]=-1\n",
    "a.game_board[3,6]=1\n",
    "a.game_board[5,4]=1\n",
    "a.game_board[6,3]=-1\n",
    "\n",
    "a.game_board[2,3]=-1\n",
    "a.game_board[3,4]=1\n",
    "\n",
    "a.game_board[5,6]=1\n",
    "a.game_board[6,7]=-1\n",
    "print(a.game_board)\n",
    "result(a,\"F5\").game_board\n",
    "#Funciona NUEVA PRUEBA VERTICAL ABAJO"
   ]
  },
  {
   "cell_type": "code",
   "execution_count": 23,
   "id": "50ded1df",
   "metadata": {},
   "outputs": [
    {
     "data": {
      "text/plain": [
       "array([[ 0,  0,  0, -1,  0,  0,  0,  0],\n",
       "       [ 0,  0,  0, -1,  0,  0,  0,  0],\n",
       "       [ 0,  0,  0, -1,  0,  0,  0,  0],\n",
       "       [ 0,  0,  0, -1, -1,  0,  0,  0],\n",
       "       [ 0,  0,  0, -1,  1,  0,  0,  0],\n",
       "       [ 0,  0,  0,  1,  0,  0,  0,  0],\n",
       "       [ 0,  0,  0,  1,  0,  0,  0,  0],\n",
       "       [ 0,  0,  0,  0,  0,  0,  0,  0]])"
      ]
     },
     "execution_count": 23,
     "metadata": {},
     "output_type": "execute_result"
    }
   ],
   "source": [
    "a= State()\n",
    "a.game_board[2,3]=1\n",
    "a.game_board[1,3]=1\n",
    "a.game_board[5,3]=1\n",
    "a.game_board[6,3]=1\n",
    "a.game_board\n",
    "result(a,\"D1\").game_board\n",
    "#prueba de que no pasa hasta el fondo"
   ]
  },
  {
   "cell_type": "code",
   "execution_count": 24,
   "id": "597b0720",
   "metadata": {},
   "outputs": [
    {
     "data": {
      "text/plain": [
       "array([[ 0,  0,  0,  0,  0,  0,  0,  0],\n",
       "       [ 0,  0,  0,  0,  0,  0,  0,  0],\n",
       "       [ 0,  0,  0,  0,  0,  0,  0,  0],\n",
       "       [ 0,  0,  0,  1, -1,  0,  0,  0],\n",
       "       [ 0,  0,  0, -1, -1,  0,  0,  0],\n",
       "       [ 0,  0,  0,  0, -1,  0,  0,  0],\n",
       "       [ 0,  0,  0,  0, -1,  0,  0,  0],\n",
       "       [ 0,  0,  0,  0, -1,  0,  0,  0]])"
      ]
     },
     "execution_count": 24,
     "metadata": {},
     "output_type": "execute_result"
    }
   ],
   "source": [
    "a= State()\n",
    "a.game_board[5,4]=1\n",
    "a.game_board[6,4]=1\n",
    "a.game_board\n",
    "result(a,\"E8\").game_board\n",
    "#Funciona NUEVA PRUEBA VERTICAL ARRIBA"
   ]
  },
  {
   "cell_type": "code",
   "execution_count": 25,
   "id": "cdc9a7dc",
   "metadata": {},
   "outputs": [
    {
     "data": {
      "text/plain": [
       "array([[ 0,  0,  0,  0,  0,  0,  0,  0],\n",
       "       [ 0,  0,  0,  0,  1,  0,  0,  0],\n",
       "       [ 0,  0,  0,  0,  1,  0,  0,  0],\n",
       "       [ 0,  0,  0,  1, -1,  0,  0,  0],\n",
       "       [ 0,  0,  0, -1, -1,  0,  0,  0],\n",
       "       [ 0,  0,  0,  0, -1,  0,  0,  0],\n",
       "       [ 0,  0,  0,  0, -1,  0,  0,  0],\n",
       "       [ 0,  0,  0,  0, -1,  0,  0,  0]])"
      ]
     },
     "execution_count": 25,
     "metadata": {},
     "output_type": "execute_result"
    }
   ],
   "source": [
    "a= State()\n",
    "a.game_board[5,4]=1\n",
    "a.game_board[6,4]=1\n",
    "a.game_board[1,4]=1\n",
    "a.game_board[2,4]=1\n",
    "a.game_board\n",
    "result(a,\"E8\").game_board\n",
    "#prueba no pasa hasta arriba"
   ]
  },
  {
   "cell_type": "code",
   "execution_count": 26,
   "id": "8adc5d5b",
   "metadata": {},
   "outputs": [
    {
     "data": {
      "text/plain": [
       "array([[ 0,  0,  0,  0,  0,  0,  0,  0],\n",
       "       [ 0,  0,  0,  0,  0,  0,  0,  0],\n",
       "       [ 0,  0,  0,  0,  0,  0,  0,  0],\n",
       "       [-1, -1, -1, -1, -1,  0,  0,  0],\n",
       "       [ 0,  0,  0, -1,  1,  0,  0,  0],\n",
       "       [ 0,  0,  0,  0,  0,  0,  0,  0],\n",
       "       [ 0,  0,  0,  0,  0,  0,  0,  0],\n",
       "       [ 0,  0,  0,  0,  0,  0,  0,  0]])"
      ]
     },
     "execution_count": 26,
     "metadata": {},
     "output_type": "execute_result"
    }
   ],
   "source": [
    "a= State()\n",
    "a.game_board[3,2]=1\n",
    "a.game_board[3,1]=1\n",
    "a.game_board\n",
    "result(a,\"A4\").game_board\n",
    "#Funciona NUEVA PRUEBA HORIZONTAL IZQUIERDA"
   ]
  },
  {
   "cell_type": "code",
   "execution_count": 27,
   "id": "5c988c11",
   "metadata": {},
   "outputs": [
    {
     "data": {
      "text/plain": [
       "array([[ 0,  0,  0,  0,  0,  0,  0,  0],\n",
       "       [ 0,  0,  0,  0,  0,  0,  0,  0],\n",
       "       [ 0,  0,  0,  0,  0,  0,  0,  0],\n",
       "       [-1, -1, -1, -1, -1,  1,  1,  0],\n",
       "       [ 0,  0,  0, -1,  1,  0,  0,  0],\n",
       "       [ 0,  0,  0,  0,  0,  0,  0,  0],\n",
       "       [ 0,  0,  0,  0,  0,  0,  0,  0],\n",
       "       [ 0,  0,  0,  0,  0,  0,  0,  0]])"
      ]
     },
     "execution_count": 27,
     "metadata": {},
     "output_type": "execute_result"
    }
   ],
   "source": [
    "a= State()\n",
    "a.game_board[3,2]=1\n",
    "a.game_board[3,1]=1\n",
    "a.game_board[3,5]=1\n",
    "a.game_board[3,6]=1\n",
    "a.game_board\n",
    "result(a,\"A4\").game_board\n",
    "#Prueba que no pasa al otro lado"
   ]
  },
  {
   "cell_type": "code",
   "execution_count": 28,
   "id": "ba5c6d7e",
   "metadata": {},
   "outputs": [
    {
     "data": {
      "text/plain": [
       "array([[ 0,  0,  0,  0,  0,  0,  0,  0],\n",
       "       [ 0,  0,  0,  0,  0,  0,  0,  0],\n",
       "       [ 0,  0,  0,  0,  0,  0,  0,  0],\n",
       "       [ 0,  0,  0,  1, -1,  0,  0,  0],\n",
       "       [ 0,  0,  0, -1, -1, -1, -1, -1],\n",
       "       [ 0,  0,  0,  0,  0,  0,  0,  0],\n",
       "       [ 0,  0,  0,  0,  0,  0,  0,  0],\n",
       "       [ 0,  0,  0,  0,  0,  0,  0,  0]])"
      ]
     },
     "execution_count": 28,
     "metadata": {},
     "output_type": "execute_result"
    }
   ],
   "source": [
    "a= State()\n",
    "a.game_board[4,5]=1\n",
    "a.game_board[4,6]=1\n",
    "a.game_board\n",
    "result(a,\"H5\").game_board\n",
    "#Funciona NUEVA PRUEBA HORIZONTAL DERECHA"
   ]
  },
  {
   "cell_type": "code",
   "execution_count": 29,
   "id": "dbbc5f9d",
   "metadata": {},
   "outputs": [
    {
     "data": {
      "text/plain": [
       "array([[ 0,  0,  0,  0,  0,  0,  0,  0],\n",
       "       [ 0,  0,  0,  0,  0,  0,  0,  0],\n",
       "       [ 0,  0,  0,  0,  0,  0,  0,  0],\n",
       "       [ 0,  0,  0,  1, -1,  0,  0,  0],\n",
       "       [ 0,  1,  1, -1, -1, -1, -1, -1],\n",
       "       [ 0,  0,  0,  0,  0,  0,  0,  0],\n",
       "       [ 0,  0,  0,  0,  0,  0,  0,  0],\n",
       "       [ 0,  0,  0,  0,  0,  0,  0,  0]])"
      ]
     },
     "execution_count": 29,
     "metadata": {},
     "output_type": "execute_result"
    }
   ],
   "source": [
    "a= State()\n",
    "a.game_board[4,5]=1\n",
    "a.game_board[4,6]=1\n",
    "a.game_board[4,1]=1\n",
    "a.game_board[4,2]=1\n",
    "a.game_board\n",
    "result(a,\"H5\").game_board"
   ]
  },
  {
   "cell_type": "code",
   "execution_count": 30,
   "id": "35a643eb",
   "metadata": {},
   "outputs": [
    {
     "data": {
      "text/plain": [
       "array([[ 0,  0,  0,  0,  0,  0,  0,  0],\n",
       "       [ 0,  0,  0,  0,  0,  0,  0,  0],\n",
       "       [ 0,  0,  0,  0,  0,  0,  0,  0],\n",
       "       [ 0,  0,  0,  1, -1,  0,  0,  0],\n",
       "       [ 0,  1,  1, -1, -1, -1, -1, -1],\n",
       "       [ 0,  0,  0,  0,  0,  0,  0,  0],\n",
       "       [ 0,  0,  0,  0,  0,  0,  0,  0],\n",
       "       [ 0,  0,  0,  0,  0,  0,  0,  0]])"
      ]
     },
     "execution_count": 30,
     "metadata": {},
     "output_type": "execute_result"
    }
   ],
   "source": [
    "a= State()\n",
    "a.game_board[4,5]=1\n",
    "a.game_board[4,6]=1\n",
    "a.game_board[4,1]=1\n",
    "a.game_board[4,2]=1\n",
    "a.game_board\n",
    "result(a,\"H5\").game_board"
   ]
  },
  {
   "cell_type": "code",
   "execution_count": 31,
   "id": "5c399217",
   "metadata": {},
   "outputs": [
    {
     "data": {
      "text/plain": [
       "array([[ 0,  0,  0,  0,  0,  0,  0,  0],\n",
       "       [ 0,  0,  0,  0,  0,  0,  0,  0],\n",
       "       [ 0,  0,  0,  0,  0,  0,  0,  0],\n",
       "       [ 0,  0,  0,  1, -1,  0,  0,  0],\n",
       "       [ 0,  0,  0, -1,  1,  0,  0,  0],\n",
       "       [ 0,  0, -1,  0,  0,  0,  0,  0],\n",
       "       [ 0, -1,  0,  0,  0,  0,  0,  0],\n",
       "       [ 0,  0,  0,  0,  0,  0,  0,  0]])"
      ]
     },
     "execution_count": 31,
     "metadata": {},
     "output_type": "execute_result"
    }
   ],
   "source": [
    "a= State()\n",
    "a.game_board[5,2]=1\n",
    "a.game_board\n",
    "result(a,\"B7\").game_board"
   ]
  },
  {
   "cell_type": "code",
   "execution_count": 32,
   "id": "c058c7fc",
   "metadata": {},
   "outputs": [
    {
     "data": {
      "text/plain": [
       "array([[ 0,  0,  0,  0,  0,  0,  0,  0],\n",
       "       [ 0,  0,  0,  0,  0,  0,  0,  0],\n",
       "       [ 0,  0,  0,  0,  0,  0,  0,  0],\n",
       "       [ 0,  0,  0,  1, -1,  0,  0,  0],\n",
       "       [ 0,  0,  0, -1,  1,  0,  0,  0],\n",
       "       [ 0,  0, -1,  0,  0,  0,  0,  0],\n",
       "       [ 0, -1,  0,  0,  0,  0,  0,  0],\n",
       "       [ 0,  0,  0,  0,  0,  0,  0,  0]])"
      ]
     },
     "execution_count": 32,
     "metadata": {},
     "output_type": "execute_result"
    }
   ],
   "source": [
    "a= State()\n",
    "a.game_board[5,2]=1\n",
    "a.game_board\n",
    "result(a,\"B7\").game_board\n",
    "#DIAGONAL ARRIBA(IZQUIERDA-DERECHA) /"
   ]
  },
  {
   "cell_type": "code",
   "execution_count": 33,
   "id": "c35e6c0a",
   "metadata": {},
   "outputs": [
    {
     "data": {
      "text/plain": [
       "array([[ 0,  0,  0,  0,  0,  0,  0,  0],\n",
       "       [ 0,  0,  0,  0,  0,  0,  0,  0],\n",
       "       [ 0,  0, -1,  0,  0,  0,  0,  0],\n",
       "       [ 0,  0,  0, -1, -1,  0,  0,  0],\n",
       "       [ 0,  0,  0, -1, -1,  0,  0,  0],\n",
       "       [ 0,  0,  0,  0,  0, -1,  0,  0],\n",
       "       [ 0,  0,  0,  0,  0,  0,  0,  0],\n",
       "       [ 0,  0,  0,  0,  0,  0,  0,  0]])"
      ]
     },
     "execution_count": 33,
     "metadata": {},
     "output_type": "execute_result"
    }
   ],
   "source": [
    "a= State()\n",
    "a.game_board[5,5]=-1\n",
    "a.game_board\n",
    "result(a,\"C3\").game_board\n",
    "#DIAGONAL ABAJO(IZQUIRDA-DERECHA) \\"
   ]
  },
  {
   "cell_type": "code",
   "execution_count": 34,
   "id": "24443ac8",
   "metadata": {},
   "outputs": [
    {
     "name": "stdout",
     "output_type": "stream",
     "text": [
      "5 2\n"
     ]
    },
    {
     "data": {
      "text/plain": [
       "array([[ 0,  0,  0,  0,  0,  0,  0,  0],\n",
       "       [ 0,  0,  0,  0,  0,  0,  0,  0],\n",
       "       [ 0,  0,  0,  0,  0, -1,  0,  0],\n",
       "       [ 0,  0,  0,  1, -1,  0,  0,  0],\n",
       "       [ 0,  0,  0, -1,  1,  0,  0,  0],\n",
       "       [ 0,  0, -1,  0,  0,  0,  0,  0],\n",
       "       [ 0,  0,  0,  0,  0,  0,  0,  0],\n",
       "       [ 0,  0,  0,  0,  0,  0,  0,  0]])"
      ]
     },
     "execution_count": 34,
     "metadata": {},
     "output_type": "execute_result"
    }
   ],
   "source": [
    "a= State()\n",
    "a.game_board[4,3] = 1\n",
    "a.game_board[3,4] = 1\n",
    "a.game_board[5,2] = -1\n",
    "a.game_board\n",
    "result(a,\"F3\").game_board\n",
    "#DIAGONAL ABAJO(DERECHA-IZQUIERDA /"
   ]
  },
  {
   "cell_type": "code",
   "execution_count": 35,
   "id": "583df849",
   "metadata": {},
   "outputs": [
    {
     "data": {
      "text/plain": [
       "array([[ 0,  0,  0,  0,  0,  0,  0,  0],\n",
       "       [ 0,  0,  0,  0,  0,  0,  0,  0],\n",
       "       [ 0,  0, -1,  0,  0,  0,  0,  0],\n",
       "       [ 0,  0,  0, -1,  1,  0,  0,  0],\n",
       "       [ 0,  0,  0,  1, -1,  0,  0,  0],\n",
       "       [ 0,  0,  0,  0,  0, -1,  0,  0],\n",
       "       [ 0,  0,  0,  0,  0,  0,  0,  0],\n",
       "       [ 0,  0,  0,  0,  0,  0,  0,  0]])"
      ]
     },
     "execution_count": 35,
     "metadata": {},
     "output_type": "execute_result"
    }
   ],
   "source": [
    "a= State()\n",
    "a.game_board[4,3] = 1\n",
    "a.game_board[3,4] = 1\n",
    "a.game_board[2,2] = -1\n",
    "a.game_board\n",
    "result(a,\"F6\").game_board\n",
    "#DIAGONAL ARRIBA(DERECHA-IZQUIERDA)"
   ]
  },
  {
   "cell_type": "code",
   "execution_count": 40,
   "id": "240e5aa5",
   "metadata": {},
   "outputs": [],
   "source": [
    "max_depth = 2\n",
    "def cut_off(state, depth):\n",
    "    return depth==max_depth"
   ]
  },
  {
   "cell_type": "code",
   "execution_count": 142,
   "id": "1e08f9f0",
   "metadata": {},
   "outputs": [],
   "source": [
    "def min_max_cutoff(state):\n",
    "    print(state.game_board)\n",
    "    values = []\n",
    "    p, func_value, func_arg = player(state)\n",
    "    print(\"player: \",p)\n",
    "    state.current_player = p\n",
    "    state_actions = actions(state)\n",
    "    acts = []\n",
    "    print(\"state_actions\",state_actions)\n",
    "    for action in state_actions:       \n",
    "        for pos in action:\n",
    "            print(\"pos min max\",pos)\n",
    "#             state = \n",
    "            v = func_value(result(copy.deepcopy(state), pos), -math.inf, math.inf,0)\n",
    "            values.append(v)\n",
    "            acts.append(pos)\n",
    "            print(\"vvv=\",v)\n",
    "#         state_actions = actions(state)\n",
    "    #np.func_arg(values)\n",
    "    idx = func_arg(values)\n",
    "    print(values)\n",
    "    print(\"idx\", idx)\n",
    "    return acts[idx]"
   ]
  },
  {
   "cell_type": "code",
   "execution_count": 145,
   "id": "e97b511d",
   "metadata": {},
   "outputs": [],
   "source": [
    "def terminal_test(state):\n",
    "    if len(actions(state)) == 0:\n",
    "        return True\n",
    "    return False\n",
    "\n",
    "def utility(state):\n",
    "    utility = 0\n",
    "    if state.current_player == \"MAX\":\n",
    "        utility = len(np.where(state == -1))\n",
    "    else:\n",
    "        utility = len(np.where(state == 1))\n",
    "    print(\"utility:\", utility)\n",
    "    return utility\n",
    "\n",
    "def min_value(state, alpha, beta, depth):\n",
    "    state.current_player = \"MIN\"\n",
    "    print(\"min_value------------\", depth)\n",
    "    if cut_off(state, depth):\n",
    "        return utility(state)\n",
    "    v = math.inf\n",
    "    print(state.game_board)\n",
    "    state_actions = actions(state)\n",
    "    print(\"state_actions\",state_actions)\n",
    "    for a in state_actions:\n",
    "        for pos in a:\n",
    "            print(\"pos\", pos)\n",
    "            v = min(v, max_value(result(copy.deepcopy(state), pos), alpha, beta, depth+1))\n",
    "            if v<=alpha:#prunning\n",
    "                return v\n",
    "            beta = min(beta, v)\n",
    "    print(\"v\",v)\n",
    "    return v\n",
    "\n",
    "def max_value(state, alpha, beta, depth):\n",
    "    state.current_player = \"MAX\"\n",
    "    print(\"max_value------------\", depth)\n",
    "    if cut_off(state, depth):\n",
    "        return utility(state)\n",
    "    v = -math.inf\n",
    "    print(state.game_board)\n",
    "    state_actions = actions(state)\n",
    "    print(\"state_actions\",state_actions)\n",
    "    for a in state_actions:\n",
    "        for pos in a:\n",
    "            print(\"pos\", pos)\n",
    "            v = max(v, min_value(result(copy.deepcopy(state), pos), alpha, beta, depth+1))\n",
    "            if v>= beta:\n",
    "                return v\n",
    "            alpha = max(alpha, v)\n",
    "    print(\"v\",v)\n",
    "    return v"
   ]
  },
  {
   "cell_type": "code",
   "execution_count": 146,
   "id": "e4140702",
   "metadata": {
    "scrolled": true
   },
   "outputs": [
    {
     "name": "stdout",
     "output_type": "stream",
     "text": [
      "[[ 0  0  0  0  0  0  0  0]\n",
      " [ 0  0  0  0  0  0  0  0]\n",
      " [ 0  0  0  0  0  0  0  0]\n",
      " [ 0  0  0  1 -1  0  0  0]\n",
      " [ 0  0  0 -1  1  0  0  0]\n",
      " [ 0  0  0  0  0  0  0  0]\n",
      " [ 0  0  0  0  0  0  0  0]\n",
      " [ 0  0  0  0  0  0  0  0]]\n",
      "player:  MAX\n",
      "Vert [(5, 4)]\n",
      "hor [(3, 2)]\n",
      "Vert [(2, 3)]\n",
      "hor [(4, 5)]\n",
      "state_actions [['E6'], ['C4'], ['D3'], ['F5']]\n",
      "pos min max E6\n",
      "min_value------------ 0\n",
      "[[ 0  0  0  0  0  0  0  0]\n",
      " [ 0  0  0  0  0  0  0  0]\n",
      " [ 0  0  0  0  0  0  0  0]\n",
      " [ 0  0  0  1 -1  0  0  0]\n",
      " [ 0  0  0 -1 -1  0  0  0]\n",
      " [ 0  0  0  0 -1  0  0  0]\n",
      " [ 0  0  0  0  0  0  0  0]\n",
      " [ 0  0  0  0  0  0  0  0]]\n",
      "Vert [(5, 3)]\n",
      "hor [(3, 5)]\n",
      "diag [(5, 5)]\n",
      "state_actions [['D6'], ['F4'], ['F6']]\n",
      "pos D6\n",
      "max_value------------ 1\n",
      "[[ 0  0  0  0  0  0  0  0]\n",
      " [ 0  0  0  0  0  0  0  0]\n",
      " [ 0  0  0  0  0  0  0  0]\n",
      " [ 0  0  0  1 -1  0  0  0]\n",
      " [ 0  0  0  1 -1  0  0  0]\n",
      " [ 0  0  0  1 -1  0  0  0]\n",
      " [ 0  0  0  0  0  0  0  0]\n",
      " [ 0  0  0  0  0  0  0  0]]\n",
      "hor [(3, 2)]\n",
      "diag [(5, 2)]\n",
      "hor [(4, 2)]\n",
      "diag [(6, 2), (2, 2)]\n",
      "hor [(5, 2)]\n",
      "diag [(3, 2)]\n",
      "state_actions [['C4'], ['C6'], ['C5'], ['C7', 'C3'], ['C6'], ['C4']]\n",
      "pos C4\n",
      "min_value------------ 2\n",
      "utility: 1\n",
      "pos C6\n",
      "min_value------------ 2\n",
      "utility: 1\n",
      "pos C5\n",
      "min_value------------ 2\n",
      "utility: 1\n",
      "pos C7\n",
      "min_value------------ 2\n",
      "utility: 1\n",
      "pos C3\n",
      "min_value------------ 2\n",
      "utility: 1\n",
      "pos C6\n",
      "min_value------------ 2\n",
      "utility: 1\n",
      "pos C4\n",
      "min_value------------ 2\n",
      "utility: 1\n",
      "v 1\n",
      "pos F4\n",
      "5 3\n",
      "max_value------------ 1\n",
      "[[ 0  0  0  0  0  0  0  0]\n",
      " [ 0  0  0  0  0  0  0  0]\n",
      " [ 0  0  0  0  0  0  0  0]\n",
      " [ 0  0  0  1  1  1  0  0]\n",
      " [ 0  0  0 -1 -1  0  0  0]\n",
      " [ 0  0  0  0 -1  0  0  0]\n",
      " [ 0  0  0  0  0  0  0  0]\n",
      " [ 0  0  0  0  0  0  0  0]]\n",
      "Vert [(2, 3)]\n",
      "Vert [(2, 4)]\n",
      "diag [(2, 2)]\n",
      "state_actions [['D3'], ['E3'], ['C3']]\n",
      "pos D3\n",
      "min_value------------ 2\n",
      "utility: 1\n",
      "pos F6\n",
      "max_value------------ 1\n",
      "[[ 0  0  0  0  0  0  0  0]\n",
      " [ 0  0  0  0  0  0  0  0]\n",
      " [ 0  0  0  0  0  0  0  0]\n",
      " [ 0  0  0  1 -1  0  0  0]\n",
      " [ 0  0  0 -1  1  0  0  0]\n",
      " [ 0  0  0  0 -1  1  0  0]\n",
      " [ 0  0  0  0  0  0  0  0]\n",
      " [ 0  0  0  0  0  0  0  0]]\n",
      "hor [(3, 2)]\n",
      "Vert [(2, 3)]\n",
      "hor [(4, 5)]\n",
      "hor [(5, 6)]\n",
      "state_actions [['C4'], ['D3'], ['F5'], ['G6']]\n",
      "pos C4\n",
      "min_value------------ 2\n",
      "utility: 1\n",
      "v 1\n",
      "vvv= 1\n",
      "pos min max C4\n",
      "min_value------------ 0\n",
      "[[ 0  0  0  0  0  0  0  0]\n",
      " [ 0  0  0  0  0  0  0  0]\n",
      " [ 0  0  0  0  0  0  0  0]\n",
      " [ 0  0 -1 -1 -1  0  0  0]\n",
      " [ 0  0  0 -1  1  0  0  0]\n",
      " [ 0  0  0  0  0  0  0  0]\n",
      " [ 0  0  0  0  0  0  0  0]\n",
      " [ 0  0  0  0  0  0  0  0]]\n",
      "Vert [(2, 4)]\n",
      "hor [(4, 2)]\n",
      "diag [(2, 2)]\n",
      "state_actions [['E3'], ['C5'], ['C3']]\n",
      "pos E3\n",
      "4 2\n",
      "max_value------------ 1\n",
      "[[ 0  0  0  0  0  0  0  0]\n",
      " [ 0  0  0  0  0  0  0  0]\n",
      " [ 0  0  0  0  1  0  0  0]\n",
      " [ 0  0 -1 -1  1  0  0  0]\n",
      " [ 0  0  0 -1  1  0  0  0]\n",
      " [ 0  0  0  0  0  0  0  0]\n",
      " [ 0  0  0  0  0  0  0  0]\n",
      " [ 0  0  0  0  0  0  0  0]]\n",
      "hor [(3, 5)]\n",
      "diag [(5, 5)]\n",
      "hor [(4, 5)]\n",
      "state_actions [['F4'], ['F6'], ['F5']]\n",
      "pos F4\n",
      "5 3\n",
      "min_value------------ 2\n",
      "utility: 1\n",
      "pos F6\n",
      "min_value------------ 2\n",
      "utility: 1\n",
      "pos F5\n",
      "min_value------------ 2\n",
      "utility: 1\n",
      "v 1\n",
      "pos C5\n",
      "max_value------------ 1\n",
      "[[ 0  0  0  0  0  0  0  0]\n",
      " [ 0  0  0  0  0  0  0  0]\n",
      " [ 0  0  0  0  0  0  0  0]\n",
      " [ 0  0 -1 -1 -1  0  0  0]\n",
      " [ 0  0  1  1  1  0  0  0]\n",
      " [ 0  0  0  0  0  0  0  0]\n",
      " [ 0  0  0  0  0  0  0  0]\n",
      " [ 0  0  0  0  0  0  0  0]]\n",
      "Vert [(5, 2)]\n",
      "diag [(5, 4)]\n",
      "Vert [(5, 3)]\n",
      "diag [(5, 5), (5, 1)]\n",
      "Vert [(5, 4)]\n",
      "diag [(5, 2)]\n",
      "state_actions [['C6'], ['E6'], ['D6'], ['F6', 'B6'], ['E6'], ['C6']]\n",
      "pos C6\n",
      "min_value------------ 2\n",
      "utility: 1\n",
      "pos C3\n",
      "max_value------------ 1\n",
      "[[ 0  0  0  0  0  0  0  0]\n",
      " [ 0  0  0  0  0  0  0  0]\n",
      " [ 0  0  1  0  0  0  0  0]\n",
      " [ 0  0 -1  1 -1  0  0  0]\n",
      " [ 0  0  0 -1  1  0  0  0]\n",
      " [ 0  0  0  0  0  0  0  0]\n",
      " [ 0  0  0  0  0  0  0  0]\n",
      " [ 0  0  0  0  0  0  0  0]]\n",
      "Vert [(1, 2)]\n",
      "Vert [(5, 4)]\n",
      "Vert [(2, 3)]\n",
      "hor [(4, 5)]\n",
      "state_actions [['C2'], ['E6'], ['D3'], ['F5']]\n",
      "pos C2\n",
      "min_value------------ 2\n",
      "utility: 1\n",
      "v 1\n",
      "vvv= 1\n",
      "pos min max D3\n",
      "min_value------------ 0\n",
      "[[ 0  0  0  0  0  0  0  0]\n",
      " [ 0  0  0  0  0  0  0  0]\n",
      " [ 0  0  0 -1  0  0  0  0]\n",
      " [ 0  0  0 -1 -1  0  0  0]\n",
      " [ 0  0  0 -1  1  0  0  0]\n",
      " [ 0  0  0  0  0  0  0  0]\n",
      " [ 0  0  0  0  0  0  0  0]\n",
      " [ 0  0  0  0  0  0  0  0]]\n",
      "Vert [(2, 4)]\n",
      "hor [(4, 2)]\n",
      "diag [(2, 2)]\n",
      "state_actions [['E3'], ['C5'], ['C3']]\n",
      "pos E3\n",
      "4 2\n",
      "max_value------------ 1\n",
      "[[ 0  0  0  0  0  0  0  0]\n",
      " [ 0  0  0  0  0  0  0  0]\n",
      " [ 0  0  0 -1  1  0  0  0]\n",
      " [ 0  0  0 -1  1  0  0  0]\n",
      " [ 0  0  0 -1  1  0  0  0]\n",
      " [ 0  0  0  0  0  0  0  0]\n",
      " [ 0  0  0  0  0  0  0  0]\n",
      " [ 0  0  0  0  0  0  0  0]]\n",
      "hor [(2, 5)]\n",
      "diag [(4, 5)]\n",
      "hor [(3, 5)]\n",
      "diag [(5, 5)]\n",
      "hor [(4, 5)]\n",
      "state_actions [['F3'], ['F5'], ['F4'], ['F6'], ['F5']]\n",
      "pos F3\n",
      "4 3\n",
      "min_value------------ 2\n",
      "utility: 1\n",
      "pos F5\n",
      "min_value------------ 2\n",
      "utility: 1\n",
      "pos F4\n",
      "5 3\n",
      "min_value------------ 2\n",
      "utility: 1\n",
      "pos F6\n",
      "min_value------------ 2\n",
      "utility: 1\n",
      "pos F5\n",
      "min_value------------ 2\n",
      "utility: 1\n",
      "v 1\n",
      "pos C5\n",
      "max_value------------ 1\n",
      "[[ 0  0  0  0  0  0  0  0]\n",
      " [ 0  0  0  0  0  0  0  0]\n",
      " [ 0  0  0 -1  0  0  0  0]\n",
      " [ 0  0  0 -1 -1  0  0  0]\n",
      " [ 0  0  1  1  1  0  0  0]\n",
      " [ 0  0  0  0  0  0  0  0]\n",
      " [ 0  0  0  0  0  0  0  0]\n",
      " [ 0  0  0  0  0  0  0  0]]\n",
      "Vert [(5, 3)]\n",
      "diag [(5, 5), (5, 1)]\n",
      "Vert [(5, 4)]\n",
      "diag [(5, 2)]\n",
      "state_actions [['D6'], ['F6', 'B6'], ['E6'], ['C6']]\n",
      "pos D6\n",
      "min_value------------ 2\n",
      "utility: 1\n",
      "pos C3\n",
      "max_value------------ 1\n",
      "[[ 0  0  0  0  0  0  0  0]\n",
      " [ 0  0  0  0  0  0  0  0]\n",
      " [ 0  0  1 -1  0  0  0  0]\n",
      " [ 0  0  0  1 -1  0  0  0]\n",
      " [ 0  0  0 -1  1  0  0  0]\n",
      " [ 0  0  0  0  0  0  0  0]\n",
      " [ 0  0  0  0  0  0  0  0]\n",
      " [ 0  0  0  0  0  0  0  0]]\n",
      "hor [(2, 1)]\n",
      "Vert [(5, 4)]\n",
      "hor [(3, 2)]\n",
      "hor [(4, 5)]\n",
      "state_actions [['B3'], ['E6'], ['C4'], ['F5']]\n",
      "pos B3\n",
      "min_value------------ 2\n",
      "utility: 1\n",
      "v 1\n",
      "vvv= 1\n",
      "pos min max F5\n",
      "min_value------------ 0\n",
      "[[ 0  0  0  0  0  0  0  0]\n",
      " [ 0  0  0  0  0  0  0  0]\n",
      " [ 0  0  0  0  0  0  0  0]\n",
      " [ 0  0  0  1 -1  0  0  0]\n",
      " [ 0  0  0 -1 -1 -1  0  0]\n",
      " [ 0  0  0  0  0  0  0  0]\n",
      " [ 0  0  0  0  0  0  0  0]\n",
      " [ 0  0  0  0  0  0  0  0]]\n",
      "Vert [(5, 3)]\n",
      "hor [(3, 5)]\n",
      "diag [(5, 5)]\n",
      "state_actions [['D6'], ['F4'], ['F6']]\n",
      "pos D6\n",
      "max_value------------ 1\n",
      "[[ 0  0  0  0  0  0  0  0]\n",
      " [ 0  0  0  0  0  0  0  0]\n",
      " [ 0  0  0  0  0  0  0  0]\n",
      " [ 0  0  0  1 -1  0  0  0]\n",
      " [ 0  0  0  1 -1 -1  0  0]\n",
      " [ 0  0  0  1  0  0  0  0]\n",
      " [ 0  0  0  0  0  0  0  0]\n",
      " [ 0  0  0  0  0  0  0  0]]\n",
      "hor [(3, 2)]\n",
      "diag [(5, 2)]\n",
      "hor [(4, 2)]\n",
      "diag [(6, 2), (2, 2)]\n",
      "state_actions [['C4'], ['C6'], ['C5'], ['C7', 'C3']]\n",
      "pos C4\n",
      "min_value------------ 2\n",
      "utility: 1\n",
      "pos C6\n",
      "min_value------------ 2\n",
      "utility: 1\n",
      "pos C5\n",
      "min_value------------ 2\n",
      "utility: 1\n",
      "pos C7\n",
      "min_value------------ 2\n",
      "utility: 1\n",
      "pos C3\n",
      "min_value------------ 2\n",
      "utility: 1\n",
      "v 1\n",
      "pos F4\n",
      "5 3\n",
      "max_value------------ 1\n",
      "[[ 0  0  0  0  0  0  0  0]\n",
      " [ 0  0  0  0  0  0  0  0]\n",
      " [ 0  0  0  0  0  0  0  0]\n",
      " [ 0  0  0  1  1  1  0  0]\n",
      " [ 0  0  0 -1 -1 -1  0  0]\n",
      " [ 0  0  0  0  0  0  0  0]\n",
      " [ 0  0  0  0  0  0  0  0]\n",
      " [ 0  0  0  0  0  0  0  0]]\n",
      "Vert [(2, 3)]\n",
      "Vert [(2, 4)]\n",
      "diag [(2, 2)]\n",
      "Vert [(2, 5)]\n",
      "diag [(2, 3)]\n",
      "state_actions [['D3'], ['E3'], ['C3'], ['F3'], ['D3']]\n",
      "pos D3\n",
      "min_value------------ 2\n",
      "utility: 1\n",
      "pos F6\n",
      "max_value------------ 1\n",
      "[[ 0  0  0  0  0  0  0  0]\n",
      " [ 0  0  0  0  0  0  0  0]\n",
      " [ 0  0  0  0  0  0  0  0]\n",
      " [ 0  0  0  1 -1  0  0  0]\n",
      " [ 0  0  0 -1  1 -1  0  0]\n",
      " [ 0  0  0  0  0  1  0  0]\n",
      " [ 0  0  0  0  0  0  0  0]\n",
      " [ 0  0  0  0  0  0  0  0]]\n",
      "Vert [(5, 4)]\n",
      "hor [(3, 2)]\n",
      "Vert [(2, 3)]\n",
      "Vert [(6, 5)]\n",
      "state_actions [['E6'], ['C4'], ['D3'], ['F7']]\n",
      "pos E6\n",
      "min_value------------ 2\n",
      "utility: 1\n",
      "v 1\n",
      "vvv= 1\n",
      "[1, 1, 1, 1]\n",
      "idx 0\n"
     ]
    },
    {
     "data": {
      "text/plain": [
       "'E6'"
      ]
     },
     "execution_count": 146,
     "metadata": {},
     "output_type": "execute_result"
    }
   ],
   "source": [
    "min_max_cutoff(State())"
   ]
  },
  {
   "cell_type": "code",
   "execution_count": null,
   "id": "cb721a23",
   "metadata": {},
   "outputs": [],
   "source": []
  },
  {
   "cell_type": "code",
   "execution_count": null,
   "id": "db57eae8",
   "metadata": {},
   "outputs": [],
   "source": []
  }
 ],
 "metadata": {
  "kernelspec": {
   "display_name": "Python 3 (ipykernel)",
   "language": "python",
   "name": "python3"
  },
  "language_info": {
   "codemirror_mode": {
    "name": "ipython",
    "version": 3
   },
   "file_extension": ".py",
   "mimetype": "text/x-python",
   "name": "python",
   "nbconvert_exporter": "python",
   "pygments_lexer": "ipython3",
   "version": "3.9.7"
  }
 },
 "nbformat": 4,
 "nbformat_minor": 5
}
