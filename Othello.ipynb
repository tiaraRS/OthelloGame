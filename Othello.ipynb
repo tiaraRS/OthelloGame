{
 "cells": [
  {
   "cell_type": "code",
   "execution_count": 29,
   "id": "b7f58a90",
   "metadata": {},
   "outputs": [],
   "source": [
    "import numpy as np\n",
    "import math"
   ]
  },
  {
   "cell_type": "code",
   "execution_count": 30,
   "id": "c23f6c84",
   "metadata": {},
   "outputs": [
    {
     "data": {
      "text/plain": [
       "0"
      ]
     },
     "execution_count": 30,
     "metadata": {},
     "output_type": "execute_result"
    }
   ],
   "source": [
    "x = math.inf\n",
    "y = np.argmax([1,2,3,4])\n",
    "y = np.argmin([1,2,3,4])\n",
    "y"
   ]
  },
  {
   "cell_type": "code",
   "execution_count": 31,
   "id": "a5e11537",
   "metadata": {},
   "outputs": [],
   "source": [
    "# class State:\n",
    "#     def __init__(self):\n",
    "#         color = None\n",
    "        "
   ]
  },
  {
   "cell_type": "code",
   "execution_count": 32,
   "id": "41643f88",
   "metadata": {},
   "outputs": [],
   "source": [
    "#MAX = BLACK\n",
    "class State:\n",
    "    def __init__(self):\n",
    "        self.game_board = self.intial_game_board()\n",
    "        self.current_player = \"MAX\"\n",
    "        \n",
    "    def intial_game_board(self):\n",
    "        initial_state = np.zeros(shape=(8,8), dtype=np.int32)\n",
    "        initial_state[3,3] = 1\n",
    "        initial_state[4,3] = -1\n",
    "        initial_state[3,4] = -1\n",
    "        initial_state[4,4] = 1\n",
    "        return initial_state"
   ]
  },
  {
   "cell_type": "code",
   "execution_count": 33,
   "metadata": {},
   "outputs": [
    {
     "data": {
      "text/plain": [
       "array([[ 0,  0,  1,  0,  0,  0,  0,  0],\n",
       "       [ 0,  0,  0,  0,  0,  0,  0,  0],\n",
       "       [ 0,  0,  0,  0,  0,  0,  0,  0],\n",
       "       [ 0,  0,  0,  1, -1,  0,  0,  0],\n",
       "       [ 0,  0,  0, -1,  1,  0,  0,  0],\n",
       "       [ 0,  0,  0,  0,  0,  0,  0,  0],\n",
       "       [ 0,  0,  0,  0,  0,  0,  0,  0],\n",
       "       [ 0,  0,  0,  0,  0,  0,  0,  0]])"
      ]
     },
     "execution_count": 33,
     "metadata": {},
     "output_type": "execute_result"
    }
   ],
   "source": [
    "a= State()\n",
    "a.game_board[0,2]=1\n",
    "a.game_board"
   ]
  },
  {
   "cell_type": "code",
   "execution_count": 34,
   "id": "d5aa14a6",
   "metadata": {},
   "outputs": [
    {
     "data": {
      "text/plain": [
       "array([[ 0,  0,  0,  0,  0,  0,  0,  0],\n",
       "       [ 0,  0,  0,  0,  0,  0,  0,  0],\n",
       "       [ 0,  0,  0,  0,  0,  0,  0,  0],\n",
       "       [ 0,  0,  0,  1, -1,  0,  0,  0],\n",
       "       [ 0,  0,  0, -1,  1,  0,  0,  0],\n",
       "       [ 0,  0,  0,  0,  0,  0,  0,  0],\n",
       "       [ 0,  0,  0,  0,  0,  0,  0,  0],\n",
       "       [ 0,  0,  0,  0,  0,  0,  0,  0]])"
      ]
     },
     "execution_count": 34,
     "metadata": {},
     "output_type": "execute_result"
    }
   ],
   "source": [
    "#-1 = BLACK\n",
    "# 1 = WHITE\n",
    "# 0 = NADA\n",
    "initial_state = np.zeros(shape=(8,8), dtype=np.int32)\n",
    "initial_state[3,3] = 1\n",
    "initial_state[4,3] = -1\n",
    "initial_state[3,4] = -1\n",
    "initial_state[4,4] = 1\n",
    "initial_state"
   ]
  },
  {
   "cell_type": "code",
   "execution_count": 35,
   "id": "de72b097",
   "metadata": {},
   "outputs": [
    {
     "name": "stdout",
     "output_type": "stream",
     "text": [
      "2\n"
     ]
    }
   ],
   "source": [
    "print(len(np.where(initial_state == -1)))"
   ]
  },
  {
   "cell_type": "code",
   "execution_count": 36,
   "id": "c4f41865",
   "metadata": {},
   "outputs": [],
   "source": [
    "#black = MAX\n",
    "#white = MIN\n",
    "# black = State()\n",
    "# black.color = \"black\"\n",
    "# black.turn = True"
   ]
  },
  {
   "cell_type": "code",
   "execution_count": 37,
   "id": "c16d194b",
   "metadata": {},
   "outputs": [
    {
     "data": {
      "text/plain": [
       "array([[ 0,  0,  0,  0,  0,  0,  0,  0],\n",
       "       [ 0,  0,  0,  0,  0,  0,  0,  0],\n",
       "       [ 0,  8,  0,  0,  0,  0,  0,  0],\n",
       "       [ 0,  0,  0,  1, -1,  0,  0,  0],\n",
       "       [ 0,  0,  0, -1,  1,  0,  0,  0],\n",
       "       [ 0,  0,  0,  0,  0,  0,  0,  0],\n",
       "       [ 0,  0,  0,  0,  0,  0,  0,  0],\n",
       "       [ 0,  0,  0,  0,  0,  0,  0,  0]])"
      ]
     },
     "execution_count": 37,
     "metadata": {},
     "output_type": "execute_result"
    }
   ],
   "source": [
    "ini = State()\n",
    "visited = ([2,2],[1,1])\n",
    "ini.game_board[visited]=8\n",
    "ini.game_board"
   ]
  },
  {
   "cell_type": "code",
   "execution_count": 38,
   "id": "ac214ee6",
   "metadata": {},
   "outputs": [],
   "source": [
    "def player(state):\n",
    "    if state.current_player == \"MAX\":\n",
    "        return (\"MIN\", max_value, np.argmax)\n",
    "    else:\n",
    "        return (\"MAX\", min_value, np.argmin)"
   ]
  },
  {
   "cell_type": "code",
   "execution_count": 93,
   "id": "1d554f13",
   "metadata": {},
   "outputs": [],
   "source": [
    "columns = {\"A\":0,\"B\":1,\"C\":2,\"D\":3,\"E\":4,\"F\":5,\"G\":6,\"H\":7}\n",
    "def actions(state):\n",
    "    pass\n",
    "    # para cada valor de su color propio \n",
    "    # buscar flanqueos posibles, si encuentra agrega a la lista de acciones posibles\n",
    "def flip_vertically(state, row,column, value):\n",
    "    result_state = state\n",
    "    current_column = column\n",
    "    current_row = current_row + 1\n",
    "    opposite_value = value*-1\n",
    "    if result_state.game_board[current_row, current_column] == opposite_value:\n",
    "        while(result_state.game_board[current_row, current_column] == opposite_value):\n",
    "            current_row+=1\n",
    "        if result_state.game_board[current_row, current_column] == value: #flanqueo exitoso\n",
    "           result_state.game_board[int(row)-1:current_row, current_column] = value\n",
    "    \n",
    "    return result_state\n",
    "def result(state, action):\n",
    "    print(\"state before\", state.game_board)\n",
    "    result_state = state\n",
    "    column = columns[action[0]]\n",
    "    row = action[1]\n",
    "    value = 1\n",
    "    if result_state.current_player == \"MAX\":\n",
    "        value = -1\n",
    "    current_row = int(row)-1\n",
    "    current_column = column\n",
    "    result_state.game_board[current_row, current_column] = value\n",
    "    opposite_value = value*-1\n",
    "  \n",
    "  #  result_state= flip_vertically(result_state, row,column, value)\n",
    "    #controlar LIMITES\n",
    "    #vertical ABAJO\n",
    "#    current_row = current_row + 1\n",
    "#    if result_state.game_board[current_row, current_column] == opposite_value:\n",
    "#        while(result_state.game_board[current_row, current_column] == opposite_value):\n",
    "#            current_row+=1\n",
    "#        if result_state.game_board[current_row, current_column] == value: #flanqueo exitoso\n",
    "#           result_state.game_board[int(row)-1:current_row, current_column] = value\n",
    "    #Vertical ARRIBA\n",
    "#    current_row = current_row - 1\n",
    "#    if result_state.game_board[current_row, current_column] == opposite_value:\n",
    "#        while(result_state.game_board[current_row, current_column] == opposite_value):\n",
    "#            result_state.game_board[current_row, current_column] = value\n",
    "#            current_row-=1\n",
    "#        if result_state.game_board[current_row, current_column] == value: #flanqueo exitoso\n",
    "#          result_state.game_board[int(row)-1:current_row, current_column] = value\n",
    "    #Horizontal Izquierda\n",
    "#    current_column = current_column+1\n",
    "#    if result_state.game_board[current_row, current_column] == opposite_value:\n",
    "#        while(result_state.game_board[current_row, current_column] == opposite_value):\n",
    "#            result_state.game_board[current_row, current_column] = value\n",
    "#            current_column+=1\n",
    "#       if result_state.game_board[current_row, current_column] == value: \n",
    "#             result_state.game_board[int(column)-1:current_row, current_column] = value\n",
    "#Horizontal Derecha\n",
    "    current_column = current_column-1\n",
    "    if result_state.game_board[current_row, current_column] == opposite_value:\n",
    "        while(result_state.game_board[current_row, current_column] == opposite_value):\n",
    "            result_state.game_board[current_row, current_column] = value\n",
    "            current_column-=1\n",
    "        if result_state.game_board[current_row, current_column] == value: #flanqueo exitoso\n",
    "            result_state.game_board[int(column)-1:current_row, current_column] = value\n",
    "     #current_row = current_row -2\n",
    "    \n",
    "    \n",
    "#     current_row = int(row)-1\n",
    "#     result_state.game_board[int(row)-1, column]\n",
    "    #horizontal\n",
    "    #diagonal    \n",
    "    return result_state"
   ]
  },
  {
   "cell_type": "code",
   "execution_count": 151,
   "id": "f0df45f0",
   "metadata": {},
   "outputs": [],
   "source": [
    "columns = {\"A\":0,\"B\":1,\"C\":2,\"D\":3,\"E\":4,\"F\":5,\"G\":6,\"H\":7}\n",
    "def actions(state):\n",
    "    pass\n",
    "def result_diagonal(state, action):\n",
    "    print(\"state before\", state.game_board)\n",
    "    result_state = state\n",
    "    column = columns[action[0]]\n",
    "    row = action[1]\n",
    "    value = 1\n",
    "    if result_state.current_player == \"MAX\":\n",
    "        value = -1\n",
    "    current_row = int(row)-1\n",
    "    current_column = column\n",
    "    result_state.game_board[current_row, current_column] = value\n",
    "    opposite_value = value*-1\n",
    "#DIAGONAL ABAJO(IZQUIRDA-DERECHA) \\\n",
    "#    current_column = current_column+1\n",
    "#    current_row = current_row+1\n",
    "#    if result_state.game_board[current_row, current_column] == opposite_value:\n",
    "#        while(result_state.game_board[current_row, current_column] == opposite_value):\n",
    "#            result_state.game_board[current_row, current_column] = value\n",
    "#            current_column+=1\n",
    "#            current_row+=1\n",
    "#        if result_state.game_board[current_row, current_column] == value: \n",
    "#          result_state.game_board[current_row, current_column] = value\n",
    "#DIAGONAL ARRIBA(IZQUIERDA-DERECHA)\n",
    "#    current_column = current_column+1\n",
    "#    current_row = current_row-1\n",
    "#    if result_state.game_board[current_row, current_column] == opposite_value:\n",
    "#        while(result_state.game_board[current_row, current_column] == opposite_value):\n",
    "#            result_state.game_board[current_row, current_column] = value\n",
    "#            current_column+=1\n",
    "#            current_row-=1\n",
    "#        if result_state.game_board[current_row, current_column] == value: #flanqueo exitoso\n",
    "#            result_state.game_board[int(column)+1 and int(row)-1:current_row, current_column] = value\n",
    "#DIAGONAL ABAJO(DERECHA-IZQUIERDA)\n",
    "#    current_column = current_column-1\n",
    "#    current_row = current_row+1\n",
    "#    if result_state.game_board[current_row, current_column] == opposite_value:\n",
    "#        while(result_state.game_board[current_row, current_column] == opposite_value):\n",
    "#            result_state.game_board[current_row, current_column] = value\n",
    "#            current_column-=1\n",
    "#            current_row+=1\n",
    "#        if result_state.game_board[current_row, current_column] == value: \n",
    "#           result_state.game_board[current_row, current_column] = value\n",
    "##DIAGONAL ARRIBA(DERECHA-IZQUIERDA)\n",
    "    current_column = current_column-1\n",
    "    current_row = current_row-1\n",
    "    if result_state.game_board[current_row, current_column] == opposite_value:\n",
    "        while(result_state.game_board[current_row, current_column] == opposite_value):\n",
    "            result_state.game_board[current_row, current_column] = value\n",
    "            current_column-=1\n",
    "            current_row-=1\n",
    "        if result_state.game_board[current_row, current_column] == value: \n",
    "           result_state.game_board[current_row, current_column] = value\n",
    "    return result_state"
   ]
  },
  {
   "cell_type": "code",
   "execution_count": 78,
   "id": "de2ac7c5",
   "metadata": {},
   "outputs": [
    {
     "name": "stdout",
     "output_type": "stream",
     "text": [
      "state before [[ 0  0  0  0  0  0  0  0]\n",
      " [ 0  0  0  1  0  0  0  0]\n",
      " [ 0  0  0  1  0  0  0  0]\n",
      " [ 0  0  0  1 -1  0  0  0]\n",
      " [ 0  0  0 -1  1  0  0  0]\n",
      " [ 0  0  0  0  0  0  0  0]\n",
      " [ 0  0  0  0  0  0  0  0]\n",
      " [ 0  0  0  0  0  0  0  0]]\n"
     ]
    },
    {
     "data": {
      "text/plain": [
       "array([[ 0,  0,  0, -1,  0,  0,  0,  0],\n",
       "       [ 0,  0,  0, -1,  0,  0,  0,  0],\n",
       "       [ 0,  0,  0, -1,  0,  0,  0,  0],\n",
       "       [ 0,  0,  0, -1, -1,  0,  0,  0],\n",
       "       [ 0,  0,  0, -1,  1,  0,  0,  0],\n",
       "       [ 0,  0,  0,  0,  0,  0,  0,  0],\n",
       "       [ 0,  0,  0,  0,  0,  0,  0,  0],\n",
       "       [ 0,  0,  0,  0,  0,  0,  0,  0]])"
      ]
     },
     "execution_count": 78,
     "metadata": {},
     "output_type": "execute_result"
    }
   ],
   "source": [
    "a= State()\n",
    "a.game_board[2,3]=1\n",
    "a.game_board[1,3]=1\n",
    "a.game_board\n",
    "result(a,\"D1\").game_board\n",
    "#Funciona NUEVA PRUEBA VERTICAL ABAJO"
   ]
  },
  {
   "cell_type": "code",
   "execution_count": 81,
   "id": "50ded1df",
   "metadata": {},
   "outputs": [
    {
     "name": "stdout",
     "output_type": "stream",
     "text": [
      "state before [[ 0  0  0  0  0  0  0  0]\n",
      " [ 0  0  0  1  0  0  0  0]\n",
      " [ 0  0  0  1  0  0  0  0]\n",
      " [ 0  0  0  1 -1  0  0  0]\n",
      " [ 0  0  0 -1  1  0  0  0]\n",
      " [ 0  0  0  1  0  0  0  0]\n",
      " [ 0  0  0  1  0  0  0  0]\n",
      " [ 0  0  0  0  0  0  0  0]]\n"
     ]
    },
    {
     "data": {
      "text/plain": [
       "array([[ 0,  0,  0, -1,  0,  0,  0,  0],\n",
       "       [ 0,  0,  0, -1,  0,  0,  0,  0],\n",
       "       [ 0,  0,  0, -1,  0,  0,  0,  0],\n",
       "       [ 0,  0,  0, -1, -1,  0,  0,  0],\n",
       "       [ 0,  0,  0, -1,  1,  0,  0,  0],\n",
       "       [ 0,  0,  0,  1,  0,  0,  0,  0],\n",
       "       [ 0,  0,  0,  1,  0,  0,  0,  0],\n",
       "       [ 0,  0,  0,  0,  0,  0,  0,  0]])"
      ]
     },
     "execution_count": 81,
     "metadata": {},
     "output_type": "execute_result"
    }
   ],
   "source": [
    "a= State()\n",
    "a.game_board[2,3]=1\n",
    "a.game_board[1,3]=1\n",
    "a.game_board[5,3]=1\n",
    "a.game_board[6,3]=1\n",
    "a.game_board\n",
    "result(a,\"D1\").game_board\n",
    "#prueba de que no pasa hasta el fondo"
   ]
  },
  {
   "cell_type": "code",
   "execution_count": 83,
   "id": "597b0720",
   "metadata": {},
   "outputs": [
    {
     "name": "stdout",
     "output_type": "stream",
     "text": [
      "state before [[ 0  0  0  0  0  0  0  0]\n",
      " [ 0  0  0  0  0  0  0  0]\n",
      " [ 0  0  0  0  0  0  0  0]\n",
      " [ 0  0  0  1 -1  0  0  0]\n",
      " [ 0  0  0 -1  1  0  0  0]\n",
      " [ 0  0  0  0  1  0  0  0]\n",
      " [ 0  0  0  0  1  0  0  0]\n",
      " [ 0  0  0  0  0  0  0  0]]\n"
     ]
    },
    {
     "data": {
      "text/plain": [
       "array([[ 0,  0,  0,  0,  0,  0,  0,  0],\n",
       "       [ 0,  0,  0,  0,  0,  0,  0,  0],\n",
       "       [ 0,  0,  0,  0,  0,  0,  0,  0],\n",
       "       [ 0,  0,  0,  1, -1,  0,  0,  0],\n",
       "       [ 0,  0,  0, -1, -1,  0,  0,  0],\n",
       "       [ 0,  0,  0,  0, -1,  0,  0,  0],\n",
       "       [ 0,  0,  0,  0, -1,  0,  0,  0],\n",
       "       [ 0,  0,  0,  0, -1,  0,  0,  0]])"
      ]
     },
     "execution_count": 83,
     "metadata": {},
     "output_type": "execute_result"
    }
   ],
   "source": [
    "a= State()\n",
    "a.game_board[5,4]=1\n",
    "a.game_board[6,4]=1\n",
    "a.game_board\n",
    "result(a,\"E0\").game_board\n",
    "#Funciona NUEVA PRUEBA VERTICAL ARRIBA"
   ]
  },
  {
   "cell_type": "code",
   "execution_count": 88,
   "id": "cdc9a7dc",
   "metadata": {},
   "outputs": [
    {
     "name": "stdout",
     "output_type": "stream",
     "text": [
      "state before [[ 0  0  0  0  0  0  0  0]\n",
      " [ 0  0  0  0  1  0  0  0]\n",
      " [ 0  0  0  0  1  0  0  0]\n",
      " [ 0  0  0  1 -1  0  0  0]\n",
      " [ 0  0  0 -1  1  0  0  0]\n",
      " [ 0  0  0  0  1  0  0  0]\n",
      " [ 0  0  0  0  1  0  0  0]\n",
      " [ 0  0  0  0  0  0  0  0]]\n"
     ]
    },
    {
     "data": {
      "text/plain": [
       "array([[ 0,  0,  0,  0,  0,  0,  0,  0],\n",
       "       [ 0,  0,  0,  0,  1,  0,  0,  0],\n",
       "       [ 0,  0,  0,  0,  1,  0,  0,  0],\n",
       "       [ 0,  0,  0,  1, -1,  0,  0,  0],\n",
       "       [ 0,  0,  0, -1, -1,  0,  0,  0],\n",
       "       [ 0,  0,  0,  0, -1,  0,  0,  0],\n",
       "       [ 0,  0,  0,  0, -1,  0,  0,  0],\n",
       "       [ 0,  0,  0,  0, -1,  0,  0,  0]])"
      ]
     },
     "execution_count": 88,
     "metadata": {},
     "output_type": "execute_result"
    }
   ],
   "source": [
    "a= State()\n",
    "a.game_board[5,4]=1\n",
    "a.game_board[6,4]=1\n",
    "a.game_board[1,4]=1\n",
    "a.game_board[2,4]=1\n",
    "a.game_board\n",
    "result(a,\"E8\").game_board\n",
    "#prueba no pasa hasta arriba"
   ]
  },
  {
   "cell_type": "code",
   "execution_count": 91,
   "id": "8adc5d5b",
   "metadata": {},
   "outputs": [
    {
     "name": "stdout",
     "output_type": "stream",
     "text": [
      "state before [[ 0  0  0  0  0  0  0  0]\n",
      " [ 0  0  0  0  0  0  0  0]\n",
      " [ 0  0  0  0  0  0  0  0]\n",
      " [ 0  1  1  1 -1  0  0  0]\n",
      " [ 0  0  0 -1  1  0  0  0]\n",
      " [ 0  0  0  0  0  0  0  0]\n",
      " [ 0  0  0  0  0  0  0  0]\n",
      " [ 0  0  0  0  0  0  0  0]]\n"
     ]
    },
    {
     "data": {
      "text/plain": [
       "array([[ 0,  0,  0,  0,  0,  0,  0,  0],\n",
       "       [ 0,  0,  0,  0,  0,  0,  0,  0],\n",
       "       [ 0,  0,  0,  0,  0,  0,  0,  0],\n",
       "       [-1, -1, -1, -1, -1,  0,  0,  0],\n",
       "       [ 0,  0,  0, -1,  1,  0,  0,  0],\n",
       "       [ 0,  0,  0,  0,  0,  0,  0,  0],\n",
       "       [ 0,  0,  0,  0,  0,  0,  0,  0],\n",
       "       [ 0,  0,  0,  0,  0,  0,  0,  0]])"
      ]
     },
     "execution_count": 91,
     "metadata": {},
     "output_type": "execute_result"
    }
   ],
   "source": [
    "a= State()\n",
    "a.game_board[3,2]=1\n",
    "a.game_board[3,1]=1\n",
    "a.game_board\n",
    "result(a,\"A4\").game_board\n",
    "#Funciona NUEVA PRUEBA HORIZONTAL IZQUIERDA"
   ]
  },
  {
   "cell_type": "code",
   "execution_count": 92,
   "id": "5c988c11",
   "metadata": {},
   "outputs": [
    {
     "name": "stdout",
     "output_type": "stream",
     "text": [
      "state before [[ 0  0  0  0  0  0  0  0]\n",
      " [ 0  0  0  0  0  0  0  0]\n",
      " [ 0  0  0  0  0  0  0  0]\n",
      " [ 0  1  1  1 -1  1  1  0]\n",
      " [ 0  0  0 -1  1  0  0  0]\n",
      " [ 0  0  0  0  0  0  0  0]\n",
      " [ 0  0  0  0  0  0  0  0]\n",
      " [ 0  0  0  0  0  0  0  0]]\n"
     ]
    },
    {
     "data": {
      "text/plain": [
       "array([[ 0,  0,  0,  0,  0,  0,  0,  0],\n",
       "       [ 0,  0,  0,  0,  0,  0,  0,  0],\n",
       "       [ 0,  0,  0,  0,  0,  0,  0,  0],\n",
       "       [-1, -1, -1, -1, -1,  1,  1,  0],\n",
       "       [ 0,  0,  0, -1,  1,  0,  0,  0],\n",
       "       [ 0,  0,  0,  0,  0,  0,  0,  0],\n",
       "       [ 0,  0,  0,  0,  0,  0,  0,  0],\n",
       "       [ 0,  0,  0,  0,  0,  0,  0,  0]])"
      ]
     },
     "execution_count": 92,
     "metadata": {},
     "output_type": "execute_result"
    }
   ],
   "source": [
    "a= State()\n",
    "a.game_board[3,2]=1\n",
    "a.game_board[3,1]=1\n",
    "a.game_board[3,5]=1\n",
    "a.game_board[3,6]=1\n",
    "a.game_board\n",
    "result(a,\"A4\").game_board\n",
    "#Prueba que no pasa al otro lado"
   ]
  },
  {
   "cell_type": "code",
   "execution_count": 140,
   "id": "ba5c6d7e",
   "metadata": {},
   "outputs": [
    {
     "name": "stdout",
     "output_type": "stream",
     "text": [
      "state before [[ 0  0  0  0  0  0  0  0]\n",
      " [ 0  0  0  0  0  0  0  0]\n",
      " [ 0  0  0  0  0  0  0  0]\n",
      " [ 0  0  0  1 -1  0  0  0]\n",
      " [ 0  0  0 -1  1  1  1  0]\n",
      " [ 0  0  0  0  0  0  0  0]\n",
      " [ 0  0  0  0  0  0  0  0]\n",
      " [ 0  0  0  0  0  0  0  0]]\n"
     ]
    },
    {
     "data": {
      "text/plain": [
       "array([[ 0,  0,  0,  0,  0,  0,  0,  0],\n",
       "       [ 0,  0,  0,  0,  0,  0,  0,  0],\n",
       "       [ 0,  0,  0,  0,  0,  0,  0,  0],\n",
       "       [ 0,  0,  0,  1, -1,  0,  0,  0],\n",
       "       [ 0,  0,  0, -1, -1, -1, -1, -1],\n",
       "       [ 0,  0,  0,  0,  0,  0,  0,  0],\n",
       "       [ 0,  0,  0,  0,  0,  0,  0,  0],\n",
       "       [ 0,  0,  0,  0,  0,  0,  0,  0]])"
      ]
     },
     "execution_count": 140,
     "metadata": {},
     "output_type": "execute_result"
    }
   ],
   "source": [
    "a= State()\n",
    "a.game_board[4,5]=1\n",
    "a.game_board[4,6]=1\n",
    "a.game_board\n",
    "result(a,\"H5\").game_board\n",
    "#Funciona NUEVA PRUEBA HORIZONTAL DERECHA"
   ]
  },
  {
   "cell_type": "code",
   "execution_count": 138,
   "id": "dbbc5f9d",
   "metadata": {},
   "outputs": [
    {
     "name": "stdout",
     "output_type": "stream",
     "text": [
      "state before [[ 0  0  0  0  0  0  0  0]\n",
      " [ 0  0  0  0  0  0  0  0]\n",
      " [ 0  0  0  0  0  0  0  0]\n",
      " [ 0  0  0  1 -1  0  0  0]\n",
      " [ 0  1  1 -1  1  1  1  0]\n",
      " [ 0  0  0  0  0  0  0  0]\n",
      " [ 0  0  0  0  0  0  0  0]\n",
      " [ 0  0  0  0  0  0  0  0]]\n"
     ]
    },
    {
     "data": {
      "text/plain": [
       "array([[ 0,  0,  0,  0,  0,  0,  0,  0],\n",
       "       [ 0,  0,  0,  0,  0,  0,  0,  0],\n",
       "       [ 0,  0,  0,  0,  0,  0,  0,  0],\n",
       "       [ 0,  0,  0,  1, -1,  0,  0,  0],\n",
       "       [ 0,  1,  1, -1, -1, -1, -1, -1],\n",
       "       [ 0,  0,  0,  0,  0,  0,  0,  0],\n",
       "       [ 0,  0,  0,  0,  0,  0,  0,  0],\n",
       "       [ 0,  0,  0,  0,  0,  0,  0,  0]])"
      ]
     },
     "execution_count": 138,
     "metadata": {},
     "output_type": "execute_result"
    }
   ],
   "source": [
    "a= State()\n",
    "a.game_board[4,5]=1\n",
    "a.game_board[4,6]=1\n",
    "a.game_board[4,1]=1\n",
    "a.game_board[4,2]=1\n",
    "a.game_board\n",
    "result(a,\"H5\").game_board"
   ]
  },
  {
   "cell_type": "code",
   "execution_count": 111,
   "id": "c058c7fc",
   "metadata": {},
   "outputs": [
    {
     "name": "stdout",
     "output_type": "stream",
     "text": [
      "state before [[ 0  0  0  0  0  0  0  0]\n",
      " [ 0  0  0  0  0  0  0  0]\n",
      " [ 0  0  0  0  0  0  0  0]\n",
      " [ 0  0  0  1 -1  0  0  0]\n",
      " [ 0  0  0 -1  1  0  0  0]\n",
      " [ 0  0  1  0  0  0  0  0]\n",
      " [ 0  0  0  0  0  0  0  0]\n",
      " [ 0  0  0  0  0  0  0  0]]\n"
     ]
    },
    {
     "data": {
      "text/plain": [
       "array([[ 0,  0,  0,  0,  0,  0,  0,  0],\n",
       "       [ 0,  0,  0,  0,  0,  0,  0,  0],\n",
       "       [ 0,  0,  0,  0,  0,  0,  0,  0],\n",
       "       [ 0,  0,  0,  1, -1,  0,  0,  0],\n",
       "       [ 0,  0,  0, -1,  1,  0,  0,  0],\n",
       "       [ 0,  0, -1,  0,  0,  0,  0,  0],\n",
       "       [ 0, -1,  0,  0,  0,  0,  0,  0],\n",
       "       [ 0,  0,  0,  0,  0,  0,  0,  0]])"
      ]
     },
     "execution_count": 111,
     "metadata": {},
     "output_type": "execute_result"
    }
   ],
   "source": [
    "a= State()\n",
    "a.game_board[5,2]=1\n",
    "a.game_board\n",
    "result_diagonal(a,\"B7\").game_board\n",
    "#DIAGONAL ARRIBA(IZQUIERDA-DERECHA) /"
   ]
  },
  {
   "cell_type": "code",
   "execution_count": 137,
   "id": "c35e6c0a",
   "metadata": {},
   "outputs": [
    {
     "name": "stdout",
     "output_type": "stream",
     "text": [
      "state before [[ 0  0  0  0  0  0  0  0]\n",
      " [ 0  0  0  0  0  0  0  0]\n",
      " [ 0  0  0  0  0  0  0  0]\n",
      " [ 0  0  0  1 -1  0  0  0]\n",
      " [ 0  0  0 -1  1  0  0  0]\n",
      " [ 0  0  0  0  0 -1  0  0]\n",
      " [ 0  0  0  0  0  0  0  0]\n",
      " [ 0  0  0  0  0  0  0  0]]\n"
     ]
    },
    {
     "data": {
      "text/plain": [
       "array([[ 0,  0,  0,  0,  0,  0,  0,  0],\n",
       "       [ 0,  0,  0,  0,  0,  0,  0,  0],\n",
       "       [ 0,  0, -1,  0,  0,  0,  0,  0],\n",
       "       [ 0,  0,  0, -1, -1,  0,  0,  0],\n",
       "       [ 0,  0,  0, -1, -1,  0,  0,  0],\n",
       "       [ 0,  0,  0,  0,  0, -1,  0,  0],\n",
       "       [ 0,  0,  0,  0,  0,  0,  0,  0],\n",
       "       [ 0,  0,  0,  0,  0,  0,  0,  0]])"
      ]
     },
     "execution_count": 137,
     "metadata": {},
     "output_type": "execute_result"
    }
   ],
   "source": [
    "a= State()\n",
    "a.game_board[5,5]=-1\n",
    "a.game_board\n",
    "result_diagonal(a,\"C3\").game_board\n",
    "#DIAGONAL ABAJO(IZQUIRDA-DERECHA) \\"
   ]
  },
  {
   "cell_type": "code",
   "execution_count": 148,
   "id": "24443ac8",
   "metadata": {},
   "outputs": [
    {
     "name": "stdout",
     "output_type": "stream",
     "text": [
      "state before [[ 0  0  0  0  0  0  0  0]\n",
      " [ 0  0  0  0  0  0  0  0]\n",
      " [ 0  0  0  0  0  0  0  0]\n",
      " [ 0  0  0  1  1  0  0  0]\n",
      " [ 0  0  0  1  1  0  0  0]\n",
      " [ 0  0 -1  0  0  0  0  0]\n",
      " [ 0  0  0  0  0  0  0  0]\n",
      " [ 0  0  0  0  0  0  0  0]]\n"
     ]
    },
    {
     "data": {
      "text/plain": [
       "array([[ 0,  0,  0,  0,  0,  0,  0,  0],\n",
       "       [ 0,  0,  0,  0,  0,  0,  0,  0],\n",
       "       [ 0,  0,  0,  0,  0, -1,  0,  0],\n",
       "       [ 0,  0,  0,  1, -1,  0,  0,  0],\n",
       "       [ 0,  0,  0, -1,  1,  0,  0,  0],\n",
       "       [ 0,  0, -1,  0,  0,  0,  0,  0],\n",
       "       [ 0,  0,  0,  0,  0,  0,  0,  0],\n",
       "       [ 0,  0,  0,  0,  0,  0,  0,  0]])"
      ]
     },
     "execution_count": 148,
     "metadata": {},
     "output_type": "execute_result"
    }
   ],
   "source": [
    "a= State()\n",
    "a.game_board[4,3] = 1\n",
    "a.game_board[3,4] = 1\n",
    "a.game_board[5,2] = -1\n",
    "a.game_board\n",
    "result_diagonal(a,\"F3\").game_board\n",
    "#DIAGONAL ABAJO(DERECHA-IZQUIERDA /"
   ]
  },
  {
   "cell_type": "code",
   "execution_count": 152,
   "id": "583df849",
   "metadata": {},
   "outputs": [
    {
     "name": "stdout",
     "output_type": "stream",
     "text": [
      "state before [[ 0  0  0  0  0  0  0  0]\n",
      " [ 0  0  0  0  0  0  0  0]\n",
      " [ 0  0 -1  0  0  0  0  0]\n",
      " [ 0  0  0  1  1  0  0  0]\n",
      " [ 0  0  0  1  1  0  0  0]\n",
      " [ 0  0  0  0  0  0  0  0]\n",
      " [ 0  0  0  0  0  0  0  0]\n",
      " [ 0  0  0  0  0  0  0  0]]\n"
     ]
    },
    {
     "data": {
      "text/plain": [
       "array([[ 0,  0,  0,  0,  0,  0,  0,  0],\n",
       "       [ 0,  0,  0,  0,  0,  0,  0,  0],\n",
       "       [ 0,  0, -1,  0,  0,  0,  0,  0],\n",
       "       [ 0,  0,  0, -1,  1,  0,  0,  0],\n",
       "       [ 0,  0,  0,  1, -1,  0,  0,  0],\n",
       "       [ 0,  0,  0,  0,  0, -1,  0,  0],\n",
       "       [ 0,  0,  0,  0,  0,  0,  0,  0],\n",
       "       [ 0,  0,  0,  0,  0,  0,  0,  0]])"
      ]
     },
     "execution_count": 152,
     "metadata": {},
     "output_type": "execute_result"
    }
   ],
   "source": [
    "a= State()\n",
    "a.game_board[4,3] = 1\n",
    "a.game_board[3,4] = 1\n",
    "a.game_board[2,2] = -1\n",
    "a.game_board\n",
    "result_diagonal(a,\"F6\").game_board\n",
    "#DIAGONAL ARRIBA(DERECHA-IZQUIERDA)"
   ]
  },
  {
   "cell_type": "code",
   "execution_count": null,
   "id": "1e08f9f0",
   "metadata": {},
   "outputs": [],
   "source": [
    "def min_max_decision(state):\n",
    "    values = []\n",
    "    player, func_value, func_arg = player(state)\n",
    "    state.current_player = player\n",
    "    state_actions = actions(state)\n",
    "    for action in state_actions:\n",
    "        v = func_value(result(state, action))\n",
    "        values.append(v)\n",
    "        idx = func_arg(values)\n",
    "    return state_actions[idx]"
   ]
  },
  {
   "cell_type": "code",
   "execution_count": null,
   "id": "093d7bdf",
   "metadata": {},
   "outputs": [
    {
     "ename": "IndentationError",
     "evalue": "expected an indented block (Temp/ipykernel_10032/1449895688.py, line 9)",
     "output_type": "error",
     "traceback": [
      "\u001b[1;36m  File \u001b[1;32m\"C:\\Users\\DELL\\AppData\\Local\\Temp/ipykernel_10032/1449895688.py\"\u001b[1;36m, line \u001b[1;32m9\u001b[0m\n\u001b[1;33m    return 64 - utility_max\u001b[0m\n\u001b[1;37m    ^\u001b[0m\n\u001b[1;31mIndentationError\u001b[0m\u001b[1;31m:\u001b[0m expected an indented block\n"
     ]
    }
   ],
   "source": [
    "def terminal_test(state):\n",
    "    if len(actions(state)) == 0:\n",
    "        return True\n",
    "    return False\n",
    "\n",
    "def utility(state):\n",
    "    utility_max = len(np.where(state == -1))\n",
    "    if state.current_player == \"MAX\":\n",
    "        return utility_max\n",
    "    return 64 - utility_max\n",
    "\n",
    "def min_value(state):\n",
    "    if terminal_test(state):\n",
    "        return utility(state)\n",
    "    v = math.inf\n",
    "    state_actions = actions(state)\n",
    "    for a in state_actions:\n",
    "        v = min(v, max_value(result(state, a)))\n",
    "    return v\n",
    "\n",
    "def max_value(state):\n",
    "    if terminal_test(state):\n",
    "        return utility(state)\n",
    "    v = -math.inf\n",
    "    state_actions = actions(state)\n",
    "    for a in state_actions:\n",
    "        v = max(v, min_value(result(state, a)))\n",
    "    return v"
   ]
  }
 ],
 "metadata": {
  "kernelspec": {
   "display_name": "Python 3 (ipykernel)",
   "language": "python",
   "name": "python3"
  },
  "language_info": {
   "codemirror_mode": {
    "name": "ipython",
    "version": 3
   },
   "file_extension": ".py",
   "mimetype": "text/x-python",
   "name": "python",
   "nbconvert_exporter": "python",
   "pygments_lexer": "ipython3",
   "version": "3.8.3"
  }
 },
 "nbformat": 4,
 "nbformat_minor": 5
}
