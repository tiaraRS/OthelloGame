{
 "cells": [
  {
   "cell_type": "code",
   "execution_count": 1,
   "id": "13ee8f69",
   "metadata": {},
   "outputs": [],
   "source": [
    "import numpy as np\n",
    "import math\n",
    "import matplotlib.pyplot as plt\n"
   ]
  },
  {
   "cell_type": "code",
   "execution_count": 2,
   "id": "21d80c07",
   "metadata": {},
   "outputs": [],
   "source": [
    "#MAX = BLACK\n",
    "import numpy as np\n",
    "import math\n",
    "class State:\n",
    "    def __init__(self):\n",
    "        self.game_board = self.intial_game_board()\n",
    "        self.current_player = \"MAX\"\n",
    "        \n",
    "    def intial_game_board(self):\n",
    "        initial_state = np.zeros(shape=(8,8), dtype=np.int32)        \n",
    "        initial_state[3,3] = 1\n",
    "        initial_state[4,3] = -1\n",
    "        initial_state[3,4] = -1\n",
    "        initial_state[4,4] = 1\n",
    "        return initial_state"
   ]
  },
  {
   "cell_type": "code",
   "execution_count": 3,
   "id": "46eaffa9",
   "metadata": {},
   "outputs": [],
   "source": [
    "import copy\n",
    "columns = {\"A\":0,\"B\":1,\"C\":2,\"D\":3,\"E\":4,\"F\":5,\"G\":6,\"H\":7}\n",
    "upper_limit = 7\n",
    "lower_limit = 0\n",
    "def out_of_boundaries(pos):\n",
    "    return pos<0 or pos>7\n",
    "\n",
    "def not_out_of_limits(row, column):\n",
    "    return not out_of_boundaries(row) and not out_of_boundaries(column)\n",
    "\n",
    "def vertical_up_direction_update_function(row, column):\n",
    "    return row+1, column\n",
    "\n",
    "def vertical_down_direction_update_function(row, column):\n",
    "    return row-1, column\n",
    "\n",
    "def horizontal_left_direction_update_function(row, column):\n",
    "    return row, column-1\n",
    "\n",
    "def horizontal_right_direction_update_function(row, column):\n",
    "    return row, column+1\n",
    "\n",
    "def diagonal_ul_direction_update_function(row, column):\n",
    "    return row+1, column-1\n",
    "\n",
    "def diagonal_ur_direction_update_function(row, column):\n",
    "    return row+1, column+1\n",
    "\n",
    "def diagonal_dl_direction_update_function(row, column):\n",
    "    return row-1, column-1\n",
    "\n",
    "def diagonal_dr_direction_update_function(row, column):\n",
    "    return row-1, column+1\n",
    "\n",
    "def flank(state, value, row, column, direction_update_function):\n",
    "    result_state = copy.deepcopy(state)\n",
    "    opposite_value = value*-1\n",
    "    successful_flanking = False\n",
    "    current_row, current_column = direction_update_function(row, column)\n",
    "    if not_out_of_limits(current_row, current_column) and result_state.game_board[current_row, current_column] == opposite_value:\n",
    "        while(not_out_of_limits(current_row, current_column) and result_state.game_board[current_row, current_column] == opposite_value):\n",
    "            result_state.game_board[current_row, current_column] = value\n",
    "            current_row, current_column = direction_update_function(current_row, current_column)\n",
    "        if not_out_of_limits(current_row, current_column) and result_state.game_board[current_row, current_column] == value: #flanqueo exitoso\n",
    "            successful_flanking = True\n",
    "        if successful_flanking:\n",
    "            result_state.game_board[row, column] = value\n",
    "            return result_state\n",
    "    return state"
   ]
  },
  {
   "cell_type": "code",
   "execution_count": 4,
   "id": "30412dac",
   "metadata": {},
   "outputs": [
    {
     "name": "stdout",
     "output_type": "stream",
     "text": [
      "[[ 0  0  0  0  0  0  0  0]\n",
      " [ 0  0  0  0  0  0  0  0]\n",
      " [ 0  0  0  0  0  1  0  0]\n",
      " [ 0  0  1  1 -1  0  0  0]\n",
      " [ 0  0  0 -1  1  1  0  0]\n",
      " [ 0  0  1  0  0  0  0  0]\n",
      " [ 0  0  0  0  0  0  0  0]\n",
      " [ 0  0  0  0  0  0  0  0]]\n",
      "--------------\n",
      "[[ 0  0  0  0  0  0  0  1]\n",
      " [ 0  0  0  0  0  0  1  0]\n",
      " [ 0  0  0  0  0  1  0  0]\n",
      " [ 0  0  1  1 -1  0  0  0]\n",
      " [ 0  0  0 -1  1  1  0  0]\n",
      " [ 0  0  1  0  0  0  0  0]\n",
      " [ 0  0  0  0  0  0  0  0]\n",
      " [ 0  0  0  0  0  0  0  0]]\n"
     ]
    }
   ],
   "source": [
    "a = State()\n",
    "#print(flank(a,-1,5,4,vertical_down_direction_update_function).game_board)\n",
    "#print(flank(a,-1,2,3,vertical_up_direction_update_function).game_board)\n",
    "#print(flank(a,-1,3,2,horizontal_right_direction_update_function).game_board)\n",
    "#print(flank(a,-1,4,5,horizontal_left_direction_update_function).game_board)\n",
    "a.game_board[5,2]=1\n",
    "a.game_board[3,2]=1\n",
    "a.game_board[2,5]=1\n",
    "a.game_board[4,5]=1\n",
    "print(a.game_board)\n",
    "#print(flank(a,-1,1,6,diagonal_ul_direction_update_function).game_board)\n",
    "#print(flank(a,-1,2,1,diagonal_ur_direction_update_function).game_board)\n",
    "#print(flank(a,-1,5,6,diagonal_dl_direction_update_function).game_board)\n",
    "#print(flank(a,-1,6,1,diagonal_dr_direction_update_function).game_board)\n",
    "\n",
    "#probando limites\n",
    "print(\"--------------\")\n",
    "a.game_board[0,7]=1\n",
    "a.game_board[1,6]=-1\n",
    "a.game_board[2,5]=0\n",
    "print(flank(a,1,2,5,diagonal_dr_direction_update_function).game_board)"
   ]
  },
  {
   "cell_type": "code",
   "execution_count": 7,
   "id": "4e27d7bb",
   "metadata": {},
   "outputs": [],
   "source": [
    "def get_player_value(state):\n",
    "    value = 1\n",
    "    if state.current_player == \"MAX\":\n",
    "        value = -1\n",
    "    return value"
   ]
  },
  {
   "cell_type": "code",
   "execution_count": 8,
   "id": "bd2ff218",
   "metadata": {},
   "outputs": [],
   "source": [
    "def change_player(state):\n",
    "     if state.current_player == \"MAX\":\n",
    "        return \"MIN\"\n",
    "     else:\n",
    "        return \"MAX\""
   ]
  },
  {
   "cell_type": "code",
   "execution_count": 9,
   "id": "4005869e",
   "metadata": {},
   "outputs": [],
   "source": [
    "def result(state, action):\n",
    "    result_state = copy.deepcopy(state)\n",
    "    column = columns[action[0]]\n",
    "    row = int(action[1])-1\n",
    "#     print(\"res\", row, column)\n",
    "    value = get_player_value(state)    \n",
    "    \n",
    "#     result_state.game_board[current_row, current_column] = value\n",
    "    opposite_value = value*-1\n",
    "    \n",
    "    result_state = flank(result_state,value,row,column,vertical_down_direction_update_function)\n",
    "    result_state = flank(result_state,value,row,column,vertical_up_direction_update_function)\n",
    "    result_state = flank(result_state,value,row,column,horizontal_right_direction_update_function)\n",
    "    result_state = flank(result_state,value,row,column,horizontal_left_direction_update_function)\n",
    "    result_state = flank(result_state,value,row,column,diagonal_ul_direction_update_function)\n",
    "    result_state = flank(result_state,value,row,column,diagonal_ur_direction_update_function)\n",
    "    result_state = flank(result_state,value,row,column,diagonal_dl_direction_update_function)\n",
    "    result_state = flank(result_state,value,row,column,diagonal_dr_direction_update_function)\n",
    "#     result_state = move_vertical(result_state, value, current_row, current_column)\n",
    "#     result_state = move_horizontal(result_state, value, current_row, current_column)\n",
    "#     result_state = move_diagonal(result_state, value, current_row, current_column)   \n",
    "    return result_state"
   ]
  },
  {
   "cell_type": "code",
   "execution_count": 10,
   "id": "a60880fd",
   "metadata": {},
   "outputs": [],
   "source": [
    "def get_possible_move(state, value, row, column, direction_update_function):\n",
    "    result_state = copy.deepcopy(state)\n",
    "    opposite_value = value*-1\n",
    "    successful_flanking = False\n",
    "    current_row, current_column = direction_update_function(row, column)\n",
    "#     print(current_row, current_column)\n",
    "    if not_out_of_limits(current_row, current_column) and result_state.game_board[current_row, current_column] == opposite_value:\n",
    "        while(not_out_of_limits(current_row, current_column) and result_state.game_board[current_row, current_column] == opposite_value):\n",
    "#             print(current_row, current_column)\n",
    "            result_state.game_board[current_row, current_column] = value\n",
    "            current_row, current_column = direction_update_function(current_row, current_column)\n",
    "        if not_out_of_limits(current_row, current_column) and result_state.game_board[current_row, current_column] == 0: #flanqueo exitoso\n",
    "            successful_flanking = True\n",
    "#         if successful_flanking:\n",
    "#             result_state.game_board[row, column] = value\n",
    "#             return result_state\n",
    "    return successful_flanking, current_row, current_column"
   ]
  },
  {
   "cell_type": "code",
   "execution_count": 11,
   "id": "ea4494e6",
   "metadata": {},
   "outputs": [],
   "source": [
    "moves = [vertical_down_direction_update_function,vertical_up_direction_update_function,horizontal_right_direction_update_function,horizontal_left_direction_update_function,diagonal_ul_direction_update_function,diagonal_ur_direction_update_function,diagonal_dl_direction_update_function,diagonal_dr_direction_update_function]\n",
    "def get_possible_actions(state, row, column, value, possible_actions_matrix):\n",
    "    possible_actions = copy.deepcopy(possible_actions_matrix)  \n",
    "    for move in moves:\n",
    "#         print(move)\n",
    "        success, possible_move_row, possible_move_column = get_possible_move(state,value,row,column,move)\n",
    "#         print(state.game_board)\n",
    "        if success:\n",
    "            possible_actions[possible_move_row, possible_move_column] = 1\n",
    "#             possible_actions.append([possible_move_row, possible_move_column])\n",
    "    return possible_actions"
   ]
  },
  {
   "cell_type": "code",
   "execution_count": 12,
   "id": "7340dd96",
   "metadata": {},
   "outputs": [
    {
     "data": {
      "text/plain": [
       "array([[0, 0, 0, 0, 0, 0, 0, 0],\n",
       "       [0, 0, 0, 0, 0, 0, 0, 0],\n",
       "       [0, 0, 0, 1, 0, 0, 0, 0],\n",
       "       [0, 0, 1, 0, 0, 0, 0, 0],\n",
       "       [0, 0, 0, 0, 0, 1, 0, 0],\n",
       "       [0, 0, 0, 0, 1, 0, 0, 0],\n",
       "       [0, 0, 0, 0, 0, 0, 0, 0],\n",
       "       [0, 0, 0, 0, 0, 0, 0, 0]])"
      ]
     },
     "execution_count": 12,
     "metadata": {},
     "output_type": "execute_result"
    }
   ],
   "source": [
    "m = get_possible_actions(State(), 3,4, -1,np.zeros(shape=(8,8), dtype=np.int32)   )\n",
    "get_possible_actions(State(), 4,3, -1,m )\n",
    "#print(\"--------\")\n",
    "#m = get_possible_actions(State(), 4,3, 1,np.zeros(shape=(8,8), dtype=np.int32)   )\n",
    "#get_possible_actions(State(), 3,4, 1,m )"
   ]
  },
  {
   "cell_type": "code",
   "execution_count": 13,
   "id": "266ce716",
   "metadata": {},
   "outputs": [],
   "source": [
    "map_values = {0:\"A\",1:\"B\",2:\"C\",3:\"D\",4:\"E\",5:\"F\",6:\"G\",7:\"H\"}\n",
    "def actions(state):\n",
    "    possible_actions_matrix= np.zeros(shape=(8,8), dtype=np.int32)     \n",
    "    value = get_player_value(state)\n",
    "    pos_values_player = np.where(state.game_board == value)  \n",
    "    pos_values_player = list(zip(pos_values_player[0],pos_values_player[1]))\n",
    "    possible_actions = []\n",
    "    for pos in pos_values_player: \n",
    "        possible_actions_matrix = get_possible_actions(state, pos[0], pos[1], value, possible_actions_matrix)       \n",
    "    pos_possible_actions_player = np.where(possible_actions_matrix == 1)\n",
    "    pos_possible_actions_player = list(zip(pos_possible_actions_player[0],pos_possible_actions_player[1]))\n",
    "    pos_possible_actions_player = list(map(lambda action: str(map_values[action[1]])+str(action[0]+1), pos_possible_actions_player))\n",
    "    return pos_possible_actions_player, possible_actions_matrix"
   ]
  },
  {
   "cell_type": "code",
   "execution_count": 15,
   "id": "9e22fac2",
   "metadata": {},
   "outputs": [
    {
     "name": "stdout",
     "output_type": "stream",
     "text": [
      "MAX\n",
      "MAX\n",
      "['D3', 'C4', 'F5', 'E6']\n",
      "[[0 0 0 0 0 0 0 0]\n",
      " [0 0 0 0 0 0 0 0]\n",
      " [0 0 0 1 0 0 0 0]\n",
      " [0 0 1 0 0 0 0 0]\n",
      " [0 0 0 0 0 1 0 0]\n",
      " [0 0 0 0 1 0 0 0]\n",
      " [0 0 0 0 0 0 0 0]\n",
      " [0 0 0 0 0 0 0 0]]\n"
     ]
    },
    {
     "data": {
      "text/plain": [
       "4"
      ]
     },
     "execution_count": 15,
     "metadata": {},
     "output_type": "execute_result"
    }
   ],
   "source": [
    "print(State().current_player)\n",
    "State().current_player = \"MIN\"\n",
    "print(State().current_player)\n",
    "pos, mti=actions(State())\n",
    "print(pos)\n",
    "print(mti)\n",
    "len(pos)"
   ]
  },
  {
   "cell_type": "code",
   "execution_count": 55,
   "id": "58ff0465",
   "metadata": {},
   "outputs": [],
   "source": [
    "max_depth = 3\n",
    "def cut_off(state, depth):\n",
    "    return depth==max_depth"
   ]
  },
  {
   "cell_type": "code",
   "execution_count": 21,
   "id": "caaa18b3",
   "metadata": {},
   "outputs": [],
   "source": [
    "def min_max_cutoff(state):\n",
    "#     print(state.game_board)\n",
    "    values = []\n",
    "    p, func_value, func_arg = player(state)\n",
    "#     print(\"player: \",p)\n",
    "#     state.current_player = p\n",
    "    state_actions, possible_actions_matrix = actions(state)\n",
    "#     acts = []\n",
    "    print(\"state_actions\",state_actions)\n",
    "    for action in state_actions:       \n",
    "#         for pos in action:\n",
    "#         print(\"*****************************\")\n",
    "#         print(\"action min max\",action)\n",
    "#             state = \n",
    "        v = func_value(result(copy.deepcopy(state), action), -math.inf, math.inf,0)\n",
    "        values.append(v)\n",
    "#         acts.append(action)\n",
    "#         print(\"vvv=\",v)\n",
    "#         state_actions = actions(state)\n",
    "    #np.func_arg(values)\n",
    "    idx = func_arg(values)\n",
    "    print(\"act\",state_actions)\n",
    "    print(values)\n",
    "    print(\"idx\", idx)\n",
    "    return state_actions[idx]\n",
    "\n",
    "# def terminal_test(state):\n",
    "#     if len(actions(state)) == 0:\n",
    "#         return True\n",
    "#     return False\n",
    "\n",
    "def heuristic(state):\n",
    "    heuristic = 0\n",
    "#     print(np.where(state.game_board == -1))\n",
    "    if state.current_player == \"MAX\":\n",
    "#         print(np.where(state.game_board == -1))\n",
    "        heuristic = len(np.where(state.game_board == -1)[0])\n",
    "    else:        \n",
    "        heuristic = len(np.where(state.game_board == 1)[0])*-1\n",
    "#     print(\"heuristic:\", heuristic)\n",
    "    return heuristic\n",
    "def heuristic_mobility(state):\n",
    "    heuristic = 0\n",
    "    result_state = copy.deepcopy(state)\n",
    "    print( result_state.current_player) \n",
    "    max_moves,matrix_max=actions( result_state)\n",
    "    possible_moves_max = len(max_moves)\n",
    "    print(possible_moves_max) \n",
    "    result_state.current_player = \"MIN\"\n",
    "    print( result_state.current_player)        \n",
    "    min_moves,matrix_min=actions(result_state)\n",
    "    possible_moves_min = len(min_moves)\n",
    "    print(possible_moves_min) \n",
    "    if possible_moves_max + possible_moves_min != 0:\n",
    "        heuristic=100*(possible_moves_max-possible_moves_min)/(possible_moves_max+possible_moves_min)\n",
    "    else: \n",
    "        heuristic=0\n",
    "    return heuristic\n",
    "    \n",
    "def player(state):\n",
    "    if state.current_player == \"MAX\":\n",
    "        return (\"MAX\", min_value,np.argmax)\n",
    "    else:\n",
    "        return (\"MIN\", max_value, np.argmin)   "
   ]
  },
  {
   "cell_type": "code",
   "execution_count": 22,
   "id": "32116673",
   "metadata": {},
   "outputs": [
    {
     "name": "stdout",
     "output_type": "stream",
     "text": [
      "[[ 0  0  0  0  0  0  0  0]\n",
      " [ 0 -1 -1 -1  0  1  0  0]\n",
      " [ 0  0  0  0  0  0  0  0]\n",
      " [ 0  0  0  1 -1  0  0  0]\n",
      " [ 0  0  0 -1  1  0  0  0]\n",
      " [ 0  0  0  0  0  0  0  0]\n",
      " [ 0  0  0  0  0  0  0  0]\n",
      " [ 0  0  0  0  0  0  0  0]]\n"
     ]
    },
    {
     "data": {
      "text/plain": [
       "5"
      ]
     },
     "execution_count": 22,
     "metadata": {},
     "output_type": "execute_result"
    }
   ],
   "source": [
    "a = State()\n",
    "a.game_board[1,1]=-1\n",
    "a.game_board[1,2]=-1\n",
    "a.game_board[1,3]=-1\n",
    "a.game_board[1,5]=1\n",
    "#a.game_board[1,6]=-1\n",
    "# a.game_board[1,5]=1\n",
    "print(a.game_board)\n",
    "heuristic(a)"
   ]
  },
  {
   "cell_type": "code",
   "execution_count": 25,
   "metadata": {},
   "outputs": [
    {
     "name": "stdout",
     "output_type": "stream",
     "text": [
      "[[ 0  0  0  0  0  0  0  0]\n",
      " [ 0 -1 -1 -1  0  0  0  0]\n",
      " [ 0  0  0  0  0  0  0  0]\n",
      " [ 0  0  0  1 -1  0  0  0]\n",
      " [ 0  0  0 -1  1  0  0  0]\n",
      " [ 0  0  1  1  0  0  0  0]\n",
      " [ 0  0  0  0  0  0  0  0]\n",
      " [ 0  0  0  0  0  0  0  0]]\n",
      "MAX\n",
      "6\n",
      "MIN\n",
      "4\n"
     ]
    },
    {
     "data": {
      "text/plain": [
       "20.0"
      ]
     },
     "execution_count": 25,
     "metadata": {},
     "output_type": "execute_result"
    }
   ],
   "source": [
    "a = State()\n",
    "a.game_board[1,1]=-1\n",
    "a.game_board[1,2]=-1\n",
    "a.game_board[1,3]=-1\n",
    "a.game_board[5,2]=1\n",
    "a.game_board[5,3]=1\n",
    "# a.game_board[1,5]=1\n",
    "print(a.game_board)\n",
    "heuristic_mobility(a)"
   ]
  },
  {
   "cell_type": "code",
   "execution_count": 16,
   "id": "2a38707e",
   "metadata": {},
   "outputs": [],
   "source": [
    "def min_value(state, alpha, beta, depth):\n",
    "    state.current_player = \"MIN\"\n",
    "#     print(\"--------------min_value: depht = \", depth)\n",
    "    if cut_off(state, depth):\n",
    "        return heuristic(state)\n",
    "    v = math.inf\n",
    "#     print(state.game_board)\n",
    "    state_actions, possible_actions_matrix = actions(state)\n",
    "#     print(\"state_actions\",state_actions)\n",
    "    for action in state_actions:\n",
    "#         for pos in a:\n",
    "#         print(\"action\", action)\n",
    "        v = min(v, max_value(result(copy.deepcopy(state), action), alpha, beta, depth+1))\n",
    "        if v<=alpha:#prunning\n",
    "            return v\n",
    "        beta = min(beta, v)\n",
    "#     print(\"v = \",v)\n",
    "    return v\n",
    "\n",
    "def max_value(state, alpha, beta, depth):\n",
    "    state.current_player = \"MAX\"\n",
    "#     print(\"-----------max_value:depth = \", depth)\n",
    "    if cut_off(state, depth):\n",
    "        return heuristic(state)\n",
    "    v = -math.inf\n",
    "#     print(state.game_board)\n",
    "    state_actions = state_actions, possible_actions_matrix = actions(state)\n",
    "#     print(\"state_actions\",state_actions)\n",
    "    for action in state_actions:\n",
    "#         for pos in a:\n",
    "#         print(\"action\", action)\n",
    "        v = max(v, min_value(result(copy.deepcopy(state), action), alpha, beta, depth+1))\n",
    "        if v>= beta:\n",
    "            return v\n",
    "        alpha = max(alpha, v)\n",
    "#     print(\"v = \",v)\n",
    "    return v"
   ]
  },
  {
   "cell_type": "code",
   "execution_count": 17,
   "id": "c130d661",
   "metadata": {},
   "outputs": [
    {
     "name": "stdout",
     "output_type": "stream",
     "text": [
      "[[ 0  0  0  0  0  0  0  0]\n",
      " [ 0  1  0  0  0  0  0  0]\n",
      " [ 0  0  1  0  0  0  0  0]\n",
      " [ 0  0  1 -1 -1  0  0  0]\n",
      " [ 0  0  0 -1  1 -1  0  0]\n",
      " [ 0  0  0  0  0  0  0  0]\n",
      " [ 0  0  0  0  0  0  0  0]\n",
      " [ 0  0  0  0  0  0  0  0]]\n",
      "act ['A1', 'B3', 'B4', 'E6', 'F6']\n",
      "[-4, -5, -4, -5, -4]\n",
      "idx 0\n"
     ]
    },
    {
     "data": {
      "text/plain": [
       "'A1'"
      ]
     },
     "execution_count": 17,
     "metadata": {},
     "output_type": "execute_result"
    }
   ],
   "source": [
    "a = State()\n",
    "a.game_board[1,1]=1\n",
    "a.game_board[4,5]=-1\n",
    "a.game_board[2,2]=1\n",
    "a.game_board[3,3]=-1\n",
    "a.game_board[3,2]=1\n",
    "print(a.game_board)\n",
    "# a.game_board =  [[ 0,  0,  0,  0,  0,  0,  0,  0],\n",
    "#                  [ 0,  0,  0,  0,  0,  0,  0,  0],\n",
    "#                  [ 0,  0,  0,  0,  0,  1,  0,  0],\n",
    "#                  [ 0,  0,  1,  1, -1,  0,  0,  0],\n",
    "#                  [ 0,  0,  0, -1,  1,  1,  0,  0],\n",
    "#                  [ 0,  0,  1,  0,  0,  0,  0,  0],\n",
    "#                  [ 0,  0,  0,  0,  0,  0,  0,  0],\n",
    "#                  [ 0,  0,  0,  0,  0,  0,  0,  0]]\n",
    "min_max_cutoff(a)"
   ]
  },
  {
   "cell_type": "code",
   "execution_count": 18,
   "id": "0e397935",
   "metadata": {},
   "outputs": [
    {
     "name": "stdout",
     "output_type": "stream",
     "text": [
      "[[-1  0  0  0  0  0  0  0]\n",
      " [ 0  0 -1  0  0  0  0  0]\n",
      " [ 0  0  0  0  0  0  0  0]\n",
      " [ 0  0 -1  1 -1  0  0  0]\n",
      " [ 0  0  0 -1  1  0 -1  0]\n",
      " [ 0  0  0  0  0  0  0  0]\n",
      " [ 0  0  0  0  0  0  0  0]\n",
      " [ 0  0  0  0  0  0  0 -1]]\n"
     ]
    },
    {
     "data": {
      "text/plain": [
       "(['E3', 'B4', 'F4', 'C5', 'D6'],\n",
       " array([[0, 0, 0, 0, 0, 0, 0, 0],\n",
       "        [0, 0, 0, 0, 0, 0, 0, 0],\n",
       "        [0, 0, 0, 0, 1, 0, 0, 0],\n",
       "        [0, 1, 0, 0, 0, 1, 0, 0],\n",
       "        [0, 0, 1, 0, 0, 0, 0, 0],\n",
       "        [0, 0, 0, 1, 0, 0, 0, 0],\n",
       "        [0, 0, 0, 0, 0, 0, 0, 0],\n",
       "        [0, 0, 0, 0, 0, 0, 0, 0]]))"
      ]
     },
     "execution_count": 18,
     "metadata": {},
     "output_type": "execute_result"
    }
   ],
   "source": [
    "a=State()\n",
    "a.current_player = \"MIN\"\n",
    "a.game_board[3,2]=-1\n",
    "a.game_board[0,0]=-1\n",
    "a.game_board[7,7]=-1\n",
    "a.game_board[1,2]=-1\n",
    "a.game_board[4,6]=-1\n",
    "print(a.game_board)\n",
    "actions(a)"
   ]
  },
  {
   "cell_type": "code",
   "execution_count": 22,
   "id": "851d8ab2",
   "metadata": {},
   "outputs": [
    {
     "name": "stdout",
     "output_type": "stream",
     "text": [
      "---------------------------------------------\n",
      "PLAYER:  MAX\n",
      "player_value =  -1\n",
      "POSSIBLE MOVES:  ['D3', 'C4', 'F5', 'E6']\n",
      "[[ 0  0  0  0  0  0  0  0]\n",
      " [ 0  0  0  0  0  0  0  0]\n",
      " [ 0  0  0  0  0  0  0  0]\n",
      " [ 0  0  0  1 -1  0  0  0]\n",
      " [ 0  0  0 -1  1  0  0  0]\n",
      " [ 0  0  0  0  0  0  0  0]\n",
      " [ 0  0  0  0  0  0  0  0]\n",
      " [ 0  0  0  0  0  0  0  0]]\n",
      "act ['D3', 'C4', 'F5', 'E6']\n",
      "[-3, -3, -3, -3]\n",
      "idx 0\n",
      "---------------------------------------------\n",
      "PLAYER:  MIN\n",
      "player_value =  1\n",
      "POSSIBLE MOVES:  ['C3', 'E3', 'C5']\n",
      "[[ 0  0  0  0  0  0  0  0]\n",
      " [ 0  0  0  0  0  0  0  0]\n",
      " [ 0  0  0 -1  0  0  0  0]\n",
      " [ 0  0  0 -1 -1  0  0  0]\n",
      " [ 0  0  0 -1  1  0  0  0]\n",
      " [ 0  0  0  0  0  0  0  0]\n",
      " [ 0  0  0  0  0  0  0  0]\n",
      " [ 0  0  0  0  0  0  0  0]]\n",
      "---------------------------------------------\n",
      "PLAYER:  MAX\n",
      "player_value =  -1\n",
      "POSSIBLE MOVES:  ['B3', 'C4', 'F5', 'E6']\n",
      "[[ 0  0  0  0  0  0  0  0]\n",
      " [ 0  0  0  0  0  0  0  0]\n",
      " [ 0  0  1 -1  0  0  0  0]\n",
      " [ 0  0  0  1 -1  0  0  0]\n",
      " [ 0  0  0 -1  1  0  0  0]\n",
      " [ 0  0  0  0  0  0  0  0]\n",
      " [ 0  0  0  0  0  0  0  0]\n",
      " [ 0  0  0  0  0  0  0  0]]\n",
      "act ['B3', 'C4', 'F5', 'E6']\n",
      "[-3, -5, -3, -3]\n",
      "idx 0\n",
      "---------------------------------------------\n",
      "PLAYER:  MIN\n",
      "player_value =  1\n",
      "POSSIBLE MOVES:  ['B2', 'D2', 'E3', 'F4', 'C5', 'D6']\n",
      "[[ 0  0  0  0  0  0  0  0]\n",
      " [ 0  0  0  0  0  0  0  0]\n",
      " [ 0 -1 -1 -1  0  0  0  0]\n",
      " [ 0  0  0  1 -1  0  0  0]\n",
      " [ 0  0  0 -1  1  0  0  0]\n",
      " [ 0  0  0  0  0  0  0  0]\n",
      " [ 0  0  0  0  0  0  0  0]\n",
      " [ 0  0  0  0  0  0  0  0]]\n"
     ]
    },
    {
     "ename": "KeyboardInterrupt",
     "evalue": "Interrupted by user",
     "output_type": "error",
     "traceback": [
      "\u001b[1;31m---------------------------------------------------------------------------\u001b[0m",
      "\u001b[1;31mKeyboardInterrupt\u001b[0m                         Traceback (most recent call last)",
      "\u001b[1;32m<ipython-input-22-a1843713f253>\u001b[0m in \u001b[0;36m<module>\u001b[1;34m\u001b[0m\n\u001b[0;32m     14\u001b[0m         \u001b[0mgame_state\u001b[0m \u001b[1;33m=\u001b[0m \u001b[0mresult\u001b[0m\u001b[1;33m(\u001b[0m\u001b[0mgame_state\u001b[0m\u001b[1;33m,\u001b[0m \u001b[0mbest_action\u001b[0m\u001b[1;33m.\u001b[0m\u001b[0mupper\u001b[0m\u001b[1;33m(\u001b[0m\u001b[1;33m)\u001b[0m\u001b[1;33m)\u001b[0m\u001b[1;33m\u001b[0m\u001b[1;33m\u001b[0m\u001b[0m\n\u001b[0;32m     15\u001b[0m     \u001b[1;32melse\u001b[0m\u001b[1;33m:\u001b[0m\u001b[1;33m\u001b[0m\u001b[1;33m\u001b[0m\u001b[0m\n\u001b[1;32m---> 16\u001b[1;33m         \u001b[0maction\u001b[0m \u001b[1;33m=\u001b[0m \u001b[0minput\u001b[0m\u001b[1;33m(\u001b[0m\u001b[1;33m)\u001b[0m\u001b[1;33m\u001b[0m\u001b[1;33m\u001b[0m\u001b[0m\n\u001b[0m\u001b[0;32m     17\u001b[0m         \u001b[0mgame_state\u001b[0m \u001b[1;33m=\u001b[0m \u001b[0mresult\u001b[0m\u001b[1;33m(\u001b[0m\u001b[0mgame_state\u001b[0m\u001b[1;33m,\u001b[0m \u001b[0maction\u001b[0m\u001b[1;33m.\u001b[0m\u001b[0mupper\u001b[0m\u001b[1;33m(\u001b[0m\u001b[1;33m)\u001b[0m\u001b[1;33m)\u001b[0m\u001b[1;33m\u001b[0m\u001b[1;33m\u001b[0m\u001b[0m\n\u001b[0;32m     18\u001b[0m     \u001b[0mgame_state\u001b[0m\u001b[1;33m.\u001b[0m\u001b[0mcurrent_player\u001b[0m \u001b[1;33m=\u001b[0m \u001b[0mchange_player\u001b[0m\u001b[1;33m(\u001b[0m\u001b[0mgame_state\u001b[0m\u001b[1;33m)\u001b[0m\u001b[1;33m\u001b[0m\u001b[1;33m\u001b[0m\u001b[0m\n",
      "\u001b[1;32mE:\\Anaconda\\lib\\site-packages\\ipykernel\\kernelbase.py\u001b[0m in \u001b[0;36mraw_input\u001b[1;34m(self, prompt)\u001b[0m\n\u001b[0;32m    858\u001b[0m                 \u001b[1;34m\"raw_input was called, but this frontend does not support input requests.\"\u001b[0m\u001b[1;33m\u001b[0m\u001b[1;33m\u001b[0m\u001b[0m\n\u001b[0;32m    859\u001b[0m             )\n\u001b[1;32m--> 860\u001b[1;33m         return self._input_request(str(prompt),\n\u001b[0m\u001b[0;32m    861\u001b[0m             \u001b[0mself\u001b[0m\u001b[1;33m.\u001b[0m\u001b[0m_parent_ident\u001b[0m\u001b[1;33m,\u001b[0m\u001b[1;33m\u001b[0m\u001b[1;33m\u001b[0m\u001b[0m\n\u001b[0;32m    862\u001b[0m             \u001b[0mself\u001b[0m\u001b[1;33m.\u001b[0m\u001b[0m_parent_header\u001b[0m\u001b[1;33m,\u001b[0m\u001b[1;33m\u001b[0m\u001b[1;33m\u001b[0m\u001b[0m\n",
      "\u001b[1;32mE:\\Anaconda\\lib\\site-packages\\ipykernel\\kernelbase.py\u001b[0m in \u001b[0;36m_input_request\u001b[1;34m(self, prompt, ident, parent, password)\u001b[0m\n\u001b[0;32m    902\u001b[0m             \u001b[1;32mexcept\u001b[0m \u001b[0mKeyboardInterrupt\u001b[0m\u001b[1;33m:\u001b[0m\u001b[1;33m\u001b[0m\u001b[1;33m\u001b[0m\u001b[0m\n\u001b[0;32m    903\u001b[0m                 \u001b[1;31m# re-raise KeyboardInterrupt, to truncate traceback\u001b[0m\u001b[1;33m\u001b[0m\u001b[1;33m\u001b[0m\u001b[1;33m\u001b[0m\u001b[0m\n\u001b[1;32m--> 904\u001b[1;33m                 \u001b[1;32mraise\u001b[0m \u001b[0mKeyboardInterrupt\u001b[0m\u001b[1;33m(\u001b[0m\u001b[1;34m\"Interrupted by user\"\u001b[0m\u001b[1;33m)\u001b[0m \u001b[1;32mfrom\u001b[0m \u001b[1;32mNone\u001b[0m\u001b[1;33m\u001b[0m\u001b[1;33m\u001b[0m\u001b[0m\n\u001b[0m\u001b[0;32m    905\u001b[0m             \u001b[1;32mexcept\u001b[0m \u001b[0mException\u001b[0m \u001b[1;32mas\u001b[0m \u001b[0me\u001b[0m\u001b[1;33m:\u001b[0m\u001b[1;33m\u001b[0m\u001b[1;33m\u001b[0m\u001b[0m\n\u001b[0;32m    906\u001b[0m                 \u001b[0mself\u001b[0m\u001b[1;33m.\u001b[0m\u001b[0mlog\u001b[0m\u001b[1;33m.\u001b[0m\u001b[0mwarning\u001b[0m\u001b[1;33m(\u001b[0m\u001b[1;34m\"Invalid Message:\"\u001b[0m\u001b[1;33m,\u001b[0m \u001b[0mexc_info\u001b[0m\u001b[1;33m=\u001b[0m\u001b[1;32mTrue\u001b[0m\u001b[1;33m)\u001b[0m\u001b[1;33m\u001b[0m\u001b[1;33m\u001b[0m\u001b[0m\n",
      "\u001b[1;31mKeyboardInterrupt\u001b[0m: Interrupted by user"
     ]
    }
   ],
   "source": [
    "game_state = State()\n",
    "possible_moves = actions(game_state)\n",
    "# print(possible_moves)\n",
    "# while len(possible_moves) > 0:\n",
    "while len(possible_moves) > 0:\n",
    "    print(\"---------------------------------------------\")\n",
    "    print(\"PLAYER: \",game_state.current_player)\n",
    "    print(\"player_value = \", get_player_value(game_state))\n",
    "    possible_moves, mat = actions(game_state)\n",
    "    print(\"POSSIBLE MOVES: \",possible_moves)\n",
    "    print(game_state.game_board)\n",
    "    if game_state.current_player == \"MAX\":\n",
    "        best_action = min_max_cutoff(game_state)\n",
    "        game_state = result(game_state, best_action.upper())\n",
    "    else:\n",
    "        action = input()   \n",
    "        game_state = result(game_state, action.upper())\n",
    "    game_state.current_player = change_player(game_state)"
   ]
  },
  {
   "cell_type": "code",
   "execution_count": 20,
   "id": "faf0e72e",
   "metadata": {},
   "outputs": [],
   "source": [
    "# game_state = State()\n",
    "# # possible_moves = actions(game_state)\n",
    "# # print(possible_moves)\n",
    "# # while len(possible_moves) > 0:\n",
    "# while len(possible_moves) > 0:\n",
    "#     print(\"---------------------------------------------\")\n",
    "#     print(\"PLAYER: \",game_state.current_player)\n",
    "#     print(\"player_value = \", get_player_value(game_state))\n",
    "#     possible_moves, mat = actions(game_state)\n",
    "#     print(\"POSSIBLE MOVES: \",possible_moves)\n",
    "#     print(game_state.game_board)\n",
    "#     action = input()   \n",
    "#     game_state = result(game_state, action.upper())\n",
    "#     game_state.current_player = change_player(game_state)"
   ]
  },
  {
   "cell_type": "code",
   "execution_count": 31,
   "id": "876045eb",
   "metadata": {},
   "outputs": [
    {
     "name": "stdout",
     "output_type": "stream",
     "text": [
      "   COMPUTER  HUMAN\n",
      "0        32     32\n",
      "1        35      7\n",
      "2        19     11\n",
      "3        35     29\n",
      "4        35     28\n",
      "5        14     50\n",
      "6        31     33\n",
      "7        23     15\n",
      "8        21      9\n",
      "9        34     30\n",
      "AVG COMPUTER:  27.9\n",
      "AVG HUMAN:  24.4\n"
     ]
    }
   ],
   "source": [
    "import pandas as pd \n",
    "df_Heuristic_1 = pd.read_csv(\"Heuristic_1.csv\",sep=';') \n",
    "print(df_Heuristic_1)\n",
    "meanComputer=df_Heuristic_1['COMPUTER'].mean()\n",
    "meanHuman=df_Heuristic_1['HUMAN'].mean()\n",
    "print(\"AVG COMPUTER: \",meanComputer)\n",
    "print(\"AVG HUMAN: \",meanHuman)"
   ]
  },
  {
   "cell_type": "code",
   "execution_count": 39,
   "id": "c030cce2",
   "metadata": {},
   "outputs": [
    {
     "data": {
      "image/png": "[encoded data removed]",
      "text/plain": [
       "<Figure size 432x288 with 1 Axes>"
      ]
     },
     "metadata": {},
     "output_type": "display_data"
    }
   ],
   "source": [
    "avgNumber = [27.9, 24.4]\n",
    "AVG = [\"AVG COMPUTER\",\"AVG HUMAN\"]\n",
    "plt.pie(avgNumber, labels=AVG, autopct=\"%0.1f %%\")\n",
    "plt.axis(\"equal\")\n",
    "plt.show()"
   ]
  },
  {
   "cell_type": "code",
   "execution_count": 36,
   "id": "afaca7da",
   "metadata": {},
   "outputs": [
    {
     "name": "stdout",
     "output_type": "stream",
     "text": [
      "    Depth_1  Depth_3  Depth_5\n",
      "0     0.014    0.681   11.471\n",
      "1     4.414    1.299    7.639\n",
      "2     0.016    0.562   12.397\n",
      "3     1.313    1.440    7.531\n",
      "4     0.024    0.833    2.818\n",
      "5     0.896    1.012   18.317\n",
      "6     0.019    0.691   11.219\n",
      "7     0.898    0.952    3.604\n",
      "8     0.005    0.608    7.535\n",
      "9     0.826    7.928    9.574\n",
      "10    0.024    0.979    4.768\n",
      "11    1.201    1.322    9.841\n",
      "12    0.013    1.199    6.768\n",
      "13    0.958    1.097    9.841\n",
      "14    0.009    0.653    4.014\n",
      "15    1.292    1.228    2.966\n",
      "16    0.029    0.419   11.471\n",
      "17    1.001    1.013    9.574\n",
      "18    0.024    0.589   18.317\n",
      "19    0.909    1.366   11.471\n",
      "20    0.018    0.951    7.535\n",
      "21    1.378    1.028   14.768\n",
      "22    0.027    0.141   10.471\n",
      "23    1.098    3.676   17.535\n",
      "24    0.022    0.398   11.471\n",
      "25    0.989    1.157   16.768\n",
      "26    0.019    0.198   13.604\n",
      "27    0.934    7.381   18.317\n",
      "28    0.036    0.202   19.574\n",
      "29    1.303    6.709   11.471\n",
      "AVG DEPTH_1:  0.6569666666666667\n",
      "AVG DEPTH_3:  1.5904\n",
      "AVG DEPTH_5:  10.755\n"
     ]
    }
   ],
   "source": [
    "df_depth1_3_5 = pd.read_csv(\"depth_1_3_5.csv\", sep=\";\") \n",
    "print(df_depth1_3_5)\n",
    "mean1=df_depth1_3_5['Depth_1'].mean()\n",
    "mean3=df_depth1_3_5['Depth_3'].mean()\n",
    "mean5=df_depth1_3_5['Depth_5'].mean()\n",
    "print(\"AVG DEPTH_1: \",mean1)\n",
    "print(\"AVG DEPTH_3: \",mean3)\n",
    "print(\"AVG DEPTH_5: \",mean5)"
   ]
  },
  {
   "cell_type": "code",
   "execution_count": 41,
   "id": "4b557edb",
   "metadata": {},
   "outputs": [
    {
     "data": {
      "image/png": "[encoded data removed]",
      "text/plain": [
       "<Figure size 432x288 with 1 Axes>"
      ]
     },
     "metadata": {
      "needs_background": "light"
     },
     "output_type": "display_data"
    }
   ],
   "source": [
    "eje_y = [0.6569,1.5904, 10.755]\n",
    "eje_x = [\"AVG DEPTH_1\",\"AVG DEPTH_3\",\"AVG DEPTH_5\"]\n",
    "plt.bar(eje_x, eje_y)\n",
    "plt.ylabel('Time(s)')\n",
    "plt.xlabel('Depth')\n",
    "plt.show()"
   ]
  }
 ],
 "metadata": {
  "kernelspec": {
   "display_name": "Python 3 (ipykernel)",
   "language": "python",
   "name": "python3"
  },
  "language_info": {
   "codemirror_mode": {
    "name": "ipython",
    "version": 3
   },
   "file_extension": ".py",
   "mimetype": "text/x-python",
   "name": "python",
   "nbconvert_exporter": "python",
   "pygments_lexer": "ipython3",
   "version": "3.8.3"
  }
 },
 "nbformat": 4,
 "nbformat_minor": 5
}
